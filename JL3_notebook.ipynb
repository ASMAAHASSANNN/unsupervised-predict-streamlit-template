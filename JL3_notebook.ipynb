{
  "metadata": {
    "kernelspec": {
      "name": "python3",
      "display_name": "Python 3",
      "language": "python"
    },
    "language_info": {
      "name": "python",
      "version": "3.10.12",
      "mimetype": "text/x-python",
      "codemirror_mode": {
        "name": "ipython",
        "version": 3
      },
      "pygments_lexer": "ipython3",
      "nbconvert_exporter": "python",
      "file_extension": ".py"
    },
    "kaggle": {
      "accelerator": "none",
      "dataSources": [
        {
          "sourceId": 64431,
          "databundleVersionId": 7061481,
          "sourceType": "competition"
        },
        {
          "sourceId": 7428762,
          "sourceType": "datasetVersion",
          "datasetId": 4322895
        }
      ],
      "dockerImageVersionId": 30635,
      "isInternetEnabled": true,
      "language": "python",
      "sourceType": "notebook",
      "isGpuEnabled": false
    },
    "colab": {
      "name": "JL3 notebook.ipynb",
      "provenance": [],
      "include_colab_link": true
    }
  },
  "nbformat_minor": 0,
  "nbformat": 4,
  "cells": [
    {
      "cell_type": "markdown",
      "metadata": {
        "id": "view-in-github",
        "colab_type": "text"
      },
      "source": [
        "<a href=\"https://colab.research.google.com/github/ASMAAHASSANNN/unsupervised-predict-streamlit-template/blob/master/JL3_notebook.ipynb\" target=\"_parent\"><img src=\"https://colab.research.google.com/assets/colab-badge.svg\" alt=\"Open In Colab\"/></a>"
      ]
    },
    {
      "source": [
        "\n",
        "# IMPORTANT: RUN THIS CELL IN ORDER TO IMPORT YOUR KAGGLE DATA SOURCES\n",
        "# TO THE CORRECT LOCATION (/kaggle/input) IN YOUR NOTEBOOK,\n",
        "# THEN FEEL FREE TO DELETE THIS CELL.\n",
        "# NOTE: THIS NOTEBOOK ENVIRONMENT DIFFERS FROM KAGGLE'S PYTHON\n",
        "# ENVIRONMENT SO THERE MAY BE MISSING LIBRARIES USED BY YOUR\n",
        "# NOTEBOOK.\n",
        "\n",
        "import os\n",
        "import sys\n",
        "from tempfile import NamedTemporaryFile\n",
        "from urllib.request import urlopen\n",
        "from urllib.parse import unquote, urlparse\n",
        "from urllib.error import HTTPError\n",
        "from zipfile import ZipFile\n",
        "import tarfile\n",
        "import shutil\n",
        "\n",
        "CHUNK_SIZE = 40960\n",
        "DATA_SOURCE_MAPPING = 'ea-movie-recommendation-predict-2023-2024:https%3A%2F%2Fstorage.googleapis.com%2Fkaggle-competitions-data%2Fkaggle-v2%2F64431%2F7061481%2Fbundle%2Farchive.zip%3FX-Goog-Algorithm%3DGOOG4-RSA-SHA256%26X-Goog-Credential%3Dgcp-kaggle-com%2540kaggle-161607.iam.gserviceaccount.com%252F20240202%252Fauto%252Fstorage%252Fgoog4_request%26X-Goog-Date%3D20240202T011706Z%26X-Goog-Expires%3D259200%26X-Goog-SignedHeaders%3Dhost%26X-Goog-Signature%3D80378647061ec99bb49874cebe1d39092feefbcfea2c6d37675eace560379c468c5b73b2b92e8448861937eee71879e61efe87dc3ea1bae9fd8e575094748f30b1e8f10d5c08843c565edda1487e611bf07c366813e2d56f4a659c54fe7a312357d55e1a4a75ed5a8fbca18dece6d878c9d8a951bd04ae7ce886eaff73f573256d2c0a758bce62dcde2ce2c499ed8df6567433a8d21b7ee9887b9266cc5d438cdf82c96b3bc96d485ea1fb56f784d5df37383e6bca1f10fe984f6a42f85970f67bfedc4dba0c4786782a1fe1fbf99a8ce04bdd6b3a6f60447a04ef5cd967cf2023619c66f306655f73ea3c5843b8b1f67d11657cce16a5e0bcbcc4eafa6e29c5,ea-movies:https%3A%2F%2Fstorage.googleapis.com%2Fkaggle-data-sets%2F4322895%2F7428762%2Fbundle%2Farchive.zip%3FX-Goog-Algorithm%3DGOOG4-RSA-SHA256%26X-Goog-Credential%3Dgcp-kaggle-com%2540kaggle-161607.iam.gserviceaccount.com%252F20240202%252Fauto%252Fstorage%252Fgoog4_request%26X-Goog-Date%3D20240202T011706Z%26X-Goog-Expires%3D259200%26X-Goog-SignedHeaders%3Dhost%26X-Goog-Signature%3Dc0df8da8324b5e8714c9a7031768a7dbb4a7e7bc7fb89fb82e80c213fcbdff9212b29919d951ffc83e24fb1c32f5882354c5906cca828ec6a1f0ad24d319b7103dd2efaea86dbd36a4ac3fefc3026d1ae4efc3e3d22493fcbefb661a3bfb45987223eb8b2278b6bdb3bbd4ae1171643a0d05259b5f78675566e99ef963adfd92120f8b57c70089b2121d3f20c99698a4b6f7f034c958db3129be0da444b4e00d93fa15fb32678cac9e86b9b1f9c860ff84168c55922308226fb45aef42f20fce3b61076acc19248d2a60489c7749947f5a29eca410d466c0cce044bc70c16d34029c032084b4fa012113fc0a48a368768501f0989c84b2dc58df5f5d68bffcda'\n",
        "\n",
        "KAGGLE_INPUT_PATH='/kaggle/input'\n",
        "KAGGLE_WORKING_PATH='/kaggle/working'\n",
        "KAGGLE_SYMLINK='kaggle'\n",
        "\n",
        "!umount /kaggle/input/ 2> /dev/null\n",
        "shutil.rmtree('/kaggle/input', ignore_errors=True)\n",
        "os.makedirs(KAGGLE_INPUT_PATH, 0o777, exist_ok=True)\n",
        "os.makedirs(KAGGLE_WORKING_PATH, 0o777, exist_ok=True)\n",
        "\n",
        "try:\n",
        "  os.symlink(KAGGLE_INPUT_PATH, os.path.join(\"..\", 'input'), target_is_directory=True)\n",
        "except FileExistsError:\n",
        "  pass\n",
        "try:\n",
        "  os.symlink(KAGGLE_WORKING_PATH, os.path.join(\"..\", 'working'), target_is_directory=True)\n",
        "except FileExistsError:\n",
        "  pass\n",
        "\n",
        "for data_source_mapping in DATA_SOURCE_MAPPING.split(','):\n",
        "    directory, download_url_encoded = data_source_mapping.split(':')\n",
        "    download_url = unquote(download_url_encoded)\n",
        "    filename = urlparse(download_url).path\n",
        "    destination_path = os.path.join(KAGGLE_INPUT_PATH, directory)\n",
        "    try:\n",
        "        with urlopen(download_url) as fileres, NamedTemporaryFile() as tfile:\n",
        "            total_length = fileres.headers['content-length']\n",
        "            print(f'Downloading {directory}, {total_length} bytes compressed')\n",
        "            dl = 0\n",
        "            data = fileres.read(CHUNK_SIZE)\n",
        "            while len(data) > 0:\n",
        "                dl += len(data)\n",
        "                tfile.write(data)\n",
        "                done = int(50 * dl / int(total_length))\n",
        "                sys.stdout.write(f\"\\r[{'=' * done}{' ' * (50-done)}] {dl} bytes downloaded\")\n",
        "                sys.stdout.flush()\n",
        "                data = fileres.read(CHUNK_SIZE)\n",
        "            if filename.endswith('.zip'):\n",
        "              with ZipFile(tfile) as zfile:\n",
        "                zfile.extractall(destination_path)\n",
        "            else:\n",
        "              with tarfile.open(tfile.name) as tarfile:\n",
        "                tarfile.extractall(destination_path)\n",
        "            print(f'\\nDownloaded and uncompressed: {directory}')\n",
        "    except HTTPError as e:\n",
        "        print(f'Failed to load (likely expired) {download_url} to path {destination_path}')\n",
        "        continue\n",
        "    except OSError as e:\n",
        "        print(f'Failed to load {download_url} to path {destination_path}')\n",
        "        continue\n",
        "\n",
        "print('Data source import complete.')\n"
      ],
      "metadata": {
        "id": "WO7Hgm09eaTX"
      },
      "cell_type": "code",
      "outputs": [],
      "execution_count": null
    },
    {
      "cell_type": "markdown",
      "source": [
        "  #                  JL3 UNSUPERVISED LEARNING PREDICT"
      ],
      "metadata": {
        "id": "SisJGnsNeaTa"
      }
    },
    {
      "cell_type": "code",
      "source": [
        "\n",
        "from IPython.display import Image, display\n",
        "\n",
        "display(Image(url=\"https://github.com/Explore-AI/Pictures/blob/master/sql_tmdb.jpg?raw=true\", width=700))\n",
        "\n"
      ],
      "metadata": {
        "execution": {
          "iopub.status.busy": "2024-02-01T14:31:46.519953Z",
          "iopub.execute_input": "2024-02-01T14:31:46.5204Z",
          "iopub.status.idle": "2024-02-01T14:31:46.528783Z",
          "shell.execute_reply.started": "2024-02-01T14:31:46.520368Z",
          "shell.execute_reply": "2024-02-01T14:31:46.527684Z"
        },
        "trusted": true,
        "colab": {
          "base_uri": "https://localhost:8080/",
          "height": 488
        },
        "id": "flRe1L8IeaTd",
        "outputId": "098b9a88-90da-4953-ef64-7c3d1bf7d5f0"
      },
      "execution_count": 1,
      "outputs": [
        {
          "output_type": "display_data",
          "data": {
            "text/html": [
              "<img src=\"https://github.com/Explore-AI/Pictures/blob/master/sql_tmdb.jpg?raw=true\" width=\"700\"/>"
            ],
            "text/plain": [
              "<IPython.core.display.Image object>"
            ]
          },
          "metadata": {}
        }
      ]
    },
    {
      "cell_type": "markdown",
      "source": [
        "## Description\n",
        "this notebook explore the functions and processes of building a recommender system for movies as the task was administered\n",
        "\n"
      ],
      "metadata": {
        "id": "64b_9LqaeaTe"
      }
    },
    {
      "cell_type": "markdown",
      "source": [
        "# List of All Files in Directory"
      ],
      "metadata": {
        "id": "dH0lLdzgeaTe"
      }
    },
    {
      "cell_type": "code",
      "source": [
        "import numpy as np\n",
        "import pandas as pd\n",
        "\n",
        "import os\n",
        "for dirname, _, filenames in os.walk('/kaggle/input'):\n",
        "    for filename in filenames:\n",
        "\n",
        "        print(os.path.join(dirname, filename))"
      ],
      "metadata": {
        "execution": {
          "iopub.status.busy": "2024-02-01T14:31:46.533181Z",
          "iopub.execute_input": "2024-02-01T14:31:46.533556Z",
          "iopub.status.idle": "2024-02-01T14:31:46.577596Z",
          "shell.execute_reply.started": "2024-02-01T14:31:46.533525Z",
          "shell.execute_reply": "2024-02-01T14:31:46.576885Z"
        },
        "trusted": true,
        "id": "y0rDr-9oeaTf",
        "outputId": "ff38b2ec-1dd5-45c2-ca2f-d444b80da42a"
      },
      "execution_count": null,
      "outputs": [
        {
          "name": "stdout",
          "text": "/kaggle/input/ea-movies/sample_submission.csv\n/kaggle/input/ea-movies/movies.csv\n/kaggle/input/ea-movies/imdb_data.csv\n/kaggle/input/ea-movies/genome_tags.csv\n/kaggle/input/ea-movies/genome_scores.csv\n/kaggle/input/ea-movies/train.csv\n/kaggle/input/ea-movies/test.csv\n/kaggle/input/ea-movies/tags.csv\n/kaggle/input/ea-movies/links.csv\n",
          "output_type": "stream"
        }
      ]
    },
    {
      "cell_type": "markdown",
      "source": [
        "# Installing Packages"
      ],
      "metadata": {
        "id": "j_T-JML9eaTg"
      }
    },
    {
      "cell_type": "code",
      "source": [
        "!pip --version\n",
        "\n"
      ],
      "metadata": {
        "execution": {
          "iopub.status.busy": "2024-02-01T14:33:28.135274Z",
          "iopub.execute_input": "2024-02-01T14:33:28.13636Z",
          "iopub.status.idle": "2024-02-01T14:33:28.802135Z",
          "shell.execute_reply.started": "2024-02-01T14:33:28.136289Z",
          "shell.execute_reply": "2024-02-01T14:33:28.800574Z"
        },
        "trusted": true,
        "id": "JCHi3W99eaTg",
        "outputId": "a1643b9e-8370-4bce-a839-119dc9dcccd3"
      },
      "execution_count": null,
      "outputs": [
        {
          "name": "stdout",
          "text": "pip 23.3.2 from /opt/conda/lib/python3.10/site-packages/pip (python 3.10)\n",
          "output_type": "stream"
        }
      ]
    },
    {
      "cell_type": "code",
      "source": [
        "!pip install --upgrade pip\n",
        "\n"
      ],
      "metadata": {
        "execution": {
          "iopub.status.busy": "2024-02-01T14:33:33.829658Z",
          "iopub.execute_input": "2024-02-01T14:33:33.830056Z",
          "iopub.status.idle": "2024-02-01T14:33:43.167765Z",
          "shell.execute_reply.started": "2024-02-01T14:33:33.830029Z",
          "shell.execute_reply": "2024-02-01T14:33:43.166913Z"
        },
        "trusted": true,
        "id": "0E954Fu3eaTh",
        "outputId": "eb7bb37c-a4ef-4141-8eda-7e58fcb810f7"
      },
      "execution_count": null,
      "outputs": [
        {
          "name": "stdout",
          "text": "Requirement already satisfied: pip in /opt/conda/lib/python3.10/site-packages (23.3.2)\n",
          "output_type": "stream"
        }
      ]
    },
    {
      "cell_type": "code",
      "source": [
        "# Install packages here\n",
        "# !pip install --upgrade pip\n",
        "\n",
        "# !pip install comet_ml\n",
        "\n",
        "# Packages for data processing\n",
        "import numpy as np\n",
        "import pandas as pd\n",
        "import gc\n",
        "\n",
        "\n",
        "import datetime\n",
        "from sklearn import preprocessing\n",
        "from sklearn.datasets import make_blobs\n",
        "from sklearn.preprocessing import StandardScaler\n",
        "from sklearn.feature_extraction.text import TfidfVectorizer\n",
        "from sklearn.metrics.pairwise import cosine_similarity\n",
        "import re\n",
        "from scipy.sparse import csr_matrix\n",
        "import scipy as sp\n",
        "\n",
        "\n",
        "\n",
        "# Packages for visualization\n",
        "import matplotlib.pyplot as plt\n",
        "import seaborn as sns\n",
        "from wordcloud import WordCloud\n",
        "%matplotlib inline\n",
        "sns.set_theme()\n",
        "\n",
        "# Packages for modeling\n",
        "from surprise import Reader\n",
        "from surprise import Dataset\n",
        "from surprise import KNNWithMeans\n",
        "from surprise import KNNBasic\n",
        "from surprise.model_selection import train_test_split\n",
        "from surprise.model_selection import cross_validate\n",
        "from surprise.model_selection import GridSearchCV\n",
        "from surprise import SVD\n",
        "from surprise import SVDpp\n",
        "from surprise import NMF\n",
        "from surprise import SlopeOne\n",
        "from surprise import CoClustering\n",
        "from surprise import KNNBaseline\n",
        "from surprise import NormalPredictor\n",
        "from surprise import BaselineOnly\n",
        "from sklearn.metrics.pairwise import linear_kernel\n",
        "import heapq\n",
        "\n",
        "# Packages for model evaluation\n",
        "from sklearn.metrics import mean_squared_error\n",
        "from sklearn.metrics import mean_absolute_error\n",
        "from time import time\n",
        "\n",
        "# Package to suppress warnings\n",
        "import warnings\n",
        "warnings.filterwarnings(\"ignore\")\n",
        "\n",
        "\n",
        "\n",
        "# Packages for saving models\n",
        "import pickle"
      ],
      "metadata": {
        "execution": {
          "iopub.status.busy": "2024-02-01T14:35:10.599309Z",
          "iopub.execute_input": "2024-02-01T14:35:10.599711Z",
          "iopub.status.idle": "2024-02-01T14:35:10.611837Z",
          "shell.execute_reply.started": "2024-02-01T14:35:10.599684Z",
          "shell.execute_reply": "2024-02-01T14:35:10.610696Z"
        },
        "trusted": true,
        "id": "dShOyFAQeaTh"
      },
      "execution_count": null,
      "outputs": []
    },
    {
      "cell_type": "code",
      "source": [
        "# Install packages here\n",
        "# !pip install --upgrade pip\n",
        "# !pip install comet_ml\n",
        "\n",
        "# Packages for data processing\n",
        "import numpy as np\n",
        "import pandas as pd\n",
        "from sklearn import preprocessing\n",
        "from sklearn.datasets import make_blobs\n",
        "from sklearn.preprocessing import StandardScaler\n",
        "from sklearn.feature_extraction.text import TfidfVectorizer\n",
        "from sklearn.metrics.pairwise import cosine_similarity\n",
        "from scipy.sparse import csr_matrix\n",
        "import scipy as sp\n",
        "import re\n",
        "import gc\n",
        "\n",
        "# Packages for visualization\n",
        "import matplotlib.pyplot as plt\n",
        "import seaborn as sns\n",
        "from wordcloud import WordCloud\n",
        "%matplotlib inline\n",
        "sns.set_theme()\n",
        "\n",
        "# Packages for modeling\n",
        "\n",
        "from sklearn.model_selection import train_test_split\n",
        "\n",
        "from surprise import SVD, SVDpp, NMF, SlopeOne, CoClustering, KNNBaseline, NormalPredictor, BaselineOnly\n",
        "from sklearn.metrics.pairwise import linear_kernel\n",
        "import heapq\n",
        "\n",
        "# Packages for model evaluation\n",
        "from sklearn.metrics import mean_squared_error, mean_absolute_error\n",
        "from time import time\n",
        "\n",
        "# Package to suppress warnings\n",
        "import warnings\n",
        "warnings.filterwarnings(\"ignore\")\n",
        "\n",
        "# Packages for saving models\n",
        "import pickle\n"
      ],
      "metadata": {
        "execution": {
          "iopub.status.busy": "2024-02-01T15:13:27.425091Z",
          "iopub.execute_input": "2024-02-01T15:13:27.425391Z",
          "iopub.status.idle": "2024-02-01T15:13:27.437141Z",
          "shell.execute_reply.started": "2024-02-01T15:13:27.425367Z",
          "shell.execute_reply": "2024-02-01T15:13:27.436308Z"
        },
        "trusted": true,
        "id": "mUjhVN0ReaTi"
      },
      "execution_count": null,
      "outputs": []
    },
    {
      "cell_type": "markdown",
      "source": [
        "## Reading In data and Overview\n",
        "\n",
        "This dataset consists of several million 5-star ratings obtained from users of the online MovieLens movie recommendation service. The MovieLens dataset has long been used by industry and academic researchers to improve the performance of explicitly-based recommender systems, and now you get to as well!\n",
        "\n",
        "For this Predict, we'll be using a special version of the MovieLens dataset which has enriched with additional data, and resampled for fair evaluation purposes.\n",
        "\n",
        "The data for the MovieLens dataset is maintained by the GroupLens research group in the Department of Computer Science and Engineering at the University of Minnesota. Additional movie content data was legally scraped from IMDB"
      ],
      "metadata": {
        "id": "f5jAs0eOeaTj"
      }
    },
    {
      "cell_type": "markdown",
      "source": [
        "# Loading data"
      ],
      "metadata": {
        "id": "WLIy2oT3eaTj"
      }
    },
    {
      "cell_type": "code",
      "source": [
        "df_sample_submission = pd.read_csv('/kaggle/input/ea-movies/sample_submission.csv')\n",
        "df_movies = pd.read_csv('/kaggle/input/ea-movies/movies.csv')\n",
        "df_imdb_data = pd.read_csv('/kaggle/input/ea-movies/imdb_data.csv')\n",
        "df_genome_scores = pd.read_csv('/kaggle/input/ea-movies/genome_scores.csv')\n",
        "df_genome_tags = pd.read_csv('/kaggle/input/ea-movies/genome_tags.csv')\n",
        "df_train = pd.read_csv('/kaggle/input/ea-movies/train.csv')\n",
        "df_test = pd.read_csv('/kaggle/input/ea-movies/test.csv')\n",
        "df_tags = pd.read_csv('/kaggle/input/ea-movies/tags.csv')\n",
        "df_links = pd.read_csv('/kaggle/input/ea-movies/links.csv')\n"
      ],
      "metadata": {
        "execution": {
          "iopub.status.busy": "2024-02-01T15:13:32.642578Z",
          "iopub.execute_input": "2024-02-01T15:13:32.64298Z",
          "iopub.status.idle": "2024-02-01T15:13:41.669293Z",
          "shell.execute_reply.started": "2024-02-01T15:13:32.642949Z",
          "shell.execute_reply": "2024-02-01T15:13:41.668228Z"
        },
        "trusted": true,
        "id": "wk2KofiseaTk"
      },
      "execution_count": null,
      "outputs": []
    },
    {
      "cell_type": "markdown",
      "source": [
        "## Data Cleaning"
      ],
      "metadata": {
        "id": "qlhzOwc_eaTl"
      }
    },
    {
      "cell_type": "code",
      "source": [
        "import pandas as pd\n",
        "\n",
        "# Assuming you have loaded or created df_train\n",
        "# Replace '/kaggle/input/ea-movies/train.csv' with the actual file path\n",
        "df_train = pd.read_csv('/kaggle/input/ea-movies/train.csv')\n",
        "\n",
        "# Display the head of df_train\n",
        "df_train.head()\n"
      ],
      "metadata": {
        "execution": {
          "iopub.status.busy": "2024-02-01T15:13:49.777362Z",
          "iopub.execute_input": "2024-02-01T15:13:49.777761Z",
          "iopub.status.idle": "2024-02-01T15:13:52.171085Z",
          "shell.execute_reply.started": "2024-02-01T15:13:49.777732Z",
          "shell.execute_reply": "2024-02-01T15:13:52.170294Z"
        },
        "trusted": true,
        "id": "eDfrke3deaTl",
        "outputId": "8ad9168f-5e6d-4ec2-a6c9-d921273b79e2"
      },
      "execution_count": null,
      "outputs": [
        {
          "execution_count": 39,
          "output_type": "execute_result",
          "data": {
            "text/plain": "   userId  movieId  rating   timestamp\n0    5163    57669     4.0  1518349992\n1  106343        5     4.5  1206238739\n2  146790     5459     5.0  1076215539\n3  106362    32296     2.0  1423042565\n4    9041      366     3.0   833375837",
            "text/html": "<div>\n<style scoped>\n    .dataframe tbody tr th:only-of-type {\n        vertical-align: middle;\n    }\n\n    .dataframe tbody tr th {\n        vertical-align: top;\n    }\n\n    .dataframe thead th {\n        text-align: right;\n    }\n</style>\n<table border=\"1\" class=\"dataframe\">\n  <thead>\n    <tr style=\"text-align: right;\">\n      <th></th>\n      <th>userId</th>\n      <th>movieId</th>\n      <th>rating</th>\n      <th>timestamp</th>\n    </tr>\n  </thead>\n  <tbody>\n    <tr>\n      <th>0</th>\n      <td>5163</td>\n      <td>57669</td>\n      <td>4.0</td>\n      <td>1518349992</td>\n    </tr>\n    <tr>\n      <th>1</th>\n      <td>106343</td>\n      <td>5</td>\n      <td>4.5</td>\n      <td>1206238739</td>\n    </tr>\n    <tr>\n      <th>2</th>\n      <td>146790</td>\n      <td>5459</td>\n      <td>5.0</td>\n      <td>1076215539</td>\n    </tr>\n    <tr>\n      <th>3</th>\n      <td>106362</td>\n      <td>32296</td>\n      <td>2.0</td>\n      <td>1423042565</td>\n    </tr>\n    <tr>\n      <th>4</th>\n      <td>9041</td>\n      <td>366</td>\n      <td>3.0</td>\n      <td>833375837</td>\n    </tr>\n  </tbody>\n</table>\n</div>"
          },
          "metadata": {}
        }
      ]
    },
    {
      "cell_type": "markdown",
      "source": [
        "The train dataframe has 4 columns:\n",
        "* userId - Id assigned to each user in our dataset\n",
        "* movieId - Id assigned to each movie title\n",
        "* rating - rating assigned to a specific movie by a specific user.\n",
        " * ratings are made on a 5-star scale, with half-star increments (0.5 stars - 5.0 stars)\n",
        "* timestamp - represent seconds since midnight Coordinated Universal Time (UTC) of January 1, 1970."
      ],
      "metadata": {
        "id": "xnl7hUu9eaTm"
      }
    },
    {
      "cell_type": "code",
      "source": [
        "print('df_train has '+str(len(df_train))+' observations')"
      ],
      "metadata": {
        "execution": {
          "iopub.status.busy": "2024-02-01T14:52:00.887055Z",
          "iopub.execute_input": "2024-02-01T14:52:00.88745Z",
          "iopub.status.idle": "2024-02-01T14:52:00.892044Z",
          "shell.execute_reply.started": "2024-02-01T14:52:00.887415Z",
          "shell.execute_reply": "2024-02-01T14:52:00.89124Z"
        },
        "trusted": true,
        "id": "ZB3736AOeaTm",
        "outputId": "a76e15b5-b072-44af-b7f2-4ccb2eb90f00"
      },
      "execution_count": null,
      "outputs": [
        {
          "name": "stdout",
          "text": "df_train has 10000038 observations\n",
          "output_type": "stream"
        }
      ]
    },
    {
      "cell_type": "code",
      "source": [
        "import pandas as pd\n",
        "import numpy as np\n",
        "from scipy.stats import zscore\n",
        "\n",
        "# Assuming 'train' is your DataFrame, replace it with your actual DataFrame variable\n",
        "\n",
        "# Display the first few rows of the DataFrame before performing data quality checks\n",
        "print(\"Initial DataFrame:\")\n",
        "print(df_train.head())\n",
        "\n",
        "# Check for Missing Values in Each Column\n",
        "missing_values = df_train.isnull().sum()\n",
        "print(\"\\nMissing Values in Each Column:\")\n",
        "print(missing_values)\n",
        "\n",
        "# Check for Duplicates in the Entire DataFrame\n",
        "duplicate_rows = df_train[df_train.duplicated()]\n",
        "print(\"\\nDuplicate Rows in the Entire DataFrame:\")\n",
        "print(duplicate_rows)\n",
        "\n",
        "# Check for Outliers in Numerical Columns (using Z-score)\n",
        "z_scores = np.abs(zscore(df_train.select_dtypes(include=['number'])))\n",
        "outliers = (z_scores > 3).all(axis=1)\n",
        "outliers_df = df_train[outliers]\n",
        "print(\"\\nRows with Outliers:\")\n",
        "print(outliers_df)\n",
        "\n",
        "# Check for Consistency in Categorical Columns\n",
        "categorical_columns = df_train.select_dtypes(include=['object']).columns\n",
        "for col in categorical_columns:\n",
        "    unique_values = df_train[col].unique()\n",
        "    print(f\"\\nUnique values in {col}:\")\n",
        "    print(unique_values)\n",
        "\n",
        "# Check for Consistency in Numerical Columns\n",
        "numerical_columns = df_train.select_dtypes(include=['number']).columns\n",
        "for col in numerical_columns:\n",
        "    unique_values = df_train[col].unique()\n",
        "    print(f\"\\nUnique values in {col}:\")\n",
        "    print(unique_values)\n",
        "\n",
        "# Check for Zero Values in Numerical Columns\n",
        "zero_values = (df_train[numerical_columns] == 0).sum()\n",
        "print(\"\\nZero Values in Numerical Columns:\")\n",
        "print(zero_values)\n"
      ],
      "metadata": {
        "execution": {
          "iopub.status.busy": "2024-02-01T14:52:11.607686Z",
          "iopub.execute_input": "2024-02-01T14:52:11.608133Z",
          "iopub.status.idle": "2024-02-01T14:52:17.817765Z",
          "shell.execute_reply.started": "2024-02-01T14:52:11.608102Z",
          "shell.execute_reply": "2024-02-01T14:52:17.815412Z"
        },
        "trusted": true,
        "id": "gFjotubyeaTn",
        "outputId": "501846ba-ab51-4f1b-94c0-ba9bfcb55547"
      },
      "execution_count": null,
      "outputs": [
        {
          "name": "stdout",
          "text": "Initial DataFrame:\n   userId  movieId  rating   timestamp\n0    5163    57669     4.0  1518349992\n1  106343        5     4.5  1206238739\n2  146790     5459     5.0  1076215539\n3  106362    32296     2.0  1423042565\n4    9041      366     3.0   833375837\n\nMissing Values in Each Column:\nuserId       0\nmovieId      0\nrating       0\ntimestamp    0\ndtype: int64\n\nDuplicate Rows in the Entire DataFrame:\nEmpty DataFrame\nColumns: [userId, movieId, rating, timestamp]\nIndex: []\n\nRows with Outliers:\nEmpty DataFrame\nColumns: [userId, movieId, rating, timestamp]\nIndex: []\n\nUnique values in userId:\n[  5163 106343 146790 ...  79096  14908 102344]\n\nUnique values in movieId:\n[ 57669      5   5459 ... 206347 196867  97148]\n\nUnique values in rating:\n[4.  4.5 5.  2.  3.  1.  3.5 2.5 0.5 1.5]\n\nUnique values in timestamp:\n[1518349992 1206238739 1076215539 ... 1521235092 1227674807 1479921530]\n\nZero Values in Numerical Columns:\nuserId       0\nmovieId      0\nrating       0\ntimestamp    0\ndtype: int64\n",
          "output_type": "stream"
        }
      ]
    },
    {
      "cell_type": "code",
      "source": [
        "import pandas as pd\n",
        "\n",
        "# Creating the initial DataFrame\n",
        "data = pd.read_csv(\"/kaggle/input/ea-movies/train.csv\")\n",
        "\n",
        "df = pd.DataFrame(data)\n",
        "\n",
        "# Display the initial DataFrame\n",
        "print(\"Initial DataFrame:\")\n",
        "print(df)\n",
        "\n",
        "# Missing Values in Each Column\n",
        "missing_values = df.isnull().sum()\n",
        "print(\"\\nMissing Values in Each Column:\")\n",
        "print(missing_values)\n",
        "\n",
        "# Duplicate Rows in the Entire DataFrame\n",
        "duplicate_rows = df[df.duplicated()]\n",
        "print(\"\\nDuplicate Rows in the Entire DataFrame:\")\n",
        "print(duplicate_rows)\n",
        "\n",
        "\n",
        "\n",
        "# Unique values in userId, movieId, rating, timestamp\n",
        "unique_values_userId = df['userId'].unique()\n",
        "unique_values_movieId = df['movieId'].unique()\n",
        "unique_values_rating = df['rating'].unique()\n",
        "unique_values_timestamp = df['timestamp'].unique()\n",
        "\n",
        "print(\"\\nUnique values in userId:\")\n",
        "print(unique_values_userId)\n",
        "\n",
        "print(\"\\nUnique values in movieId:\")\n",
        "print(unique_values_movieId)\n",
        "\n",
        "print(\"\\nUnique values in rating:\")\n",
        "print(unique_values_rating)\n",
        "\n",
        "print(\"\\nUnique values in timestamp:\")\n",
        "print(unique_values_timestamp)\n",
        "\n",
        "# Zero Values in Numerical Columns\n",
        "zero_values = (df == 0).sum()\n",
        "print(\"\\nZero Values in Numerical Columns:\")\n",
        "print(zero_values)\n"
      ],
      "metadata": {
        "execution": {
          "iopub.status.busy": "2024-02-01T21:05:14.735961Z",
          "iopub.execute_input": "2024-02-01T21:05:14.736395Z",
          "iopub.status.idle": "2024-02-01T21:05:26.661398Z",
          "shell.execute_reply.started": "2024-02-01T21:05:14.736364Z",
          "shell.execute_reply": "2024-02-01T21:05:26.658987Z"
        },
        "trusted": true,
        "id": "CBSsYmc9eaTn",
        "outputId": "d1289620-ecbc-4ce1-de2c-1936e4687a57"
      },
      "execution_count": null,
      "outputs": [
        {
          "name": "stdout",
          "text": "Initial DataFrame:\n          userId  movieId  rating   timestamp\n0           5163    57669     4.0  1518349992\n1         106343        5     4.5  1206238739\n2         146790     5459     5.0  1076215539\n3         106362    32296     2.0  1423042565\n4           9041      366     3.0   833375837\n...          ...      ...     ...         ...\n10000033  136395    99114     5.0  1521235092\n10000034  140078      553     3.0  1002580977\n10000035  154807    56782     4.0  1227674807\n10000036   85805      327     4.0  1479921530\n10000037  139457     1009     4.0   858984862\n\n[10000038 rows x 4 columns]\n\nMissing Values in Each Column:\nuserId       0\nmovieId      0\nrating       0\ntimestamp    0\ndtype: int64\n\nDuplicate Rows in the Entire DataFrame:\nEmpty DataFrame\nColumns: [userId, movieId, rating, timestamp]\nIndex: []\n\nUnique values in userId:\n[  5163 106343 146790 ...  79096  14908 102344]\n\nUnique values in movieId:\n[ 57669      5   5459 ... 206347 196867  97148]\n\nUnique values in rating:\n[4.  4.5 5.  2.  3.  1.  3.5 2.5 0.5 1.5]\n\nUnique values in timestamp:\n[1518349992 1206238739 1076215539 ... 1521235092 1227674807 1479921530]\n\nZero Values in Numerical Columns:\nuserId       0\nmovieId      0\nrating       0\ntimestamp    0\ndtype: int64\n",
          "output_type": "stream"
        }
      ]
    },
    {
      "cell_type": "markdown",
      "source": [
        "## Movie Data"
      ],
      "metadata": {
        "id": "TmvhiJsZeaTo"
      }
    },
    {
      "cell_type": "code",
      "source": [
        "import from pandas as pd\n",
        "df_movies.tail()"
      ],
      "metadata": {
        "execution": {
          "iopub.status.busy": "2024-02-01T14:56:31.599942Z",
          "iopub.execute_input": "2024-02-01T14:56:31.600409Z",
          "iopub.status.idle": "2024-02-01T14:56:31.611358Z",
          "shell.execute_reply.started": "2024-02-01T14:56:31.600368Z",
          "shell.execute_reply": "2024-02-01T14:56:31.610301Z"
        },
        "trusted": true,
        "id": "B0J7d5I2eaTp",
        "outputId": "565800f9-2979-4874-f04c-ae73e1fc4e21"
      },
      "execution_count": null,
      "outputs": [
        {
          "execution_count": 33,
          "output_type": "execute_result",
          "data": {
            "text/plain": "       movieId                           title                  genres\n62418   209157                       We (2018)                   Drama\n62419   209159       Window of the Soul (2001)             Documentary\n62420   209163                Bad Poems (2018)            Comedy|Drama\n62421   209169             A Girl Thing (2001)      (no genres listed)\n62422   209171  Women of Devil's Island (1962)  Action|Adventure|Drama",
            "text/html": "<div>\n<style scoped>\n    .dataframe tbody tr th:only-of-type {\n        vertical-align: middle;\n    }\n\n    .dataframe tbody tr th {\n        vertical-align: top;\n    }\n\n    .dataframe thead th {\n        text-align: right;\n    }\n</style>\n<table border=\"1\" class=\"dataframe\">\n  <thead>\n    <tr style=\"text-align: right;\">\n      <th></th>\n      <th>movieId</th>\n      <th>title</th>\n      <th>genres</th>\n    </tr>\n  </thead>\n  <tbody>\n    <tr>\n      <th>62418</th>\n      <td>209157</td>\n      <td>We (2018)</td>\n      <td>Drama</td>\n    </tr>\n    <tr>\n      <th>62419</th>\n      <td>209159</td>\n      <td>Window of the Soul (2001)</td>\n      <td>Documentary</td>\n    </tr>\n    <tr>\n      <th>62420</th>\n      <td>209163</td>\n      <td>Bad Poems (2018)</td>\n      <td>Comedy|Drama</td>\n    </tr>\n    <tr>\n      <th>62421</th>\n      <td>209169</td>\n      <td>A Girl Thing (2001)</td>\n      <td>(no genres listed)</td>\n    </tr>\n    <tr>\n      <th>62422</th>\n      <td>209171</td>\n      <td>Women of Devil's Island (1962)</td>\n      <td>Action|Adventure|Drama</td>\n    </tr>\n  </tbody>\n</table>\n</div>"
          },
          "metadata": {}
        }
      ]
    },
    {
      "cell_type": "markdown",
      "source": [
        "This movies dataframe has 3 columns namely:\n",
        "* movieId\n",
        "* title of the movie\n",
        "* genres"
      ],
      "metadata": {
        "id": "bVm40cjneaTp"
      }
    },
    {
      "cell_type": "code",
      "source": [
        "#getting dimensions\n",
        "print(\"df_movies \"+ str(len(df_movies))+\" observations.\")"
      ],
      "metadata": {
        "execution": {
          "iopub.status.busy": "2024-02-01T15:14:21.178764Z",
          "iopub.execute_input": "2024-02-01T15:14:21.179141Z",
          "iopub.status.idle": "2024-02-01T15:14:21.184244Z",
          "shell.execute_reply.started": "2024-02-01T15:14:21.179115Z",
          "shell.execute_reply": "2024-02-01T15:14:21.183246Z"
        },
        "trusted": true,
        "id": "awI6oyiJeaTp",
        "outputId": "64962b97-67d7-4dc5-f01f-47531e937dcd"
      },
      "execution_count": null,
      "outputs": [
        {
          "name": "stdout",
          "text": "df_movies 62423 observations.\n",
          "output_type": "stream"
        }
      ]
    },
    {
      "cell_type": "code",
      "source": [
        "import pandas as pd\n",
        "\n",
        "# Given data file path\n",
        "file_path = '/kaggle/input/ea-movies/movies.csv'\n",
        "\n",
        "# Step 0: Read data from CSV file\n",
        "df = pd.read_csv(file_path)\n",
        "\n",
        "# Step 1: Check for Missing Values\n",
        "print(\"Missing Values:\")\n",
        "print(df.isnull().sum())\n",
        "\n",
        "# Step 2: Handle Missing Values (if any)\n",
        "# No missing values in this case\n",
        "\n",
        "# Step 3: Correct Data Types\n",
        "df['movieId'] = pd.to_numeric(df['movieId'], errors='coerce')\n",
        "\n",
        "# Step 4: Remove Duplicates\n",
        "df.drop_duplicates(inplace=True)\n",
        "df['title'] = df['title'].str[:-7]\n",
        "# Extract the release year from the 'title' column and create a new 'release_year' column\n",
        "\n",
        "# Step 5: Standardize Text Data\n",
        "df['title'] = df['title'].str.strip()\n",
        "\n",
        "\n",
        "# Step 6: Handle \"no genres listed\"\n",
        "df['genres'] = df['genres'].replace('(no genres listed)', 'Unknown')\n",
        "\n",
        "# Display the cleaned data\n",
        "print(\"\\nCleaned Data:\")\n",
        "print(df)\n"
      ],
      "metadata": {
        "execution": {
          "iopub.status.busy": "2024-02-01T18:20:46.367998Z",
          "iopub.execute_input": "2024-02-01T18:20:46.369276Z",
          "iopub.status.idle": "2024-02-01T18:20:46.492059Z",
          "shell.execute_reply.started": "2024-02-01T18:20:46.369224Z",
          "shell.execute_reply": "2024-02-01T18:20:46.491192Z"
        },
        "trusted": true,
        "id": "95VG99kqeaTq",
        "outputId": "f5a84ee9-22ee-4b70-d7f0-d3c757dddd8f"
      },
      "execution_count": null,
      "outputs": [
        {
          "name": "stdout",
          "text": "Missing Values:\nmovieId    0\ntitle      0\ngenres     0\ndtype: int64\n\nCleaned Data:\n       movieId                        title  \\\n0            1                    Toy Story   \n1            2                      Jumanji   \n2            3             Grumpier Old Men   \n3            4            Waiting to Exhale   \n4            5  Father of the Bride Part II   \n...        ...                          ...   \n62418   209157                           We   \n62419   209159           Window of the Soul   \n62420   209163                    Bad Poems   \n62421   209169                 A Girl Thing   \n62422   209171      Women of Devil's Island   \n\n                                            genres  \n0      Adventure|Animation|Children|Comedy|Fantasy  \n1                       Adventure|Children|Fantasy  \n2                                   Comedy|Romance  \n3                             Comedy|Drama|Romance  \n4                                           Comedy  \n...                                            ...  \n62418                                        Drama  \n62419                                  Documentary  \n62420                                 Comedy|Drama  \n62421                                      Unknown  \n62422                       Action|Adventure|Drama  \n\n[62423 rows x 3 columns]\n",
          "output_type": "stream"
        }
      ]
    },
    {
      "cell_type": "code",
      "source": [],
      "metadata": {
        "trusted": true,
        "id": "62Yup4IXeaTq"
      },
      "execution_count": null,
      "outputs": []
    },
    {
      "cell_type": "code",
      "source": [
        "import pandas as pd\n",
        "df_movies=pd.read_csv(\"/kaggle/input/ea-movies/movies.csv\")\n",
        "# Assuming 'imdb' is your DataFrame, replace it with your actual DataFrame variable\n",
        "\n",
        "# Display the number of missing values in each column before cleaning\n",
        "print(\"Missing Values in Each Column (Before Cleaning):\")\n",
        "print(df_movies.isnull().sum())\n",
        "\n",
        "# Drop rows with missing values\n",
        "df_movies_cleaned = df_movies.dropna()\n",
        "\n",
        "# Display the number of missing values in each column after cleaning\n",
        "print(\"\\nMissing Values in Each Column (After Cleaning):\")\n",
        "print(df_movies_cleaned.isnull().sum())\n"
      ],
      "metadata": {
        "execution": {
          "iopub.status.busy": "2024-02-01T18:30:27.809672Z",
          "iopub.execute_input": "2024-02-01T18:30:27.810027Z",
          "iopub.status.idle": "2024-02-01T18:30:27.994996Z",
          "shell.execute_reply.started": "2024-02-01T18:30:27.810003Z",
          "shell.execute_reply": "2024-02-01T18:30:27.994056Z"
        },
        "trusted": true,
        "id": "YWUlADTweaTq",
        "outputId": "f581569e-d656-4b84-d396-045e6b651150"
      },
      "execution_count": null,
      "outputs": [
        {
          "name": "stdout",
          "text": "Missing Values in Each Column (Before Cleaning):\nmovieId    0\ntitle      0\ngenres     0\ndtype: int64\n\nMissing Values in Each Column (After Cleaning):\nmovieId    0\ntitle      0\ngenres     0\ndtype: int64\n",
          "output_type": "stream"
        }
      ]
    },
    {
      "cell_type": "code",
      "source": [
        "import nltk\n",
        "from nltk.tokenize import word_tokenize\n",
        "\n",
        "# Download the punkt tokenizer (if not already downloaded)\n",
        "nltk.download('punkt')\n",
        "\n",
        "\n",
        "movie_titles =data = pd.read_csv(\"/kaggle/input/ea-movies/movies.csv\")\n",
        "movie_titles = pd.DataFrame(data)\n",
        "\n",
        "\n",
        "# Tokenize each movie title\n",
        "tokenized_titles = [word_tokenize(title) for title in movie_titles]\n",
        "\n",
        "# Display the tokenized titles\n",
        "for title, tokens in zip(movie_titles, tokenized_titles):\n",
        "    print(f\"Title: {title}\")\n",
        "    print(f\"Tokens: {tokens}\\n\")\n"
      ],
      "metadata": {
        "execution": {
          "iopub.status.busy": "2024-02-01T21:09:08.35405Z",
          "iopub.execute_input": "2024-02-01T21:09:08.354444Z",
          "iopub.status.idle": "2024-02-01T21:09:08.476743Z",
          "shell.execute_reply.started": "2024-02-01T21:09:08.354416Z",
          "shell.execute_reply": "2024-02-01T21:09:08.475867Z"
        },
        "trusted": true,
        "id": "VsVuNdMueaTr",
        "outputId": "96a5ec10-ee39-4f37-80eb-8dd7c0db579b"
      },
      "execution_count": null,
      "outputs": [
        {
          "name": "stdout",
          "text": "[nltk_data] Downloading package punkt to /usr/share/nltk_data...\n[nltk_data]   Package punkt is already up-to-date!\nTitle: movieId\nTokens: ['movieId']\n\nTitle: title\nTokens: ['title']\n\nTitle: genres\nTokens: ['genres']\n\n",
          "output_type": "stream"
        }
      ]
    },
    {
      "cell_type": "code",
      "source": [
        "import pandas as pd\n",
        "import re\n",
        "\n",
        "\n",
        "data = pd.read_csv(\"/kaggle/input/ea-movies/movies.csv\")\n",
        "movies = pd.DataFrame(data)\n",
        "\n",
        "# Data Cleaning Steps\n",
        "movies['cleaned_title'] = (\n",
        "    movies['title']\n",
        "    .str.lower()  # Convert to lowercase\n",
        "    .str.strip()  # Remove leading and trailing whitespaces\n",
        "    .apply(lambda x: re.sub(r'[^\\w\\s]', '', x))  # Remove special characters\n",
        "    .apply(lambda x: re.sub(r'\\s+', ' ', x))  # Standardize spaces\n",
        ")\n",
        "\n",
        "# Display the cleaned DataFrame\n",
        "print(\"Original DataFrame:\")\n",
        "print(movies[['title']])\n",
        "print(\"\\nDataFrame After Cleaning:\")\n",
        "print(movies[['cleaned_title']])\n"
      ],
      "metadata": {
        "execution": {
          "iopub.status.busy": "2024-02-01T21:09:12.690356Z",
          "iopub.execute_input": "2024-02-01T21:09:12.690701Z",
          "iopub.status.idle": "2024-02-01T21:09:13.028945Z",
          "shell.execute_reply.started": "2024-02-01T21:09:12.690676Z",
          "shell.execute_reply": "2024-02-01T21:09:13.028025Z"
        },
        "trusted": true,
        "id": "Zjt95hO6eaTr",
        "outputId": "02c2d3f5-d3b5-418b-f80e-86646a50e3cb"
      },
      "execution_count": null,
      "outputs": [
        {
          "name": "stdout",
          "text": "Original DataFrame:\n                                    title\n0                        Toy Story (1995)\n1                          Jumanji (1995)\n2                 Grumpier Old Men (1995)\n3                Waiting to Exhale (1995)\n4      Father of the Bride Part II (1995)\n...                                   ...\n62418                           We (2018)\n62419           Window of the Soul (2001)\n62420                    Bad Poems (2018)\n62421                 A Girl Thing (2001)\n62422      Women of Devil's Island (1962)\n\n[62423 rows x 1 columns]\n\nDataFrame After Cleaning:\n                          cleaned_title\n0                        toy story 1995\n1                          jumanji 1995\n2                 grumpier old men 1995\n3                waiting to exhale 1995\n4      father of the bride part ii 1995\n...                                 ...\n62418                           we 2018\n62419           window of the soul 2001\n62420                    bad poems 2018\n62421                 a girl thing 2001\n62422       women of devils island 1962\n\n[62423 rows x 1 columns]\n",
          "output_type": "stream"
        }
      ]
    },
    {
      "cell_type": "code",
      "source": [
        "import pandas as pd\n",
        "\n",
        "# Assuming 'movies' is your DataFrame and column names are as mentioned\n",
        "# Replace with your actual DataFrame and column names\n",
        "\n",
        "# Sample DataFrame\n",
        "data =pd.read_csv(\"/kaggle/input/ea-movies/movies.csv\")\n",
        "\n",
        "movies = pd.DataFrame(data)\n",
        "\n",
        "# Data Cleaning Steps\n",
        "movies['title'] = movies['title'].str.strip()  # Remove leading and trailing whitespaces\n",
        "\n",
        "# Split the genres into a list of genres\n",
        "movies['genres'] = movies['genres'].str.split('|')\n",
        "\n",
        "# Display the cleaned DataFrame\n",
        "print(\"Original DataFrame:\")\n",
        "print(movies)\n"
      ],
      "metadata": {
        "execution": {
          "iopub.status.busy": "2024-02-01T18:30:50.656748Z",
          "iopub.execute_input": "2024-02-01T18:30:50.657141Z",
          "iopub.status.idle": "2024-02-01T18:30:50.879952Z",
          "shell.execute_reply.started": "2024-02-01T18:30:50.657109Z",
          "shell.execute_reply": "2024-02-01T18:30:50.879243Z"
        },
        "trusted": true,
        "id": "j8eV3okHeaTs",
        "outputId": "69d60c64-1335-4986-b66f-329ebe7e5746"
      },
      "execution_count": null,
      "outputs": [
        {
          "name": "stdout",
          "text": "Original DataFrame:\n       movieId                               title  \\\n0            1                    Toy Story (1995)   \n1            2                      Jumanji (1995)   \n2            3             Grumpier Old Men (1995)   \n3            4            Waiting to Exhale (1995)   \n4            5  Father of the Bride Part II (1995)   \n...        ...                                 ...   \n62418   209157                           We (2018)   \n62419   209159           Window of the Soul (2001)   \n62420   209163                    Bad Poems (2018)   \n62421   209169                 A Girl Thing (2001)   \n62422   209171      Women of Devil's Island (1962)   \n\n                                                  genres  \n0      [Adventure, Animation, Children, Comedy, Fantasy]  \n1                         [Adventure, Children, Fantasy]  \n2                                      [Comedy, Romance]  \n3                               [Comedy, Drama, Romance]  \n4                                               [Comedy]  \n...                                                  ...  \n62418                                            [Drama]  \n62419                                      [Documentary]  \n62420                                    [Comedy, Drama]  \n62421                               [(no genres listed)]  \n62422                         [Action, Adventure, Drama]  \n\n[62423 rows x 3 columns]\n",
          "output_type": "stream"
        }
      ]
    },
    {
      "cell_type": "markdown",
      "source": [
        "## IMBD Data"
      ],
      "metadata": {
        "id": "4CkaJg1seaTs"
      }
    },
    {
      "cell_type": "code",
      "source": [
        "import pandas as pd\n",
        "df_imdb_data=pd.read_csv(\"/kaggle/input/ea-movies/imdb_data.csv\")\n",
        "df_imdb_data.head()"
      ],
      "metadata": {
        "execution": {
          "iopub.status.busy": "2024-02-01T18:35:08.983269Z",
          "iopub.execute_input": "2024-02-01T18:35:08.983672Z",
          "iopub.status.idle": "2024-02-01T18:35:09.136124Z",
          "shell.execute_reply.started": "2024-02-01T18:35:08.983645Z",
          "shell.execute_reply": "2024-02-01T18:35:09.135428Z"
        },
        "trusted": true,
        "id": "Sb28jJbveaTs",
        "outputId": "89d56df5-3615-40de-c1e5-19b0a41c6f7a"
      },
      "execution_count": null,
      "outputs": [
        {
          "execution_count": 16,
          "output_type": "execute_result",
          "data": {
            "text/plain": "   movieId                                         title_cast  \\\n0        1  Tom Hanks|Tim Allen|Don Rickles|Jim Varney|Wal...   \n1        2  Robin Williams|Jonathan Hyde|Kirsten Dunst|Bra...   \n2        3  Walter Matthau|Jack Lemmon|Sophia Loren|Ann-Ma...   \n3        4  Whitney Houston|Angela Bassett|Loretta Devine|...   \n4        5  Steve Martin|Diane Keaton|Martin Short|Kimberl...   \n\n              director  runtime       budget  \\\n0        John Lasseter     81.0  $30,000,000   \n1   Jonathan Hensleigh    104.0  $65,000,000   \n2  Mark Steven Johnson    101.0  $25,000,000   \n3       Terry McMillan    124.0  $16,000,000   \n4       Albert Hackett    106.0  $30,000,000   \n\n                                       plot_keywords  \n0                   toy|rivalry|cowboy|cgi animation  \n1                   board game|adventurer|fight|game  \n2                         boat|lake|neighbor|rivalry  \n3  black american|husband wife relationship|betra...  \n4                    fatherhood|doberman|dog|mansion  ",
            "text/html": "<div>\n<style scoped>\n    .dataframe tbody tr th:only-of-type {\n        vertical-align: middle;\n    }\n\n    .dataframe tbody tr th {\n        vertical-align: top;\n    }\n\n    .dataframe thead th {\n        text-align: right;\n    }\n</style>\n<table border=\"1\" class=\"dataframe\">\n  <thead>\n    <tr style=\"text-align: right;\">\n      <th></th>\n      <th>movieId</th>\n      <th>title_cast</th>\n      <th>director</th>\n      <th>runtime</th>\n      <th>budget</th>\n      <th>plot_keywords</th>\n    </tr>\n  </thead>\n  <tbody>\n    <tr>\n      <th>0</th>\n      <td>1</td>\n      <td>Tom Hanks|Tim Allen|Don Rickles|Jim Varney|Wal...</td>\n      <td>John Lasseter</td>\n      <td>81.0</td>\n      <td>$30,000,000</td>\n      <td>toy|rivalry|cowboy|cgi animation</td>\n    </tr>\n    <tr>\n      <th>1</th>\n      <td>2</td>\n      <td>Robin Williams|Jonathan Hyde|Kirsten Dunst|Bra...</td>\n      <td>Jonathan Hensleigh</td>\n      <td>104.0</td>\n      <td>$65,000,000</td>\n      <td>board game|adventurer|fight|game</td>\n    </tr>\n    <tr>\n      <th>2</th>\n      <td>3</td>\n      <td>Walter Matthau|Jack Lemmon|Sophia Loren|Ann-Ma...</td>\n      <td>Mark Steven Johnson</td>\n      <td>101.0</td>\n      <td>$25,000,000</td>\n      <td>boat|lake|neighbor|rivalry</td>\n    </tr>\n    <tr>\n      <th>3</th>\n      <td>4</td>\n      <td>Whitney Houston|Angela Bassett|Loretta Devine|...</td>\n      <td>Terry McMillan</td>\n      <td>124.0</td>\n      <td>$16,000,000</td>\n      <td>black american|husband wife relationship|betra...</td>\n    </tr>\n    <tr>\n      <th>4</th>\n      <td>5</td>\n      <td>Steve Martin|Diane Keaton|Martin Short|Kimberl...</td>\n      <td>Albert Hackett</td>\n      <td>106.0</td>\n      <td>$30,000,000</td>\n      <td>fatherhood|doberman|dog|mansion</td>\n    </tr>\n  </tbody>\n</table>\n</div>"
          },
          "metadata": {}
        }
      ]
    },
    {
      "cell_type": "markdown",
      "source": [
        "The imdb dataframe has 5 columns:\n",
        "* movieId\n",
        "* title_cast\n",
        "* Directors names\n",
        "* runtime\n",
        "* budget\n",
        "* plot_keywords"
      ],
      "metadata": {
        "id": "U5bqcDGNeaTt"
      }
    },
    {
      "cell_type": "code",
      "source": [
        "df_imdb.info()"
      ],
      "metadata": {
        "execution": {
          "iopub.status.busy": "2024-02-01T15:20:56.153012Z",
          "iopub.execute_input": "2024-02-01T15:20:56.153429Z",
          "iopub.status.idle": "2024-02-01T15:20:56.178059Z",
          "shell.execute_reply.started": "2024-02-01T15:20:56.153399Z",
          "shell.execute_reply": "2024-02-01T15:20:56.177262Z"
        },
        "trusted": true,
        "id": "SzW6TUaneaTt",
        "outputId": "57f40b56-ca9d-4b1f-af31-bfc176e9178a"
      },
      "execution_count": null,
      "outputs": [
        {
          "name": "stdout",
          "text": "<class 'pandas.core.frame.DataFrame'>\nRangeIndex: 27278 entries, 0 to 27277\nData columns (total 6 columns):\n #   Column         Non-Null Count  Dtype  \n---  ------         --------------  -----  \n 0   movieId        27278 non-null  int64  \n 1   title_cast     17210 non-null  object \n 2   director       17404 non-null  object \n 3   runtime        15189 non-null  float64\n 4   budget         7906 non-null   object \n 5   plot_keywords  16200 non-null  object \ndtypes: float64(1), int64(1), object(4)\nmemory usage: 1.2+ MB\n",
          "output_type": "stream"
        }
      ]
    },
    {
      "cell_type": "markdown",
      "source": [
        "df_imdb has 27279 observations and some columns contain missing values"
      ],
      "metadata": {
        "id": "gxXh7dr0eaTu"
      }
    },
    {
      "cell_type": "code",
      "source": [
        "import pandas as pd\n",
        "\n",
        "data = pd.read_csv('/kaggle/input/ea-movies/imdb_data.csv')\n",
        "df_imdb = pd.DataFrame(data)\n",
        "\n",
        "# Data Cleaning Steps\n",
        "df_imdb['title_cast'] = df_imdb['title_cast'].str.lower().str.strip()\n",
        "df_imdb['director'] = df_imdb['director'].str.lower().str.strip()\n",
        "\n",
        "# Extract numerical values from 'runtime' (handle non-string values)\n",
        "df_imdb['runtime'] = pd.to_numeric(df_imdb['runtime'].astype(str).str.extract('(\\d+)', expand=False), errors='coerce')\n",
        "\n",
        "# Convert 'budget' to numeric (remove '$' and commas)\n",
        "df_imdb['budget'] = pd.to_numeric(df_imdb['budget'].replace('[\\$,]', '', regex=True), errors='coerce')\n",
        "\n",
        "# Check for duplicate values in the 'movieId' column\n",
        "duplicate_movie_ids = df_imdb['movieId'].duplicated()\n",
        "print(\"Duplicate Movie IDs:\", duplicate_movie_ids.any())  # Check if any duplicates exist\n",
        "\n",
        "# Handle missing values in 'plot_keywords'\n",
        "missing_keywords = df_imdb['plot_keywords'].isnull().sum()\n",
        "print(\"Missing Plot Keywords:\", missing_keywords)\n",
        "\n",
        "# Handle missing values (if needed) in 'plot_keywords'\n",
        "# df_imdb['plot_keywords'].fillna('Unknown', inplace=True)\n",
        "\n",
        "# Display the cleaned DataFrame\n",
        "print(\"Cleaned DataFrame:\")\n",
        "print(df_imdb)\n"
      ],
      "metadata": {
        "execution": {
          "iopub.status.busy": "2024-02-01T18:35:30.128333Z",
          "iopub.execute_input": "2024-02-01T18:35:30.129006Z",
          "iopub.status.idle": "2024-02-01T18:35:30.486836Z",
          "shell.execute_reply.started": "2024-02-01T18:35:30.128971Z",
          "shell.execute_reply": "2024-02-01T18:35:30.484696Z"
        },
        "trusted": true,
        "id": "wpPRmV9weaTu",
        "outputId": "243faf32-d870-4ddd-d329-2d755fb14049"
      },
      "execution_count": null,
      "outputs": [
        {
          "name": "stdout",
          "text": "Duplicate Movie IDs: False\nMissing Plot Keywords: 11078\nCleaned DataFrame:\n       movieId                                         title_cast  \\\n0            1  tom hanks|tim allen|don rickles|jim varney|wal...   \n1            2  robin williams|jonathan hyde|kirsten dunst|bra...   \n2            3  walter matthau|jack lemmon|sophia loren|ann-ma...   \n3            4  whitney houston|angela bassett|loretta devine|...   \n4            5  steve martin|diane keaton|martin short|kimberl...   \n...        ...                                                ...   \n27273   131254  franz dinda|florian lukas|axel stein|kailas ma...   \n27274   131256  rick kavanian|axel stein|eva habermann|christo...   \n27275   131258  nam-gil kim|ye-jin son|hae-jin yoo|kyeong-yeon...   \n27276   131260  martti suosalo|ilkka koivula|vexi salmi|riitta...   \n27277   131262  sophie lane curtis|kelly reilly|graham phillip...   \n\n                  director  runtime      budget  \\\n0            john lasseter     81.0  30000000.0   \n1       jonathan hensleigh    104.0  65000000.0   \n2      mark steven johnson    101.0  25000000.0   \n3           terry mcmillan    124.0  16000000.0   \n4           albert hackett    106.0  30000000.0   \n...                    ...      ...         ...   \n27273        carsten funke     85.0         NaN   \n27274      matthias dinter     83.0         NaN   \n27275       seong-il cheon    130.0         NaN   \n27276       timo koivusalo    102.0         NaN   \n27277      hilary brougher     96.0         NaN   \n\n                                           plot_keywords  \n0                       toy|rivalry|cowboy|cgi animation  \n1                       board game|adventurer|fight|game  \n2                             boat|lake|neighbor|rivalry  \n3      black american|husband wife relationship|betra...  \n4                        fatherhood|doberman|dog|mansion  \n...                                                  ...  \n27273  man wrapped in a towel|man wears a thong|male ...  \n27274   ski|ski resort|ampersand in title|drink in title  \n27275                    pirate|sword fight|korea|bandit  \n27276       friend|friendship|television show|restaurant  \n27277                             hex|witch|virgin|blood  \n\n[27278 rows x 6 columns]\n",
          "output_type": "stream"
        }
      ]
    },
    {
      "cell_type": "code",
      "source": [
        "import pandas as pd\n",
        "\n",
        "# Assuming 'imdb' is your DataFrame\n",
        "# Replace 'imdb.csv' with your actual data source\n",
        "df_imdb_data = pd.read_csv('/kaggle/input/ea-movies/imdb_data.csv')\n",
        "\n",
        "# Step 1: Check for Missing Values\n",
        "print(\"Missing Values:\")\n",
        "print(df_imdb_data.isnull().sum())\n",
        "\n",
        "# Step 2: Handle Missing Values (if any)\n",
        "# For numeric columns (runtime, budget), decide on a strategy (imputation or removal)\n",
        "df_imdb_data['runtime'].fillna(df_imdb_data['runtime'].mean(), inplace=True)\n",
        "\n",
        "# If 'budget' is expected to be numeric, convert it to numeric data type\n",
        "df_imdb_data['budget'] = pd.to_numeric(df_imdb_data['budget'], errors='coerce')\n",
        "\n",
        "# For text columns, replace missing values with a placeholder or remove rows\n",
        "df_imdb_data['title_cast'].fillna('Unknown', inplace=True)\n",
        "df_imdb_data['director'].fillna('Unknown', inplace=True)\n",
        "df_imdb_data['plot_keywords'].fillna('Unknown', inplace=True)\n",
        "\n",
        "# Step 3: Correct Data Types\n",
        "# Ensure 'budget' is of the correct numeric data type\n",
        "df_imdb_data['budget'] = pd.to_numeric(df_imdb_data['budget'], errors='coerce')\n",
        "\n",
        "# Step 4: Remove Duplicates\n",
        "df_imdb_data.drop_duplicates(inplace=True)\n",
        "\n",
        "# Step 5: Standardize Text Data\n",
        "# Remove extra whitespaces and standardize capitalization in text columns\n",
        "df_imdb_data['title_cast'] = df_imdb_data['title_cast'].str.strip()\n",
        "df_imdb_data['director'] = df_imdb_data['director'].str.strip()\n",
        "df_imdb_data['plot_keywords'] = df_imdb_data['plot_keywords'].str.strip()\n",
        "\n",
        "# Display the cleaned data\n",
        "print(\"\\nCleaned Data:\")\n",
        "print(df_imdb_data.head())\n"
      ],
      "metadata": {
        "execution": {
          "iopub.status.busy": "2024-02-01T18:35:35.759636Z",
          "iopub.execute_input": "2024-02-01T18:35:35.760018Z",
          "iopub.status.idle": "2024-02-01T18:35:35.966542Z",
          "shell.execute_reply.started": "2024-02-01T18:35:35.759974Z",
          "shell.execute_reply": "2024-02-01T18:35:35.965222Z"
        },
        "trusted": true,
        "id": "EtEmv2yleaTv",
        "outputId": "66fbe1ed-a613-482c-ea06-69ad3a1d5ccb"
      },
      "execution_count": null,
      "outputs": [
        {
          "name": "stdout",
          "text": "Missing Values:\nmovieId              0\ntitle_cast       10068\ndirector          9874\nruntime          12089\nbudget           19372\nplot_keywords    11078\ndtype: int64\n\nCleaned Data:\n   movieId                                         title_cast  \\\n0        1  Tom Hanks|Tim Allen|Don Rickles|Jim Varney|Wal...   \n1        2  Robin Williams|Jonathan Hyde|Kirsten Dunst|Bra...   \n2        3  Walter Matthau|Jack Lemmon|Sophia Loren|Ann-Ma...   \n3        4  Whitney Houston|Angela Bassett|Loretta Devine|...   \n4        5  Steve Martin|Diane Keaton|Martin Short|Kimberl...   \n\n              director  runtime  budget  \\\n0        John Lasseter     81.0     NaN   \n1   Jonathan Hensleigh    104.0     NaN   \n2  Mark Steven Johnson    101.0     NaN   \n3       Terry McMillan    124.0     NaN   \n4       Albert Hackett    106.0     NaN   \n\n                                       plot_keywords  \n0                   toy|rivalry|cowboy|cgi animation  \n1                   board game|adventurer|fight|game  \n2                         boat|lake|neighbor|rivalry  \n3  black american|husband wife relationship|betra...  \n4                    fatherhood|doberman|dog|mansion  \n",
          "output_type": "stream"
        }
      ]
    },
    {
      "cell_type": "code",
      "source": [],
      "metadata": {
        "trusted": true,
        "id": "32A48NToeaTw"
      },
      "execution_count": null,
      "outputs": []
    },
    {
      "cell_type": "code",
      "source": [
        "# Import necessary libraries\n",
        "import pandas as pd\n",
        "df_imdb=pd.read_csv(\"/kaggle/input/ea-movies/imdb_data.csv\")\n",
        "# Assuming your DataFrame is named df_imdb\n",
        "# Replace 'df_imdb' with the actual name of your DataFrame\n",
        "\n",
        "# Check missing values before cleaning\n",
        "print(\"Missing Values in Each Column (Before Cleaning):\")\n",
        "print(df_imdb.isnull().sum())\n",
        "\n",
        "# Handling missing values in 'title_cast', 'director', 'runtime', 'budget', and 'plot_keywords'\n",
        "\n",
        "# Filling missing values in 'title_cast' with an appropriate value (e.g., 'Unknown')\n",
        "df_imdb['title_cast'].fillna('Unknown', inplace=True)\n",
        "\n",
        "# Filling missing values in 'director' with an appropriate value (e.g., 'Unknown')\n",
        "df_imdb['director'].fillna('Unknown', inplace=True)\n",
        "\n",
        "# Filling missing values in 'runtime' with the median value\n",
        "median_runtime = df_imdb['runtime'].median()\n",
        "df_imdb['runtime'].fillna(median_runtime, inplace=True)\n",
        "\n",
        "# Converting 'budget' to numeric format and filling missing values with the mean\n",
        "df_imdb['budget'] = pd.to_numeric(df_imdb['budget'], errors='coerce')\n",
        "mean_budget = df_imdb['budget'].mean()\n",
        "df_imdb['budget'].fillna(mean_budget, inplace=True)\n",
        "\n",
        "# Filling missing values in 'plot_keywords' with an appropriate value (e.g., 'Unknown')\n",
        "df_imdb['plot_keywords'].fillna('Unknown', inplace=True)\n",
        "\n",
        "# Check missing values after cleaning\n",
        "print(\"\\nMissing Values in Each Column (After Cleaning):\")\n",
        "print(df_imdb.isnull().sum())\n"
      ],
      "metadata": {
        "execution": {
          "iopub.status.busy": "2024-02-01T21:09:52.571902Z",
          "iopub.execute_input": "2024-02-01T21:09:52.573204Z",
          "iopub.status.idle": "2024-02-01T21:09:52.763237Z",
          "shell.execute_reply.started": "2024-02-01T21:09:52.573157Z",
          "shell.execute_reply": "2024-02-01T21:09:52.762318Z"
        },
        "trusted": true,
        "id": "x0VcZ-_oeaTw",
        "outputId": "1567687f-fbaa-4d15-c95e-b95bd0d0af25"
      },
      "execution_count": null,
      "outputs": [
        {
          "name": "stdout",
          "text": "Missing Values in Each Column (Before Cleaning):\nmovieId              0\ntitle_cast       10068\ndirector          9874\nruntime          12089\nbudget           19372\nplot_keywords    11078\ndtype: int64\n\nMissing Values in Each Column (After Cleaning):\nmovieId              0\ntitle_cast           0\ndirector             0\nruntime              0\nbudget           27278\nplot_keywords        0\ndtype: int64\n",
          "output_type": "stream"
        }
      ]
    },
    {
      "cell_type": "code",
      "source": [
        "import pandas as pd\n",
        "data=pd.read_csv('/kaggle/input/ea-movies/imdb_data.csv')\n",
        "# Display the number of missing values in each column before cleaning\n",
        "print(\"Missing Values in Each Column (Before Cleaning):\")\n",
        "print(df_imdb.isnull().sum())\n",
        "\n",
        "# Drop rows with missing values\n",
        "df_imdb_cleaned = df_imdb.dropna()\n",
        "\n",
        "# Display the number of missing values in each column after cleaning\n",
        "print(\"\\nMissing Values in Each Column (After Cleaning):\")\n",
        "print(df_imdb_cleaned.isnull().sum())\n"
      ],
      "metadata": {
        "execution": {
          "iopub.status.busy": "2024-02-01T18:36:42.893732Z",
          "iopub.execute_input": "2024-02-01T18:36:42.894074Z",
          "iopub.status.idle": "2024-02-01T18:36:42.98679Z",
          "shell.execute_reply.started": "2024-02-01T18:36:42.894049Z",
          "shell.execute_reply": "2024-02-01T18:36:42.98573Z"
        },
        "trusted": true,
        "id": "uFEHFHFGeaVg",
        "outputId": "7f9aa1d6-409b-4eb7-8861-aaf124576628"
      },
      "execution_count": null,
      "outputs": [
        {
          "name": "stdout",
          "text": "Missing Values in Each Column (Before Cleaning):\nmovieId              0\ntitle_cast           0\ndirector             0\nruntime              0\nbudget           27278\nplot_keywords        0\ndtype: int64\n\nMissing Values in Each Column (After Cleaning):\nmovieId          0.0\ntitle_cast       0.0\ndirector         0.0\nruntime          0.0\nbudget           0.0\nplot_keywords    0.0\ndtype: float64\n",
          "output_type": "stream"
        }
      ]
    },
    {
      "cell_type": "code",
      "source": [
        "import pandas as pd\n",
        "\n",
        "data = pd.read_csv('/kaggle/input/ea-movies/imdb_data.csv')\n",
        "df_imdb = pd.DataFrame(data)\n",
        "\n",
        "# Data Cleaning Steps\n",
        "df_imdb['title_cast'] = df_imdb['title_cast'].str.lower().str.strip()\n",
        "df_imdb['director'] = df_imdb['director'].str.lower().str.strip()\n",
        "\n",
        "# Extract numerical values from 'runtime' (handle non-string values)\n",
        "df_imdb['runtime'] = pd.to_numeric(df_imdb['runtime'].astype(str).str.extract('(\\d+)', expand=False), errors='coerce')\n",
        "\n",
        "# Convert 'budget' to numeric (remove '$' and commas)\n",
        "df_imdb['budget'] = pd.to_numeric(df_imdb['budget'].replace('[\\$,]', '', regex=True), errors='coerce')\n",
        "\n",
        "# Check for duplicate values in the 'movieId' column\n",
        "duplicate_movie_ids = df_imdb['movieId'].duplicated()\n",
        "print(\"Duplicate Movie IDs:\", duplicate_movie_ids.any())  # Check if any duplicates exist\n",
        "\n",
        "# Handle missing values in 'plot_keywords'\n",
        "missing_keywords = df_imdb['plot_keywords'].isnull().sum()\n",
        "print(\"Missing Plot Keywords:\", missing_keywords)\n",
        "\n",
        "# Handle missing values (if needed) in 'plot_keywords'\n",
        "# df_imdb['plot_keywords'].fillna('Unknown', inplace=True)\n",
        "\n",
        "# Display the cleaned DataFrame\n",
        "print(\"Cleaned DataFrame:\")\n",
        "print(df_imdb)\n"
      ],
      "metadata": {
        "execution": {
          "iopub.status.busy": "2024-02-01T21:10:36.43523Z",
          "iopub.execute_input": "2024-02-01T21:10:36.435576Z",
          "iopub.status.idle": "2024-02-01T21:10:36.616978Z",
          "shell.execute_reply.started": "2024-02-01T21:10:36.435554Z",
          "shell.execute_reply": "2024-02-01T21:10:36.616097Z"
        },
        "trusted": true,
        "id": "X0I_S6u6eaVi",
        "outputId": "4c35c8b3-410e-475b-838a-d5e7dd43b103"
      },
      "execution_count": null,
      "outputs": [
        {
          "name": "stdout",
          "text": "Duplicate Movie IDs: False\nMissing Plot Keywords: 11078\nCleaned DataFrame:\n       movieId                                         title_cast  \\\n0            1  tom hanks|tim allen|don rickles|jim varney|wal...   \n1            2  robin williams|jonathan hyde|kirsten dunst|bra...   \n2            3  walter matthau|jack lemmon|sophia loren|ann-ma...   \n3            4  whitney houston|angela bassett|loretta devine|...   \n4            5  steve martin|diane keaton|martin short|kimberl...   \n...        ...                                                ...   \n27273   131254  franz dinda|florian lukas|axel stein|kailas ma...   \n27274   131256  rick kavanian|axel stein|eva habermann|christo...   \n27275   131258  nam-gil kim|ye-jin son|hae-jin yoo|kyeong-yeon...   \n27276   131260  martti suosalo|ilkka koivula|vexi salmi|riitta...   \n27277   131262  sophie lane curtis|kelly reilly|graham phillip...   \n\n                  director  runtime      budget  \\\n0            john lasseter     81.0  30000000.0   \n1       jonathan hensleigh    104.0  65000000.0   \n2      mark steven johnson    101.0  25000000.0   \n3           terry mcmillan    124.0  16000000.0   \n4           albert hackett    106.0  30000000.0   \n...                    ...      ...         ...   \n27273        carsten funke     85.0         NaN   \n27274      matthias dinter     83.0         NaN   \n27275       seong-il cheon    130.0         NaN   \n27276       timo koivusalo    102.0         NaN   \n27277      hilary brougher     96.0         NaN   \n\n                                           plot_keywords  \n0                       toy|rivalry|cowboy|cgi animation  \n1                       board game|adventurer|fight|game  \n2                             boat|lake|neighbor|rivalry  \n3      black american|husband wife relationship|betra...  \n4                        fatherhood|doberman|dog|mansion  \n...                                                  ...  \n27273  man wrapped in a towel|man wears a thong|male ...  \n27274   ski|ski resort|ampersand in title|drink in title  \n27275                    pirate|sword fight|korea|bandit  \n27276       friend|friendship|television show|restaurant  \n27277                             hex|witch|virgin|blood  \n\n[27278 rows x 6 columns]\n",
          "output_type": "stream"
        }
      ]
    },
    {
      "cell_type": "code",
      "source": [
        "import pandas as pd\n",
        "import nltk\n",
        "from nltk.tokenize import word_tokenize\n",
        "from nltk.corpus import stopwords\n",
        "\n",
        "# Assuming df is your DataFrame\n",
        "# Replace NaN values with empty strings for text columns\n",
        "df_imdb['title_cast'].fillna('', inplace=True)\n",
        "df_imdb['director'].fillna('', inplace=True)\n",
        "df_imdb['plot_keywords'].fillna('', inplace=True)\n",
        "\n",
        "# Tokenize title_cast\n",
        "df_imdb['title_cast_tokens'] = df_imdb['title_cast'].apply(lambda x: word_tokenize(str(x)) if pd.notnull(x) else [])\n",
        "\n",
        "# Lowercase text columns\n",
        "df_imdb['title_cast'] = df_imdb['title_cast'].str.lower()\n",
        "df_imdb['director'] = df_imdb['director'].str.lower()\n",
        "df_imdb['plot_keywords'] = df_imdb['plot_keywords'].str.lower()\n",
        "\n",
        "# Remove punctuation and special characters\n",
        "df_imdb['title_cast'] = df_imdb['title_cast'].str.replace('[^\\w\\s]', '')\n",
        "df_imdb['director'] = df_imdb['director'].str.replace('[^\\w\\s]', '')\n",
        "df_imdb['plot_keywords'] = df_imdb['plot_keywords'].str.replace('[^\\w\\s]', '')\n",
        "\n",
        "# Remove stopwords\n",
        "stop_words = set(stopwords.words('english'))\n",
        "df_imdb['title_cast'] =df_imdb['title_cast'].apply(lambda x: ' '.join([word for word in x.split() if word.lower() not in stop_words]))\n",
        "df_imdb['director'] = df_imdb['director'].apply(lambda x: ' '.join([word for word in x.split() if word.lower() not in stop_words]))\n",
        "df_imdb['plot_keywords'] = df_imdb['plot_keywords'].apply(lambda x: ' '.join([word for word in x.split() if word.lower() not in stop_words]))\n",
        "\n",
        "# Convert 'budget' column to numeric (remove non-numeric characters)\n",
        "df_imdb['budget'] = pd.to_numeric(df_imdb['budget'].replace('[^0-9]+', '', regex=True), errors='coerce')\n",
        "\n",
        "# Fill missing runtime values with the mean\n",
        "df_imdb['runtime'].fillna(df_imdb['runtime'].mean(), inplace=True)\n",
        "\n",
        "# For building a movie recommender system, you might consider additional data preprocessing steps,\n",
        "# such as handling categorical variables, scaling numeric features, etc.\n",
        "\n",
        "# Display the cleaned DataFrame\n",
        "print(df_imdb.head())\n"
      ],
      "metadata": {
        "execution": {
          "iopub.status.busy": "2024-02-01T21:10:56.156112Z",
          "iopub.execute_input": "2024-02-01T21:10:56.15704Z",
          "iopub.status.idle": "2024-02-01T21:10:59.865891Z",
          "shell.execute_reply.started": "2024-02-01T21:10:56.157008Z",
          "shell.execute_reply": "2024-02-01T21:10:59.865037Z"
        },
        "trusted": true,
        "id": "zH__TIcTeaVj",
        "outputId": "60326e50-50a7-450d-d697-e4bbdb6bfab6"
      },
      "execution_count": null,
      "outputs": [
        {
          "name": "stdout",
          "text": "   movieId                                         title_cast  \\\n0        1  tom hanks|tim allen|don rickles|jim varney|wal...   \n1        2  robin williams|jonathan hyde|kirsten dunst|bra...   \n2        3  walter matthau|jack lemmon|sophia loren|ann-ma...   \n3        4  whitney houston|angela bassett|loretta devine|...   \n4        5  steve martin|diane keaton|martin short|kimberl...   \n\n              director  runtime      budget  \\\n0        john lasseter     81.0  30000000.0   \n1   jonathan hensleigh    104.0  65000000.0   \n2  mark steven johnson    101.0  25000000.0   \n3       terry mcmillan    124.0  16000000.0   \n4       albert hackett    106.0  30000000.0   \n\n                                       plot_keywords  \\\n0                   toy|rivalry|cowboy|cgi animation   \n1                   board game|adventurer|fight|game   \n2                         boat|lake|neighbor|rivalry   \n3  black american|husband wife relationship|betra...   \n4                    fatherhood|doberman|dog|mansion   \n\n                                   title_cast_tokens  \n0  [tom, hanks|tim, allen|don, rickles|jim, varne...  \n1  [robin, williams|jonathan, hyde|kirsten, dunst...  \n2  [walter, matthau|jack, lemmon|sophia, loren|an...  \n3  [whitney, houston|angela, bassett|loretta, dev...  \n4  [steve, martin|diane, keaton|martin, short|kim...  \n",
          "output_type": "stream"
        }
      ]
    },
    {
      "cell_type": "markdown",
      "source": [
        "## Genome Tags & Scores\n",
        "Tag genome encodes how strongly movies exhibit particular properties represented by tags. We looked at both the df_genome_tags and df_genome_scores, starting with the former"
      ],
      "metadata": {
        "id": "MQCwqQ4xeaVk"
      }
    },
    {
      "cell_type": "code",
      "source": [
        "import pandas as pd\n",
        "df_genome_tags=pd.read_csv(\"/kaggle/input/ea-movies/genome_tags.csv\")\n",
        "print(df_genome_tags.head())"
      ],
      "metadata": {
        "execution": {
          "iopub.status.busy": "2024-02-01T18:37:02.878375Z",
          "iopub.execute_input": "2024-02-01T18:37:02.880114Z",
          "iopub.status.idle": "2024-02-01T18:37:02.896908Z",
          "shell.execute_reply.started": "2024-02-01T18:37:02.880056Z",
          "shell.execute_reply": "2024-02-01T18:37:02.896232Z"
        },
        "trusted": true,
        "id": "X81s2FPYeaVl",
        "outputId": "540fe318-b7b8-4eae-e604-0deef6057498"
      },
      "execution_count": null,
      "outputs": [
        {
          "name": "stdout",
          "text": "   tagId           tag\n0      1           007\n1      2  007 (series)\n2      3  18th century\n3      4         1920s\n4      5         1930s\n",
          "output_type": "stream"
        }
      ]
    },
    {
      "cell_type": "markdown",
      "source": [
        "This dataframe has two columns:\n",
        "* tagId\n",
        "* tag -description of the tags"
      ],
      "metadata": {
        "id": "n6939tJReaVm"
      }
    },
    {
      "cell_type": "code",
      "source": [
        "print(\"df_genome_tags has\",len(df_genome_tags),\"observations\")"
      ],
      "metadata": {
        "execution": {
          "iopub.status.busy": "2024-02-01T20:29:08.742409Z",
          "iopub.execute_input": "2024-02-01T20:29:08.743563Z",
          "iopub.status.idle": "2024-02-01T20:29:08.748284Z",
          "shell.execute_reply.started": "2024-02-01T20:29:08.743516Z",
          "shell.execute_reply": "2024-02-01T20:29:08.747511Z"
        },
        "trusted": true,
        "id": "J_e80b9teaVm",
        "outputId": "88c4b0c2-bf0d-442a-a6fd-24f4a7f39957"
      },
      "execution_count": null,
      "outputs": [
        {
          "name": "stdout",
          "text": "df_genome_tags has 1128 observations\n",
          "output_type": "stream"
        }
      ]
    },
    {
      "cell_type": "code",
      "source": [
        "import pandas as pd\n",
        "\n",
        "# Load the dataset\n",
        "df_genome_tags = pd.read_csv('/kaggle/input/ea-movies/genome_tags.csv')\n",
        "\n",
        "# 1. Handling Missing Values\n",
        "missing_values = df_genome_tags.isnull().sum()\n",
        "# Decide on an appropriate strategy for handling missing values\n",
        "\n",
        "# 2. Data Type Conversion\n",
        "df_genome_tags['tagId'] = pd.to_numeric(df_genome_tags['tagId'], errors='coerce')\n",
        "# Check and convert data types as needed\n",
        "\n",
        "# 3. Removing Duplicates\n",
        "df_genome_tags = df_genome_tags.drop_duplicates(subset=['tagId', 'tag'])\n",
        "\n",
        "# 4. Text Cleaning\n",
        "df_genome_tags['tag'] = df_genome_tags['tag'].str.lower().str.strip()\n",
        "# Additional text cleaning steps if necessary\n",
        "\n",
        "# 5. Exploratory Data Analysis (EDA)\n",
        "# Perform EDA to understand the distribution of values\n",
        "\n",
        "# 6. Encoding (if needed)\n",
        "# Perform encoding if required for machine learning models\n"
      ],
      "metadata": {
        "execution": {
          "iopub.status.busy": "2024-02-01T20:29:11.946606Z",
          "iopub.execute_input": "2024-02-01T20:29:11.947286Z",
          "iopub.status.idle": "2024-02-01T20:29:11.960877Z",
          "shell.execute_reply.started": "2024-02-01T20:29:11.947238Z",
          "shell.execute_reply": "2024-02-01T20:29:11.959612Z"
        },
        "trusted": true,
        "id": "8CpCoUjeeaVn"
      },
      "execution_count": null,
      "outputs": []
    },
    {
      "cell_type": "code",
      "source": [
        "import pandas as pd\n",
        "\n",
        "genome_tags = pd.read_csv('/kaggle/input/ea-movies/genome_tags.csv')\n",
        "\n",
        "# Display the number of missing values in each column before cleaning\n",
        "print(\"Missing Values in Each Column (Before Cleaning):\")\n",
        "print(df_genome_tags.isnull().sum())\n",
        "\n",
        "# Drop rows with missing values\n",
        "df_genome_tags_cleaned = df_genome_tags.dropna()\n",
        "\n",
        "# Display the number of missing values in each column after cleaning\n",
        "print(\"\\nMissing Values in Each Column (After Cleaning):\")\n",
        "print(df_genome_tags_cleaned.isnull().sum())\n"
      ],
      "metadata": {
        "execution": {
          "iopub.status.busy": "2024-02-01T16:13:16.279954Z",
          "iopub.execute_input": "2024-02-01T16:13:16.281037Z",
          "iopub.status.idle": "2024-02-01T16:13:16.293565Z",
          "shell.execute_reply.started": "2024-02-01T16:13:16.281008Z",
          "shell.execute_reply": "2024-02-01T16:13:16.2924Z"
        },
        "trusted": true,
        "id": "7JuDEaG7eaVp",
        "outputId": "129b51ec-0331-49b8-b523-721597519cde"
      },
      "execution_count": null,
      "outputs": [
        {
          "name": "stdout",
          "text": "Missing Values in Each Column (Before Cleaning):\ntagId    0\ntag      0\ndtype: int64\n\nMissing Values in Each Column (After Cleaning):\ntagId    0\ntag      0\ndtype: int64\n",
          "output_type": "stream"
        }
      ]
    },
    {
      "cell_type": "code",
      "source": [
        "import pandas as pd\n",
        "\n",
        "data = pd.read_csv('/kaggle/input/ea-movies/genome_tags.csv')\n",
        "\n",
        "df_genome_tags = pd.DataFrame(data)\n",
        "df_genome_tags['tagId'] = pd.to_numeric(df_genome_tags['tagId'], errors='coerce')\n",
        "# Data Cleaning Steps\n",
        "df_genome_tags['tag'] = df_genome_tags['tag'].str.strip()  # Remove leading and trailing whitespaces\n",
        "# 2. Data Type Conversion\n",
        "df_genome_tags['tagId'] = pd.to_numeric(df_genome_tags['tagId'], errors='coerce')\n",
        "# Check and convert data types as needed\n",
        "# Display the cleaned DataFrame\n",
        "print(\"Original DataFrame:\")\n",
        "print(df_genome_tags)\n"
      ],
      "metadata": {
        "execution": {
          "iopub.status.busy": "2024-02-01T16:13:19.704194Z",
          "iopub.execute_input": "2024-02-01T16:13:19.704587Z",
          "iopub.status.idle": "2024-02-01T16:13:19.719133Z",
          "shell.execute_reply.started": "2024-02-01T16:13:19.704562Z",
          "shell.execute_reply": "2024-02-01T16:13:19.717968Z"
        },
        "trusted": true,
        "id": "CH9a8CWpeaVr",
        "outputId": "11a52231-0214-40b8-c6b5-986054d7b8df"
      },
      "execution_count": null,
      "outputs": [
        {
          "name": "stdout",
          "text": "Original DataFrame:\n      tagId           tag\n0         1           007\n1         2  007 (series)\n2         3  18th century\n3         4         1920s\n4         5         1930s\n...     ...           ...\n1123   1124       writing\n1124   1125         wuxia\n1125   1126          wwii\n1126   1127        zombie\n1127   1128       zombies\n\n[1128 rows x 2 columns]\n",
          "output_type": "stream"
        }
      ]
    },
    {
      "cell_type": "code",
      "source": [
        "import pandas as pd\n",
        "\n",
        "data = pd.read_csv('/kaggle/input/ea-movies/genome_tags.csv')\n",
        "df_genome_tags = pd.DataFrame(data)\n",
        "3. #Removing Duplicates\n",
        "df_genome_tags = df_genome_tags.drop_duplicates(subset=['tagId', 'tag'])\n",
        "\n",
        "df_genome_tags['tag'] = df_genome_tags['tag'].str.lower().str.strip()\n",
        "# Display the cleaned DataFrame\n",
        "print(\"Original DataFrame:\")\n",
        "print(df_genome_tags)\n"
      ],
      "metadata": {
        "execution": {
          "iopub.status.busy": "2024-02-01T16:13:21.910853Z",
          "iopub.execute_input": "2024-02-01T16:13:21.912023Z",
          "iopub.status.idle": "2024-02-01T16:13:21.925828Z",
          "shell.execute_reply.started": "2024-02-01T16:13:21.91199Z",
          "shell.execute_reply": "2024-02-01T16:13:21.924809Z"
        },
        "trusted": true,
        "id": "8P0taOp0eaVs",
        "outputId": "c3f188ca-ebd1-4995-913c-54ecce6aba2a"
      },
      "execution_count": null,
      "outputs": [
        {
          "name": "stdout",
          "text": "Original DataFrame:\n      tagId           tag\n0         1           007\n1         2  007 (series)\n2         3  18th century\n3         4         1920s\n4         5         1930s\n...     ...           ...\n1123   1124       writing\n1124   1125         wuxia\n1125   1126          wwii\n1126   1127        zombie\n1127   1128       zombies\n\n[1128 rows x 2 columns]\n",
          "output_type": "stream"
        }
      ]
    },
    {
      "cell_type": "code",
      "source": [
        "import pandas as pd  # Importing the pandas library and using the alias 'pd'\n",
        "\n",
        "data= pd.read_csv('/kaggle/input/ea-movies/genome_scores.csv')\n",
        "df_genome_scores = pd.DataFrame(data)\n",
        "\n"
      ],
      "metadata": {
        "execution": {
          "iopub.status.busy": "2024-02-01T16:13:23.907825Z",
          "iopub.execute_input": "2024-02-01T16:13:23.908226Z",
          "iopub.status.idle": "2024-02-01T16:13:27.586578Z",
          "shell.execute_reply.started": "2024-02-01T16:13:23.908198Z",
          "shell.execute_reply": "2024-02-01T16:13:27.585644Z"
        },
        "trusted": true,
        "id": "VVE2kz67eaVt"
      },
      "execution_count": null,
      "outputs": []
    },
    {
      "cell_type": "code",
      "source": [
        "import pandas as pd\n",
        "df_genome_scores=pd.read_csv(\"/kaggle/input/ea-movies/genome_scores.csv\")\n",
        "df_genome_scores.head()"
      ],
      "metadata": {
        "execution": {
          "iopub.status.busy": "2024-02-01T16:14:44.974992Z",
          "iopub.execute_input": "2024-02-01T16:14:44.975483Z",
          "iopub.status.idle": "2024-02-01T16:14:48.407078Z",
          "shell.execute_reply.started": "2024-02-01T16:14:44.975445Z",
          "shell.execute_reply": "2024-02-01T16:14:48.405757Z"
        },
        "trusted": true,
        "id": "SS5AWz-ueaVu",
        "outputId": "103e8b85-ca6c-4285-d1f9-5fd57c07b808"
      },
      "execution_count": null,
      "outputs": [
        {
          "execution_count": 93,
          "output_type": "execute_result",
          "data": {
            "text/plain": "   movieId  tagId  relevance\n0        1      1    0.02875\n1        1      2    0.02375\n2        1      3    0.06250\n3        1      4    0.07575\n4        1      5    0.14075",
            "text/html": "<div>\n<style scoped>\n    .dataframe tbody tr th:only-of-type {\n        vertical-align: middle;\n    }\n\n    .dataframe tbody tr th {\n        vertical-align: top;\n    }\n\n    .dataframe thead th {\n        text-align: right;\n    }\n</style>\n<table border=\"1\" class=\"dataframe\">\n  <thead>\n    <tr style=\"text-align: right;\">\n      <th></th>\n      <th>movieId</th>\n      <th>tagId</th>\n      <th>relevance</th>\n    </tr>\n  </thead>\n  <tbody>\n    <tr>\n      <th>0</th>\n      <td>1</td>\n      <td>1</td>\n      <td>0.02875</td>\n    </tr>\n    <tr>\n      <th>1</th>\n      <td>1</td>\n      <td>2</td>\n      <td>0.02375</td>\n    </tr>\n    <tr>\n      <th>2</th>\n      <td>1</td>\n      <td>3</td>\n      <td>0.06250</td>\n    </tr>\n    <tr>\n      <th>3</th>\n      <td>1</td>\n      <td>4</td>\n      <td>0.07575</td>\n    </tr>\n    <tr>\n      <th>4</th>\n      <td>1</td>\n      <td>5</td>\n      <td>0.14075</td>\n    </tr>\n  </tbody>\n</table>\n</div>"
          },
          "metadata": {}
        }
      ]
    },
    {
      "cell_type": "markdown",
      "source": [
        "This dataframe has 3 columns:\n",
        "* movieId\n",
        "* tagId\n",
        "* relevance - computed using a machine learning algorithm on user-contributed content including tags, ratings, and textual reviews\n",
        "\n",
        "This dataframe will be linked with df_train through the movied"
      ],
      "metadata": {
        "id": "QP3JFhifeaVv"
      }
    },
    {
      "cell_type": "code",
      "source": [
        "print(\"df_genome_scores has\",len(df_genome_scores),\"observations\")"
      ],
      "metadata": {
        "execution": {
          "iopub.status.busy": "2024-02-01T16:15:01.86872Z",
          "iopub.execute_input": "2024-02-01T16:15:01.869152Z",
          "iopub.status.idle": "2024-02-01T16:15:01.874097Z",
          "shell.execute_reply.started": "2024-02-01T16:15:01.86912Z",
          "shell.execute_reply": "2024-02-01T16:15:01.87331Z"
        },
        "trusted": true,
        "id": "NNOCPg0reaVw",
        "outputId": "33525ef2-0cf3-4590-d5c2-d2e577f4c07b"
      },
      "execution_count": null,
      "outputs": [
        {
          "name": "stdout",
          "text": "df_genome_scores has 15584448 observations\n",
          "output_type": "stream"
        }
      ]
    },
    {
      "cell_type": "code",
      "source": [
        "import pandas as pd\n",
        "data = pd.read_csv('/kaggle/input/ea-movies/genome_scores.csv')\n",
        "\n",
        "df_genome_scores = pd.DataFrame(data)\n",
        "\n",
        "# Display the number of missing values in each column before cleaning\n",
        "print(\"Missing Values in Each Column (Before Cleaning):\")\n",
        "print(df_genome_scores.isnull().sum())\n",
        "\n",
        "# Drop rows with missing values\n",
        "df_genome_scores_cleaned = df_genome_scores.dropna()\n",
        "\n",
        "# Display the number of missing values in each column after cleaning\n",
        "print(\"\\nMissing Values in Each Column (After Cleaning):\")\n",
        "print(df_genome_scores.isnull().sum())\n"
      ],
      "metadata": {
        "execution": {
          "iopub.status.busy": "2024-02-01T16:15:10.576888Z",
          "iopub.execute_input": "2024-02-01T16:15:10.577268Z",
          "iopub.status.idle": "2024-02-01T16:15:14.180273Z",
          "shell.execute_reply.started": "2024-02-01T16:15:10.577228Z",
          "shell.execute_reply": "2024-02-01T16:15:14.179067Z"
        },
        "trusted": true,
        "id": "-kE-tDD-eaVy",
        "outputId": "cc137f94-0fe6-4e71-b073-8e52ef1f3a41"
      },
      "execution_count": null,
      "outputs": [
        {
          "name": "stdout",
          "text": "Missing Values in Each Column (Before Cleaning):\nmovieId      0\ntagId        0\nrelevance    0\ndtype: int64\n\nMissing Values in Each Column (After Cleaning):\nmovieId      0\ntagId        0\nrelevance    0\ndtype: int64\n",
          "output_type": "stream"
        }
      ]
    },
    {
      "cell_type": "code",
      "source": [
        "import pandas as pd\n",
        "\n",
        "# Assuming df_genome_scores is your DataFrame with columns: movieId, tagId, relevance\n",
        "# Load the DataFrame\n",
        "df_genome_scores = pd.read_csv('/kaggle/input/ea-movies/genome_scores.csv')\n",
        "\n",
        "# 1. Handling Missing Values\n",
        "missing_values = df_genome_scores.isnull().sum()\n",
        "# Decide on an appropriate strategy for handling missing values\n",
        "\n",
        "# 2. Data Type Conversion\n",
        "# Ensure that 'movieId' and 'tagId' have the correct data types\n",
        "df_genome_scores['movieId'] = pd.to_numeric(df_genome_scores['movieId'], errors='coerce')\n",
        "df_genome_scores['tagId'] = pd.to_numeric(df_genome_scores['tagId'], errors='coerce')\n",
        "\n",
        "# 3. Removing Duplicates\n",
        "df_genome_scores = df_genome_scores.drop_duplicates(subset=['movieId', 'tagId'])\n",
        "\n",
        "# 4. Check for Outliers\n",
        "# Perform exploratory data analysis to check for outliers in the 'relevance' column\n",
        "# Decide on how to handle outliers if present\n",
        "\n",
        "# 5. Feature Scaling (if needed)\n",
        "# If 'relevance' values are on a different scale, consider standardizing or normalizing them\n",
        "\n",
        "# 6. Exploratory Data Analysis (EDA)\n",
        "# Perform EDA to understand the distribution of values in each column\n",
        "\n",
        "# 7. Handling Categorical Data (if needed)\n",
        "# If there are categorical variables, consider encoding them using techniques like one-hot encoding or label encoding\n",
        "\n",
        "# 8. Data Linking with df_train\n",
        "# Ensure that 'movieId' in df_tags can be linked with 'movieId' in df_train\n",
        "\n",
        "# Display the cleaned DataFrame\n",
        "print(\"Cleaned DataFrame:\")\n",
        "print(df_genome_scores)\n"
      ],
      "metadata": {
        "execution": {
          "iopub.status.busy": "2024-02-01T16:15:16.762033Z",
          "iopub.execute_input": "2024-02-01T16:15:16.762523Z",
          "iopub.status.idle": "2024-02-01T16:15:21.755103Z",
          "shell.execute_reply.started": "2024-02-01T16:15:16.762484Z",
          "shell.execute_reply": "2024-02-01T16:15:21.754019Z"
        },
        "trusted": true,
        "id": "R9iri6Y2eaVz",
        "outputId": "4b6eaba8-793a-4224-ffd7-1ec3de93ff3d"
      },
      "execution_count": null,
      "outputs": [
        {
          "name": "stdout",
          "text": "Cleaned DataFrame:\n          movieId  tagId  relevance\n0               1      1    0.02875\n1               1      2    0.02375\n2               1      3    0.06250\n3               1      4    0.07575\n4               1      5    0.14075\n...           ...    ...        ...\n15584443   206499   1124    0.11000\n15584444   206499   1125    0.04850\n15584445   206499   1126    0.01325\n15584446   206499   1127    0.14025\n15584447   206499   1128    0.03350\n\n[15584448 rows x 3 columns]\n",
          "output_type": "stream"
        }
      ]
    },
    {
      "cell_type": "code",
      "source": [
        "import pandas as pd\n",
        "import seaborn as sns\n",
        "import matplotlib.pyplot as plt\n",
        "\n",
        "df_genome_scores = pd.read_csv('/kaggle/input/ea-movies/genome_scores.csv')\n",
        "\n",
        "# 4. Check for Outliers\n",
        "plt.figure(figsize=(10, 6))\n",
        "sns.boxplot(x=df_genome_scores['relevance'])\n",
        "plt.title(\"Boxplot of 'relevance' column\")\n",
        "plt.show()\n",
        "\n",
        "# Decide on how to handle outliers if present\n",
        "# For example, you can use the IQR method to identify and remove outliers\n",
        "Q1 = df_genome_scores['relevance'].quantile(0.25)\n",
        "Q3 = df_genome_scores['relevance'].quantile(0.75)\n",
        "IQR = Q3 - Q1\n",
        "lower_bound = Q1 - 1.5 * IQR\n",
        "upper_bound = Q3 + 1.5 * IQR\n",
        "\n",
        "# Remove outliers\n",
        "df_genome_scores = df_genome_scores[(df_genome_scores['relevance'] >= lower_bound) & (df_genome_scores['relevance'] <= upper_bound)]\n",
        "\n",
        "# 5. Feature Scaling (if needed)\n",
        "# If 'relevance' values are on a different scale, consider standardizing or normalizing them\n",
        "# For example, using Min-Max scaling\n",
        "df_genome_scores['relevance_scaled'] = (df_genome_scores['relevance'] - df_genome_scores['relevance'].min()) / (df_genome_scores['relevance'].max() - df_genome_scores['relevance'].min())\n",
        "\n",
        "# 6. Exploratory Data Analysis (EDA)\n",
        "# Perform EDA to understand the distribution of values in each column\n",
        "# For example, use histograms\n",
        "plt.figure(figsize=(12, 8))\n",
        "sns.histplot(df_genome_scores['relevance'], kde=True)\n",
        "plt.title(\"Distribution of 'relevance' column\")\n",
        "plt.show()\n",
        "\n",
        "# 7. Handling Categorical Data (if needed)\n",
        "# No categorical variables based on the provided information\n",
        "\n",
        "# 8. Data Linking with df_train\n",
        "# Ensure that 'movieId' in df_tags can be linked with 'movieId' in df_train\n",
        "# Assuming both have a common 'movieId' column\n",
        "df_train = pd.read_csv('/kaggle/input/ea-movies/train.csv')  # Load your df_train DataFrame\n",
        "merged_df = pd.merge(df_train, df_genome_scores, on='movieId', how='inner')\n",
        "\n",
        "# Display the cleaned and linked DataFrame\n",
        "print(\"Cleaned and Linked DataFrame:\")\n",
        "print(merged_df)\n"
      ],
      "metadata": {
        "execution": {
          "iopub.status.busy": "2024-02-01T16:19:30.704502Z",
          "iopub.execute_input": "2024-02-01T16:19:30.704866Z"
        },
        "trusted": true,
        "id": "vNLM_JdoeaV0",
        "outputId": "ee8e170c-6b1e-4112-d901-8790decbe3e8"
      },
      "execution_count": null,
      "outputs": [
        {
          "output_type": "display_data",
          "data": {
            "text/plain": "<Figure size 1000x600 with 1 Axes>",
            "image/png": "[encoded data removed]"
          },
          "metadata": {}
        },
        {
          "output_type": "display_data",
          "data": {
            "text/plain": "<Figure size 1200x800 with 1 Axes>",
            "image/png": "[encoded data removed]"
          },
          "metadata": {}
        }
      ]
    },
    {
      "cell_type": "markdown",
      "source": [
        "## Tags\n",
        "user supplied tags for each movie at a specific timestamp."
      ],
      "metadata": {
        "id": "2jbEU843eaV1"
      }
    },
    {
      "cell_type": "code",
      "source": [
        "import pandas as pd\n",
        "df_tags=pd.read_csv(\"/kaggle/input/ea-movies/tags.csv\")\n",
        "df_tags.head()"
      ],
      "metadata": {
        "execution": {
          "iopub.status.busy": "2024-02-01T16:32:01.122468Z",
          "iopub.execute_input": "2024-02-01T16:32:01.124358Z",
          "iopub.status.idle": "2024-02-01T16:32:03.437876Z",
          "shell.execute_reply.started": "2024-02-01T16:32:01.124286Z",
          "shell.execute_reply": "2024-02-01T16:32:03.43701Z"
        },
        "trusted": true,
        "id": "FAZhCtBKeaV2",
        "outputId": "d451dece-cdbd-4846-9218-6840941ea209"
      },
      "execution_count": null,
      "outputs": [
        {
          "execution_count": 1,
          "output_type": "execute_result",
          "data": {
            "text/plain": "   userId  movieId               tag   timestamp\n0       3      260           classic  1439472355\n1       3      260            sci-fi  1439472256\n2       4     1732       dark comedy  1573943598\n3       4     1732    great dialogue  1573943604\n4       4     7569  so bad it's good  1573943455",
            "text/html": "<div>\n<style scoped>\n    .dataframe tbody tr th:only-of-type {\n        vertical-align: middle;\n    }\n\n    .dataframe tbody tr th {\n        vertical-align: top;\n    }\n\n    .dataframe thead th {\n        text-align: right;\n    }\n</style>\n<table border=\"1\" class=\"dataframe\">\n  <thead>\n    <tr style=\"text-align: right;\">\n      <th></th>\n      <th>userId</th>\n      <th>movieId</th>\n      <th>tag</th>\n      <th>timestamp</th>\n    </tr>\n  </thead>\n  <tbody>\n    <tr>\n      <th>0</th>\n      <td>3</td>\n      <td>260</td>\n      <td>classic</td>\n      <td>1439472355</td>\n    </tr>\n    <tr>\n      <th>1</th>\n      <td>3</td>\n      <td>260</td>\n      <td>sci-fi</td>\n      <td>1439472256</td>\n    </tr>\n    <tr>\n      <th>2</th>\n      <td>4</td>\n      <td>1732</td>\n      <td>dark comedy</td>\n      <td>1573943598</td>\n    </tr>\n    <tr>\n      <th>3</th>\n      <td>4</td>\n      <td>1732</td>\n      <td>great dialogue</td>\n      <td>1573943604</td>\n    </tr>\n    <tr>\n      <th>4</th>\n      <td>4</td>\n      <td>7569</td>\n      <td>so bad it's good</td>\n      <td>1573943455</td>\n    </tr>\n  </tbody>\n</table>\n</div>"
          },
          "metadata": {}
        }
      ]
    },
    {
      "cell_type": "markdown",
      "source": [
        "df_tags has 4 columns:\n",
        "* userId\n",
        "* movieId\n",
        "* tag - tag supplied by user\n",
        "* timestamp - specific timestamp associated with the tag"
      ],
      "metadata": {
        "id": "qYICfgiFeaV3"
      }
    },
    {
      "cell_type": "code",
      "source": [
        "print(\"df_tags has\",len(df_tags),\"observations\")"
      ],
      "metadata": {
        "execution": {
          "iopub.status.busy": "2024-02-01T16:32:18.696685Z",
          "iopub.execute_input": "2024-02-01T16:32:18.697441Z",
          "iopub.status.idle": "2024-02-01T16:32:18.701764Z",
          "shell.execute_reply.started": "2024-02-01T16:32:18.697409Z",
          "shell.execute_reply": "2024-02-01T16:32:18.700923Z"
        },
        "trusted": true,
        "id": "yhJvwim5eaV5",
        "outputId": "6dd0f2d3-109f-4896-b061-484ba5da1484"
      },
      "execution_count": null,
      "outputs": [
        {
          "name": "stdout",
          "text": "df_tags has 1093360 observations\n",
          "output_type": "stream"
        }
      ]
    },
    {
      "cell_type": "code",
      "source": [
        "import pandas as pd\n",
        "\n",
        "# Read the CSV file\n",
        "df_tags = pd.read_csv('/kaggle/input/ea-movies/tags.csv')\n",
        "\n",
        "# Display the number of missing values in each column before cleaning\n",
        "print(\"Missing Values in Each Column (Before Cleaning):\")\n",
        "print(df_tags.isnull().sum())\n",
        "\n",
        "# Replace missing values with empty strings\n",
        "df_tags_filled = df_tags.fillna('')\n",
        "\n",
        "# Display the number of missing values in each column after cleaning\n",
        "print(\"\\nMissing Values in Each Column (After Cleaning):\")\n",
        "print(df_tags_filled.isnull().sum())\n"
      ],
      "metadata": {
        "execution": {
          "iopub.status.busy": "2024-02-01T16:32:48.387702Z",
          "iopub.execute_input": "2024-02-01T16:32:48.388988Z",
          "iopub.status.idle": "2024-02-01T16:32:49.014355Z",
          "shell.execute_reply.started": "2024-02-01T16:32:48.388946Z",
          "shell.execute_reply": "2024-02-01T16:32:49.013518Z"
        },
        "trusted": true,
        "id": "fU-oHWaNeaV7",
        "outputId": "947ba494-00ff-4a3a-a52e-e0d727de74f1"
      },
      "execution_count": null,
      "outputs": [
        {
          "name": "stdout",
          "text": "Missing Values in Each Column (Before Cleaning):\nuserId        0\nmovieId       0\ntag          16\ntimestamp     0\ndtype: int64\n\nMissing Values in Each Column (After Cleaning):\nuserId       0\nmovieId      0\ntag          0\ntimestamp    0\ndtype: int64\n",
          "output_type": "stream"
        }
      ]
    },
    {
      "cell_type": "code",
      "source": [
        "import pandas as pd\n",
        "import numpy as np\n",
        "from scipy.stats import zscore\n",
        "df_tags = pd.read_csv('/kaggle/input/ea-movies/tags.csv')\n",
        "# Display the\n",
        "\n",
        "# Display the first few rows of the DataFrame before performing data quality checks\n",
        "print(\"Initial DataFrame:\")\n",
        "\n",
        "# Remove rows with missing values\n",
        "df_tags_cleaned = df_tags.dropna()\n",
        "\n",
        "# Display the first few rows of the cleaned DataFrame\n",
        "print(\"\\nDataFrame After Removing Rows with Missing Values:\")\n",
        "print(df_tags_cleaned.head())\n",
        "\n",
        "# Check for Duplicates in the Entire DataFrame\n",
        "duplicate_rows = df_tags_cleaned[df_tags_cleaned.duplicated()]\n",
        "print(\"\\nDuplicate Rows in the Entire DataFrame:\")\n",
        "print(duplicate_rows)\n",
        "\n",
        "# Check for Outliers in Numerical Columns (using Z-score)\n",
        "z_scores = np.abs(zscore(df_tags_cleaned.select_dtypes(include=['number'])))\n",
        "outliers = (z_scores > 3).all(axis=1)\n",
        "outliers_pd = df_tags_cleaned[outliers]\n",
        "print(\"\\nRows with Outliers:\")\n",
        "print(outliers_pd)\n",
        "\n",
        "# Check for Consistency in Categorical Columns\n",
        "categorical_columns = df_tags_cleaned.select_dtypes(include=['object']).columns\n",
        "for col in categorical_columns:\n",
        "    unique_values = df_tags_cleaned[col].unique()\n",
        "    print(f\"\\nUnique values in {col}:\")\n",
        "    print(unique_values)\n",
        "\n",
        "# Check for Consistency in Numerical Columns\n",
        "numerical_columns = df_tags_cleaned.select_dtypes(include=['number']).columns\n",
        "for col in numerical_columns:\n",
        "    unique_values = df_tags_cleaned[col].unique()\n",
        "    print(f\"\\nUnique values in {col}:\")\n",
        "    print(unique_values)\n",
        "\n",
        "# Check for Zero Values in Numerical Columns\n",
        "zero_values = (df_tags_cleaned[numerical_columns] == 0).sum()\n",
        "print(\"\\nZero Values in Numerical Columns:\")\n",
        "print(zero_values)\n"
      ],
      "metadata": {
        "execution": {
          "iopub.status.busy": "2024-02-01T16:33:53.758126Z",
          "iopub.execute_input": "2024-02-01T16:33:53.758522Z",
          "iopub.status.idle": "2024-02-01T16:33:55.809846Z",
          "shell.execute_reply.started": "2024-02-01T16:33:53.758496Z",
          "shell.execute_reply": "2024-02-01T16:33:55.808891Z"
        },
        "trusted": true,
        "id": "BIxJH9KBeaV9",
        "outputId": "8a546c48-fb0e-4ecd-dfb3-983e4fdb7166"
      },
      "execution_count": null,
      "outputs": [
        {
          "name": "stdout",
          "text": "Initial DataFrame:\n\nDataFrame After Removing Rows with Missing Values:\n   userId  movieId               tag   timestamp\n0       3      260           classic  1439472355\n1       3      260            sci-fi  1439472256\n2       4     1732       dark comedy  1573943598\n3       4     1732    great dialogue  1573943604\n4       4     7569  so bad it's good  1573943455\n\nDuplicate Rows in the Entire DataFrame:\nEmpty DataFrame\nColumns: [userId, movieId, tag, timestamp]\nIndex: []\n\nRows with Outliers:\nEmpty DataFrame\nColumns: [userId, movieId, tag, timestamp]\nIndex: []\n\nUnique values in tag:\n['classic' 'sci-fi' 'dark comedy' ... 'genre busting' 'the wife did it'\n 'cornetto triolgy']\n\nUnique values in userId:\n[     3      4     19 ... 162512 162521 162534]\n\nUnique values in movieId:\n[   260   1732   7569 ... 163460 163462 189169]\n\nUnique values in timestamp:\n[1439472355 1439472256 1573943598 ... 1527518175 1527518181 1527518193]\n\nZero Values in Numerical Columns:\nuserId       0\nmovieId      0\ntimestamp    0\ndtype: int64\n",
          "output_type": "stream"
        }
      ]
    },
    {
      "cell_type": "code",
      "source": [
        "import nltk\n",
        "nltk.download('wordnet')\n"
      ],
      "metadata": {
        "execution": {
          "iopub.status.busy": "2024-02-01T17:00:45.06661Z",
          "iopub.execute_input": "2024-02-01T17:00:45.067004Z",
          "iopub.status.idle": "2024-02-01T17:00:45.074881Z",
          "shell.execute_reply.started": "2024-02-01T17:00:45.066976Z",
          "shell.execute_reply": "2024-02-01T17:00:45.073414Z"
        },
        "trusted": true,
        "id": "UsrJp615eaV_",
        "outputId": "63ab2e83-6f1f-43ff-c43d-db676f11fecc"
      },
      "execution_count": null,
      "outputs": [
        {
          "name": "stdout",
          "text": "[nltk_data] Downloading package wordnet to /usr/share/nltk_data...\n[nltk_data]   Package wordnet is already up-to-date!\n",
          "output_type": "stream"
        },
        {
          "execution_count": 19,
          "output_type": "execute_result",
          "data": {
            "text/plain": "True"
          },
          "metadata": {}
        }
      ]
    },
    {
      "cell_type": "code",
      "source": [
        "import nltk\n",
        "\n",
        "# Download WordNet and punkt\n",
        "nltk.download('wordnet')\n",
        "nltk.download('punkt')\n"
      ],
      "metadata": {
        "execution": {
          "iopub.status.busy": "2024-02-01T17:03:19.515511Z",
          "iopub.execute_input": "2024-02-01T17:03:19.5159Z",
          "iopub.status.idle": "2024-02-01T17:03:19.524281Z",
          "shell.execute_reply.started": "2024-02-01T17:03:19.515875Z",
          "shell.execute_reply": "2024-02-01T17:03:19.52309Z"
        },
        "trusted": true,
        "id": "XdHyoe8KeaWA",
        "outputId": "63a4f904-3127-402f-d321-2351b2e159da"
      },
      "execution_count": null,
      "outputs": [
        {
          "name": "stdout",
          "text": "[nltk_data] Downloading package wordnet to /usr/share/nltk_data...\n[nltk_data]   Package wordnet is already up-to-date!\n[nltk_data] Downloading package punkt to /usr/share/nltk_data...\n[nltk_data]   Package punkt is already up-to-date!\n",
          "output_type": "stream"
        },
        {
          "execution_count": 23,
          "output_type": "execute_result",
          "data": {
            "text/plain": "True"
          },
          "metadata": {}
        }
      ]
    },
    {
      "cell_type": "code",
      "source": [
        "import pandas as pd\n",
        "import nltk\n",
        "from nltk.tokenize import word_tokenize\n",
        "from nltk.corpus import stopwords\n",
        "from nltk.stem import PorterStemmer, WordNetLemmatizer\n",
        "from sklearn.feature_extraction.text import TfidfVectorizer\n",
        "\n",
        "# Download WordNet, punkt, and stopwords\n",
        "nltk.download('wordnet')\n",
        "nltk.download('punkt')\n",
        "nltk.download('stopwords')\n",
        "\n",
        "# Load your df_tags DataFrame\n",
        "df_tags = pd.read_csv('/kaggle/input/ea-movies/tags.csv')\n",
        "\n",
        "\n",
        "\n",
        "\n",
        "\n"
      ],
      "metadata": {
        "execution": {
          "iopub.status.busy": "2024-02-01T17:06:40.700286Z",
          "iopub.execute_input": "2024-02-01T17:06:40.700725Z",
          "iopub.status.idle": "2024-02-01T17:06:41.159859Z",
          "shell.execute_reply.started": "2024-02-01T17:06:40.700695Z",
          "shell.execute_reply": "2024-02-01T17:06:41.158678Z"
        },
        "trusted": true,
        "id": "jt_0vVWXeaWB",
        "outputId": "e210f6b0-1177-4066-bb75-ecb19ee0d7ad"
      },
      "execution_count": null,
      "outputs": [
        {
          "name": "stdout",
          "text": "[nltk_data] Downloading package wordnet to /usr/share/nltk_data...\n[nltk_data]   Package wordnet is already up-to-date!\n[nltk_data] Downloading package punkt to /usr/share/nltk_data...\n[nltk_data]   Package punkt is already up-to-date!\n[nltk_data] Downloading package stopwords to /usr/share/nltk_data...\n[nltk_data]   Package stopwords is already up-to-date!\n",
          "output_type": "stream"
        }
      ]
    },
    {
      "cell_type": "code",
      "source": [
        "import pandas as pd\n",
        "import nltk\n",
        "from nltk.tokenize import word_tokenize\n",
        "from nltk.corpus import stopwords\n",
        "from nltk.stem import PorterStemmer\n",
        "import nltk\n",
        "import nltk\n",
        "from nltk.stem import WordNetLemmatizer\n",
        "\n",
        "# Download the WordNet data\n",
        "nltk.download('wordnet')\n",
        "\n",
        "# Download the WordNet data\n",
        "nltk.download('wordnet')\n",
        "# Assuming df_tags is your DataFrame\n",
        "# Load your df_tags DataFrame\n",
        "df_tags = pd.read_csv('/kaggle/input/ea-movies/tags.csv')\n",
        "\n",
        "# 1. Check for Missing Values\n",
        "missing_values = df_tags.isnull().sum()\n",
        "print(\"Missing Values in Columns:\")\n",
        "print(missing_values)\n",
        "\n",
        "# 2. Convert 'timestamp' to datetime format\n",
        "df_tags['timestamp'] = pd.to_datetime(df_tags['timestamp'], unit='s')  # Assuming it's in Unix timestamp format\n",
        "\n",
        "# 3. Check for Duplicates\n",
        "duplicate_rows = df_tags.duplicated().sum()\n",
        "print(\"\\nNumber of Duplicate Rows:\", duplicate_rows)\n",
        "\n",
        "# 4. Drop Duplicates (if needed)\n",
        "df_tags = df_tags.drop_duplicates()\n",
        "\n",
        "# 5. Check Data Types\n",
        "data_types = df_tags.dtypes\n",
        "print(\"\\nData Types:\")\n",
        "print(data_types)\n",
        "\n",
        "# Tokenization using NLTK\n",
        "nltk.download('punkt')\n",
        "nltk.download('stopwords')\n",
        "\n",
        "# Tokenize 'tag' column\n",
        "df_tags['tag'] = df_tags['tag'].astype(str)  # Ensure 'tag' column is in string format\n",
        "df_tags['tag_tokens'] = df_tags['tag'].apply(lambda x: word_tokenize(x.lower()))\n",
        "\n",
        "# Remove stopwords and perform stemming\n",
        "stop_words = set(stopwords.words('english'))\n",
        "ps = PorterStemmer()\n",
        "\n",
        "df_tags['tag_tokens'] = df_tags['tag_tokens'].apply(lambda tokens: [ps.stem(token) for token in tokens if token not in stop_words])\n",
        "# Lowercasing\n",
        "df_tags['tag'] = df_tags['tag'].str.lower()\n",
        "\n",
        "# Removing Special Characters and Punctuation\n",
        "df_tags['tag'] = df_tags['tag'].str.replace('[^a-zA-Z\\s]', '')\n",
        "\n",
        "# Removing Stopwords\n",
        "stop_words = set(stopwords.words('english'))\n",
        "df_tags['tag'] = df_tags['tag'].apply(lambda x: ' '.join([word for word in x.split() if word not in stop_words]))\n",
        "\n",
        "# Stemming\n",
        "ps = PorterStemmer()\n",
        "df_tags['tag_stemmed'] = df_tags['tag'].apply(lambda x: ' '.join([ps.stem(word) for word in x.split()]))\n",
        "\n",
        "\n",
        "# Handling Missing Values\n",
        "df_tags['tag'].fillna('', inplace=True)\n",
        "\n",
        "# Text Vectorization using TF-IDF\n",
        "vectorizer = TfidfVectorizer()\n",
        "tfidf_matrix = vectorizer.fit_transform(df_tags['tag'])\n",
        "\n",
        "# Display the cleaned DataFrame\n",
        "print(\"\\nCleaned DataFrame with Tokenization:\")\n",
        "print(df_tags.head())\n"
      ],
      "metadata": {
        "execution": {
          "iopub.status.busy": "2024-02-01T17:08:27.282708Z",
          "iopub.execute_input": "2024-02-01T17:08:27.283132Z",
          "iopub.status.idle": "2024-02-01T17:11:12.118231Z",
          "shell.execute_reply.started": "2024-02-01T17:08:27.2831Z",
          "shell.execute_reply": "2024-02-01T17:11:12.117527Z"
        },
        "trusted": true,
        "id": "6k7bEdQ1eaWC",
        "outputId": "637362b4-e1fe-4ac1-f622-7cd4259f3aab"
      },
      "execution_count": null,
      "outputs": [
        {
          "name": "stdout",
          "text": "[nltk_data] Downloading package wordnet to /usr/share/nltk_data...\n[nltk_data]   Package wordnet is already up-to-date!\n[nltk_data] Downloading package wordnet to /usr/share/nltk_data...\n[nltk_data]   Package wordnet is already up-to-date!\nMissing Values in Columns:\nuserId        0\nmovieId       0\ntag          16\ntimestamp     0\ndtype: int64\n\nNumber of Duplicate Rows: 0\n\nData Types:\nuserId                int64\nmovieId               int64\ntag                  object\ntimestamp    datetime64[ns]\ndtype: object\n[nltk_data] Downloading package punkt to /usr/share/nltk_data...\n[nltk_data]   Package punkt is already up-to-date!\n[nltk_data] Downloading package stopwords to /usr/share/nltk_data...\n[nltk_data]   Package stopwords is already up-to-date!\n\nCleaned DataFrame with Tokenization:\n   userId  movieId             tag           timestamp        tag_tokens  \\\n0       3      260         classic 2015-08-13 13:25:55         [classic]   \n1       3      260          sci-fi 2015-08-13 13:24:16          [sci-fi]   \n2       4     1732     dark comedy 2019-11-16 22:33:18    [dark, comedi]   \n3       4     1732  great dialogue 2019-11-16 22:33:24  [great, dialogu]   \n4       4     7569        bad good 2019-11-16 22:30:55   [bad, 's, good]   \n\n     tag_stemmed  \n0        classic  \n1         sci-fi  \n2    dark comedi  \n3  great dialogu  \n4       bad good  \n",
          "output_type": "stream"
        }
      ]
    },
    {
      "cell_type": "code",
      "source": [
        "import pandas as pd\n",
        "import nltk\n",
        "from nltk.tokenize import word_tokenize\n",
        "from nltk.corpus import stopwords\n",
        "from nltk.stem import PorterStemmer, WordNetLemmatizer\n",
        "from sklearn.feature_extraction.text import TfidfVectorizer\n",
        "\n",
        "# Download WordNet, punkt, and stopwords\n",
        "nltk.download('wordnet')\n",
        "nltk.download('punkt')\n",
        "nltk.download('stopwords')\n",
        "\n",
        "# Load your df_tags DataFrame\n",
        "df_tags = pd.read_csv('/kaggle/input/ea-movies/tags.csv')\n",
        "\n",
        "# 1. Check for Missing Values\n",
        "missing_values = df_tags.isnull().sum()\n",
        "print(\"Missing Values in Columns:\")\n",
        "print(missing_values)\n",
        "\n",
        "# 2. Convert 'timestamp' to datetime format\n",
        "df_tags['timestamp'] = pd.to_datetime(df_tags['timestamp'], unit='s')  # Assuming it's in Unix timestamp format\n",
        "\n",
        "# 3. Check for Duplicates\n",
        "duplicate_rows = df_tags.duplicated().sum()\n",
        "print(\"\\nNumber of Duplicate Rows:\", duplicate_rows)\n",
        "\n",
        "# 4. Drop Duplicates (if needed)\n",
        "df_tags = df_tags.drop_duplicates()\n",
        "\n",
        "# 5. Check Data Types\n",
        "data_types = df_tags.dtypes\n",
        "print(\"\\nData Types:\")\n",
        "print(data_types)\n",
        "\n",
        "# 6. Handle Categorical Data (if needed)\n",
        "# Assuming 'tag' is a categorical variable, we can apply tokenization for better analysis.\n",
        "\n",
        "# Tokenization using NLTK\n",
        "df_tags['tag'] = df_tags['tag'].astype(str)  # Ensure 'tag' column is in string format\n",
        "df_tags['tag_tokens'] = df_tags['tag'].apply(lambda x: word_tokenize(x.lower()))\n",
        "\n",
        "# Remove stopwords and perform stemming\n",
        "stop_words = set(stopwords.words('english'))\n",
        "ps = PorterStemmer()\n",
        "\n",
        "df_tags['tag_tokens'] = df_tags['tag_tokens'].apply(lambda tokens: [ps.stem(token) for token in tokens if token not in stop_words])\n",
        "\n",
        "\n",
        "# Handling Missing Values\n",
        "\n",
        "# Display the cleaned DataFrame\n",
        "print(\"\\nCleaned DataFrame with Tokenization:\")\n",
        "print(df_tags.head())\n"
      ],
      "metadata": {
        "execution": {
          "iopub.status.busy": "2024-02-01T20:25:36.712157Z",
          "iopub.execute_input": "2024-02-01T20:25:36.713245Z",
          "iopub.status.idle": "2024-02-01T20:27:44.140402Z",
          "shell.execute_reply.started": "2024-02-01T20:25:36.713189Z",
          "shell.execute_reply": "2024-02-01T20:27:44.139658Z"
        },
        "trusted": true,
        "id": "cyxwlGVJeaWE",
        "outputId": "4493b148-9bea-41a4-b30b-92d152504ad9"
      },
      "execution_count": null,
      "outputs": [
        {
          "name": "stdout",
          "text": "[nltk_data] Downloading package wordnet to /usr/share/nltk_data...\n[nltk_data]   Package wordnet is already up-to-date!\n[nltk_data] Downloading package punkt to /usr/share/nltk_data...\n[nltk_data]   Package punkt is already up-to-date!\n[nltk_data] Downloading package stopwords to /usr/share/nltk_data...\n[nltk_data]   Package stopwords is already up-to-date!\nMissing Values in Columns:\nuserId        0\nmovieId       0\ntag          16\ntimestamp     0\ndtype: int64\n\nNumber of Duplicate Rows: 0\n\nData Types:\nuserId                int64\nmovieId               int64\ntag                  object\ntimestamp    datetime64[ns]\ndtype: object\n\nCleaned DataFrame with Tokenization:\n   userId  movieId               tag           timestamp        tag_tokens\n0       3      260           classic 2015-08-13 13:25:55         [classic]\n1       3      260            sci-fi 2015-08-13 13:24:16          [sci-fi]\n2       4     1732       dark comedy 2019-11-16 22:33:18    [dark, comedi]\n3       4     1732    great dialogue 2019-11-16 22:33:24  [great, dialogu]\n4       4     7569  so bad it's good 2019-11-16 22:30:55   [bad, 's, good]\n",
          "output_type": "stream"
        }
      ]
    },
    {
      "cell_type": "markdown",
      "source": [
        "## Test Data"
      ],
      "metadata": {
        "id": "FcN-_dZ1eaWG"
      }
    },
    {
      "cell_type": "code",
      "source": [
        "import pandas as pd\n",
        "df_test=pd.read_csv(\"/kaggle/input/ea-movies/test.csv\")\n",
        "df_test.head()"
      ],
      "metadata": {
        "execution": {
          "iopub.status.busy": "2024-02-01T17:12:32.107371Z",
          "iopub.execute_input": "2024-02-01T17:12:32.107785Z",
          "iopub.status.idle": "2024-02-01T17:12:33.294989Z",
          "shell.execute_reply.started": "2024-02-01T17:12:32.107755Z",
          "shell.execute_reply": "2024-02-01T17:12:33.293948Z"
        },
        "trusted": true,
        "id": "QpDimVpDeaWG",
        "outputId": "c2321ea4-9ac8-4db4-b2a2-4294c9340440"
      },
      "execution_count": null,
      "outputs": [
        {
          "execution_count": 34,
          "output_type": "execute_result",
          "data": {
            "text/plain": "   userId  movieId\n0       1     2011\n1       1     4144\n2       1     5767\n3       1     6711\n4       1     7318",
            "text/html": "<div>\n<style scoped>\n    .dataframe tbody tr th:only-of-type {\n        vertical-align: middle;\n    }\n\n    .dataframe tbody tr th {\n        vertical-align: top;\n    }\n\n    .dataframe thead th {\n        text-align: right;\n    }\n</style>\n<table border=\"1\" class=\"dataframe\">\n  <thead>\n    <tr style=\"text-align: right;\">\n      <th></th>\n      <th>userId</th>\n      <th>movieId</th>\n    </tr>\n  </thead>\n  <tbody>\n    <tr>\n      <th>0</th>\n      <td>1</td>\n      <td>2011</td>\n    </tr>\n    <tr>\n      <th>1</th>\n      <td>1</td>\n      <td>4144</td>\n    </tr>\n    <tr>\n      <th>2</th>\n      <td>1</td>\n      <td>5767</td>\n    </tr>\n    <tr>\n      <th>3</th>\n      <td>1</td>\n      <td>6711</td>\n    </tr>\n    <tr>\n      <th>4</th>\n      <td>1</td>\n      <td>7318</td>\n    </tr>\n  </tbody>\n</table>\n</div>"
          },
          "metadata": {}
        }
      ]
    },
    {
      "cell_type": "markdown",
      "source": [
        "The test data set has 2 columns:\n",
        "*userId\n",
        "*movieId\n"
      ],
      "metadata": {
        "id": "YRD7zEOkeaWH"
      }
    },
    {
      "cell_type": "code",
      "source": [
        "print(\"The testing set has\", str(len(df_test)),\"observations\")"
      ],
      "metadata": {
        "execution": {
          "iopub.status.busy": "2024-02-01T17:12:36.862908Z",
          "iopub.execute_input": "2024-02-01T17:12:36.863955Z",
          "iopub.status.idle": "2024-02-01T17:12:36.869989Z",
          "shell.execute_reply.started": "2024-02-01T17:12:36.863918Z",
          "shell.execute_reply": "2024-02-01T17:12:36.869038Z"
        },
        "trusted": true,
        "id": "5MEyNQtueaWL",
        "outputId": "891946f8-0994-4ac5-e9f2-a6f0d2197b73"
      },
      "execution_count": null,
      "outputs": [
        {
          "name": "stdout",
          "text": "The testing set has 5000019 observations\n",
          "output_type": "stream"
        }
      ]
    },
    {
      "cell_type": "code",
      "source": [
        "df_test=pd.read_csv(\"/kaggle/input/ea-movies/test.csv\")"
      ],
      "metadata": {
        "execution": {
          "iopub.status.busy": "2024-02-01T17:12:39.310895Z",
          "iopub.execute_input": "2024-02-01T17:12:39.311416Z",
          "iopub.status.idle": "2024-02-01T17:12:39.815563Z",
          "shell.execute_reply.started": "2024-02-01T17:12:39.311373Z",
          "shell.execute_reply": "2024-02-01T17:12:39.81451Z"
        },
        "trusted": true,
        "id": "2gyEzwDueaWN"
      },
      "execution_count": null,
      "outputs": []
    },
    {
      "cell_type": "code",
      "source": [
        "\n",
        "import pandas as pd\n",
        "\n",
        "# Assuming you have loaded or created df_train\n",
        "df_train = pd.read_csv('/kaggle/input/ea-movies/train.csv')  # Replace 'path_to_df_train.csv' with the actual file path\n",
        "\n",
        "# Display the head of df_train\n",
        "df_train.head()\n"
      ],
      "metadata": {
        "execution": {
          "iopub.status.busy": "2024-02-01T17:12:43.361401Z",
          "iopub.execute_input": "2024-02-01T17:12:43.361839Z",
          "iopub.status.idle": "2024-02-01T17:12:49.14996Z",
          "shell.execute_reply.started": "2024-02-01T17:12:43.361808Z",
          "shell.execute_reply": "2024-02-01T17:12:49.148937Z"
        },
        "trusted": true,
        "id": "U4DY7WfReaWO",
        "outputId": "26e15de3-5e3d-47ce-a88b-29f6b7579b3e"
      },
      "execution_count": null,
      "outputs": [
        {
          "execution_count": 37,
          "output_type": "execute_result",
          "data": {
            "text/plain": "   userId  movieId  rating   timestamp\n0    5163    57669     4.0  1518349992\n1  106343        5     4.5  1206238739\n2  146790     5459     5.0  1076215539\n3  106362    32296     2.0  1423042565\n4    9041      366     3.0   833375837",
            "text/html": "<div>\n<style scoped>\n    .dataframe tbody tr th:only-of-type {\n        vertical-align: middle;\n    }\n\n    .dataframe tbody tr th {\n        vertical-align: top;\n    }\n\n    .dataframe thead th {\n        text-align: right;\n    }\n</style>\n<table border=\"1\" class=\"dataframe\">\n  <thead>\n    <tr style=\"text-align: right;\">\n      <th></th>\n      <th>userId</th>\n      <th>movieId</th>\n      <th>rating</th>\n      <th>timestamp</th>\n    </tr>\n  </thead>\n  <tbody>\n    <tr>\n      <th>0</th>\n      <td>5163</td>\n      <td>57669</td>\n      <td>4.0</td>\n      <td>1518349992</td>\n    </tr>\n    <tr>\n      <th>1</th>\n      <td>106343</td>\n      <td>5</td>\n      <td>4.5</td>\n      <td>1206238739</td>\n    </tr>\n    <tr>\n      <th>2</th>\n      <td>146790</td>\n      <td>5459</td>\n      <td>5.0</td>\n      <td>1076215539</td>\n    </tr>\n    <tr>\n      <th>3</th>\n      <td>106362</td>\n      <td>32296</td>\n      <td>2.0</td>\n      <td>1423042565</td>\n    </tr>\n    <tr>\n      <th>4</th>\n      <td>9041</td>\n      <td>366</td>\n      <td>3.0</td>\n      <td>833375837</td>\n    </tr>\n  </tbody>\n</table>\n</div>"
          },
          "metadata": {}
        }
      ]
    },
    {
      "cell_type": "markdown",
      "source": [
        "df_train has four columns:\n",
        "* userId\n",
        "* movieId\n",
        "* rating\n",
        "* timestamp"
      ],
      "metadata": {
        "id": "9C5ucFvbeaWQ"
      }
    },
    {
      "cell_type": "code",
      "source": [
        "print(\"The training set has\", str(len(df_train)),\"observations\")"
      ],
      "metadata": {
        "execution": {
          "iopub.status.busy": "2024-02-01T17:12:49.152003Z",
          "iopub.execute_input": "2024-02-01T17:12:49.152996Z",
          "iopub.status.idle": "2024-02-01T17:12:49.159095Z",
          "shell.execute_reply.started": "2024-02-01T17:12:49.152949Z",
          "shell.execute_reply": "2024-02-01T17:12:49.158162Z"
        },
        "trusted": true,
        "id": "56qfrNqFeaWR",
        "outputId": "aa974837-4033-44fa-c91b-5b20bf61dc32"
      },
      "execution_count": null,
      "outputs": [
        {
          "name": "stdout",
          "text": "The training set has 10000038 observations\n",
          "output_type": "stream"
        }
      ]
    },
    {
      "cell_type": "code",
      "source": [
        "import pandas as pd\n",
        "\n",
        "df_train=pd.read_csv('/kaggle/input/ea-movies/train.csv')\n",
        "# Display the number of missing values in each column before cleaning\n",
        "print(\"Missing Values in Each Column (Before Cleaning):\")\n",
        "print(df_train.isnull().sum())\n",
        "\n",
        "# Drop rows with missing values\n",
        "df_train_cleaned = df_train.dropna()\n",
        "\n",
        "# Display the number of missing values in each column after cleaning\n",
        "print(\"\\nMissing Values in Each Column (After Cleaning):\")\n",
        "print(df_train_cleaned.isnull().sum())\n"
      ],
      "metadata": {
        "execution": {
          "iopub.status.busy": "2024-02-01T17:12:53.220278Z",
          "iopub.execute_input": "2024-02-01T17:12:53.220686Z",
          "iopub.status.idle": "2024-02-01T17:12:55.765304Z",
          "shell.execute_reply.started": "2024-02-01T17:12:53.220658Z",
          "shell.execute_reply": "2024-02-01T17:12:55.764291Z"
        },
        "trusted": true,
        "id": "WySqemSHeaWS",
        "outputId": "0a40c1b9-19cd-45b7-a669-f308f9479d08"
      },
      "execution_count": null,
      "outputs": [
        {
          "name": "stdout",
          "text": "Missing Values in Each Column (Before Cleaning):\nuserId       0\nmovieId      0\nrating       0\ntimestamp    0\ndtype: int64\n\nMissing Values in Each Column (After Cleaning):\nuserId       0\nmovieId      0\nrating       0\ntimestamp    0\ndtype: int64\n",
          "output_type": "stream"
        }
      ]
    },
    {
      "cell_type": "markdown",
      "source": [
        "## Sample Submision"
      ],
      "metadata": {
        "id": "WNqvHCo7eaWT"
      }
    },
    {
      "cell_type": "code",
      "source": [
        "df_sample_submission=pd.read_csv(\"/kaggle/input/ea-movies/sample_submission.csv\")\n",
        "df_sample_submission.head()"
      ],
      "metadata": {
        "execution": {
          "iopub.status.busy": "2024-02-01T17:12:56.313169Z",
          "iopub.execute_input": "2024-02-01T17:12:56.313652Z",
          "iopub.status.idle": "2024-02-01T17:12:59.171309Z",
          "shell.execute_reply.started": "2024-02-01T17:12:56.313617Z",
          "shell.execute_reply": "2024-02-01T17:12:59.170222Z"
        },
        "trusted": true,
        "id": "LyxO3v1ReaWU",
        "outputId": "65977491-cb3f-4631-f824-6273b7920dec"
      },
      "execution_count": null,
      "outputs": [
        {
          "execution_count": 40,
          "output_type": "execute_result",
          "data": {
            "text/plain": "       Id  rating\n0  1_2011     1.0\n1  1_4144     1.0\n2  1_5767     1.0\n3  1_6711     1.0\n4  1_7318     1.0",
            "text/html": "<div>\n<style scoped>\n    .dataframe tbody tr th:only-of-type {\n        vertical-align: middle;\n    }\n\n    .dataframe tbody tr th {\n        vertical-align: top;\n    }\n\n    .dataframe thead th {\n        text-align: right;\n    }\n</style>\n<table border=\"1\" class=\"dataframe\">\n  <thead>\n    <tr style=\"text-align: right;\">\n      <th></th>\n      <th>Id</th>\n      <th>rating</th>\n    </tr>\n  </thead>\n  <tbody>\n    <tr>\n      <th>0</th>\n      <td>1_2011</td>\n      <td>1.0</td>\n    </tr>\n    <tr>\n      <th>1</th>\n      <td>1_4144</td>\n      <td>1.0</td>\n    </tr>\n    <tr>\n      <th>2</th>\n      <td>1_5767</td>\n      <td>1.0</td>\n    </tr>\n    <tr>\n      <th>3</th>\n      <td>1_6711</td>\n      <td>1.0</td>\n    </tr>\n    <tr>\n      <th>4</th>\n      <td>1_7318</td>\n      <td>1.0</td>\n    </tr>\n  </tbody>\n</table>\n</div>"
          },
          "metadata": {}
        }
      ]
    },
    {
      "cell_type": "code",
      "source": [
        "df_sample_submission.info()"
      ],
      "metadata": {
        "execution": {
          "iopub.status.busy": "2024-02-01T17:13:19.611999Z",
          "iopub.execute_input": "2024-02-01T17:13:19.612422Z",
          "iopub.status.idle": "2024-02-01T17:13:19.630614Z",
          "shell.execute_reply.started": "2024-02-01T17:13:19.612391Z",
          "shell.execute_reply": "2024-02-01T17:13:19.62942Z"
        },
        "trusted": true,
        "id": "GHchOf6geaWV",
        "outputId": "cc96aecc-a24f-40be-f874-64afe59e7107"
      },
      "execution_count": null,
      "outputs": [
        {
          "name": "stdout",
          "text": "<class 'pandas.core.frame.DataFrame'>\nRangeIndex: 5000019 entries, 0 to 5000018\nData columns (total 2 columns):\n #   Column  Dtype  \n---  ------  -----  \n 0   Id      object \n 1   rating  float64\ndtypes: float64(1), object(1)\nmemory usage: 76.3+ MB\n",
          "output_type": "stream"
        }
      ]
    },
    {
      "cell_type": "code",
      "source": [
        "import pandas as pd\n",
        "\n",
        "\n",
        "# Display the number of missing values in each column before cleaning\n",
        "print(\"Missing Values in Each Column (Before Cleaning):\")\n",
        "print(df_sample_submission.isnull().sum())\n",
        "\n",
        "# Drop rows with missing values\n",
        "df_sample_submission_cleaned = df_sample_submission.dropna()\n",
        "\n",
        "# Display the number of missing values in each column after cleaning\n",
        "print(\"\\nMissing Values in Each Column (After Cleaning):\")\n",
        "print(df_sample_submission_cleaned.isnull().sum())\n"
      ],
      "metadata": {
        "execution": {
          "iopub.status.busy": "2024-02-01T17:13:22.238801Z",
          "iopub.execute_input": "2024-02-01T17:13:22.239243Z",
          "iopub.status.idle": "2024-02-01T17:13:22.804549Z",
          "shell.execute_reply.started": "2024-02-01T17:13:22.239199Z",
          "shell.execute_reply": "2024-02-01T17:13:22.803628Z"
        },
        "trusted": true,
        "id": "OxUU0KzpeaWW",
        "outputId": "4fea3ec6-b51a-45f0-e26f-3e6a2f4a5ac3"
      },
      "execution_count": null,
      "outputs": [
        {
          "name": "stdout",
          "text": "Missing Values in Each Column (Before Cleaning):\nId        0\nrating    0\ndtype: int64\n\nMissing Values in Each Column (After Cleaning):\nId        0\nrating    0\ndtype: int64\n",
          "output_type": "stream"
        }
      ]
    },
    {
      "cell_type": "markdown",
      "source": [
        "## Exploratory Data Analysis\n",
        "discovery phase and data understanding"
      ],
      "metadata": {
        "id": "hcDcZIjseaWX"
      }
    },
    {
      "cell_type": "markdown",
      "source": [
        "## Distribution Of Ratings\n",
        "\n",
        "Descriptive statistics"
      ],
      "metadata": {
        "id": "9JL9hvPveaWY"
      }
    },
    {
      "cell_type": "code",
      "source": [
        "import pandas as pd\n",
        "\n",
        "# Load the datasets with the correct file paths\n",
        "df_imdb = pd.read_csv('/kaggle/input/ea-movies/imdb_data.csv')\n",
        "df_movies = pd.read_csv('/kaggle/input/ea-movies/movies.csv')\n",
        "\n",
        "# Merge the datasets based on the 'movieId' column\n",
        "merged_df = pd.merge(df_imdb, df_movies, on='movieId', how='inner')\n",
        "\n",
        "# Display the merged DataFrame\n",
        "print(\"Merged DataFrame:\")\n",
        "print(merged_df)\n"
      ],
      "metadata": {
        "execution": {
          "iopub.status.busy": "2024-02-01T21:12:28.129704Z",
          "iopub.execute_input": "2024-02-01T21:12:28.130074Z",
          "iopub.status.idle": "2024-02-01T21:12:28.290802Z",
          "shell.execute_reply.started": "2024-02-01T21:12:28.13005Z",
          "shell.execute_reply": "2024-02-01T21:12:28.289902Z"
        },
        "trusted": true,
        "id": "HejnbrMoeaWZ",
        "outputId": "3eadadc4-6695-4a21-b45f-79a012c0020b"
      },
      "execution_count": null,
      "outputs": [
        {
          "name": "stdout",
          "text": "Merged DataFrame:\n       movieId                                         title_cast  \\\n0            1  Tom Hanks|Tim Allen|Don Rickles|Jim Varney|Wal...   \n1            2  Robin Williams|Jonathan Hyde|Kirsten Dunst|Bra...   \n2            3  Walter Matthau|Jack Lemmon|Sophia Loren|Ann-Ma...   \n3            4  Whitney Houston|Angela Bassett|Loretta Devine|...   \n4            5  Steve Martin|Diane Keaton|Martin Short|Kimberl...   \n...        ...                                                ...   \n24861   131254  Franz Dinda|Florian Lukas|Axel Stein|Kailas Ma...   \n24862   131256  Rick Kavanian|Axel Stein|Eva Habermann|Christo...   \n24863   131258  Nam-gil Kim|Ye-jin Son|Hae-Jin Yoo|Kyeong-yeon...   \n24864   131260  Martti Suosalo|Ilkka Koivula|Vexi Salmi|Riitta...   \n24865   131262  Sophie Lane Curtis|Kelly Reilly|Graham Phillip...   \n\n                  director  runtime        budget  \\\n0            John Lasseter     81.0   $30,000,000   \n1       Jonathan Hensleigh    104.0   $65,000,000   \n2      Mark Steven Johnson    101.0   $25,000,000   \n3           Terry McMillan    124.0   $16,000,000   \n4           Albert Hackett    106.0   $30,000,000   \n...                    ...      ...           ...   \n24861        Carsten Funke     85.0           NaN   \n24862      Matthias Dinter     83.0  DEM5,800,000   \n24863       Seong-il Cheon    130.0           NaN   \n24864       Timo Koivusalo    102.0           NaN   \n24865      Hilary Brougher     96.0           NaN   \n\n                                           plot_keywords  \\\n0                       toy|rivalry|cowboy|cgi animation   \n1                       board game|adventurer|fight|game   \n2                             boat|lake|neighbor|rivalry   \n3      black american|husband wife relationship|betra...   \n4                        fatherhood|doberman|dog|mansion   \n...                                                  ...   \n24861  man wrapped in a towel|man wears a thong|male ...   \n24862   ski|ski resort|ampersand in title|drink in title   \n24863                    pirate|sword fight|korea|bandit   \n24864       friend|friendship|television show|restaurant   \n24865                             hex|witch|virgin|blood   \n\n                                    title  \\\n0                        Toy Story (1995)   \n1                          Jumanji (1995)   \n2                 Grumpier Old Men (1995)   \n3                Waiting to Exhale (1995)   \n4      Father of the Bride Part II (1995)   \n...                                   ...   \n24861        Kein Bund für's Leben (2007)   \n24862       Feuer, Eis & Dosenbier (2002)   \n24863                  The Pirates (2014)   \n24864                 Rentun Ruusu (2001)   \n24865                    Innocence (2014)   \n\n                                            genres  \n0      Adventure|Animation|Children|Comedy|Fantasy  \n1                       Adventure|Children|Fantasy  \n2                                   Comedy|Romance  \n3                             Comedy|Drama|Romance  \n4                                           Comedy  \n...                                            ...  \n24861                                       Comedy  \n24862                                       Comedy  \n24863                                    Adventure  \n24864                           (no genres listed)  \n24865                     Adventure|Fantasy|Horror  \n\n[24866 rows x 8 columns]\n",
          "output_type": "stream"
        }
      ]
    },
    {
      "cell_type": "code",
      "source": [
        "import pandas as pd\n",
        "\n",
        "# Assuming df_train is your DataFrame\n",
        "df_train = pd.read_csv(\"/kaggle/input/ea-movies/train.csv\")  # Make sure to replace with your actual file path\n",
        "result_df = pd.DataFrame(df_train['rating'].describe().apply(lambda x: round(x, 2)), columns=['rating']).rename(columns={'rating': 'Statistic'})\n",
        "\n",
        "# Now you can use result_df for further processing or display\n",
        "pd.DataFrame(df_train['rating'].describe().apply(lambda x: round(x,2)),\n",
        "             columns=['rating']).rename(columns={'rating':'Statistic'})"
      ],
      "metadata": {
        "execution": {
          "iopub.status.busy": "2024-02-01T21:12:37.031177Z",
          "iopub.execute_input": "2024-02-01T21:12:37.032352Z",
          "iopub.status.idle": "2024-02-01T21:12:40.234627Z",
          "shell.execute_reply.started": "2024-02-01T21:12:37.032301Z",
          "shell.execute_reply": "2024-02-01T21:12:40.23366Z"
        },
        "trusted": true,
        "id": "fVYRq0EmeaWb",
        "outputId": "8c83fc79-0721-42f3-a3c2-b9ce0d41c6d0"
      },
      "execution_count": null,
      "outputs": [
        {
          "execution_count": 14,
          "output_type": "execute_result",
          "data": {
            "text/plain": "         Statistic\ncount  10000038.00\nmean          3.53\nstd           1.06\nmin           0.50\n25%           3.00\n50%           3.50\n75%           4.00\nmax           5.00",
            "text/html": "<div>\n<style scoped>\n    .dataframe tbody tr th:only-of-type {\n        vertical-align: middle;\n    }\n\n    .dataframe tbody tr th {\n        vertical-align: top;\n    }\n\n    .dataframe thead th {\n        text-align: right;\n    }\n</style>\n<table border=\"1\" class=\"dataframe\">\n  <thead>\n    <tr style=\"text-align: right;\">\n      <th></th>\n      <th>Statistic</th>\n    </tr>\n  </thead>\n  <tbody>\n    <tr>\n      <th>count</th>\n      <td>10000038.00</td>\n    </tr>\n    <tr>\n      <th>mean</th>\n      <td>3.53</td>\n    </tr>\n    <tr>\n      <th>std</th>\n      <td>1.06</td>\n    </tr>\n    <tr>\n      <th>min</th>\n      <td>0.50</td>\n    </tr>\n    <tr>\n      <th>25%</th>\n      <td>3.00</td>\n    </tr>\n    <tr>\n      <th>50%</th>\n      <td>3.50</td>\n    </tr>\n    <tr>\n      <th>75%</th>\n      <td>4.00</td>\n    </tr>\n    <tr>\n      <th>max</th>\n      <td>5.00</td>\n    </tr>\n  </tbody>\n</table>\n</div>"
          },
          "metadata": {}
        }
      ]
    },
    {
      "cell_type": "markdown",
      "source": [
        "* The average rating of all the movies in our dataset is 3.53.\n",
        "* The median (middle value) is 3.5 which is slighly less than the mean.\n",
        "* The standard deviation (spread around the average) is  1.06.\n",
        "* The lowest rating is 0.5 and the highest rating is 5.\n",
        "* The lower quantile (bottom 25 cut-off point) is 3 and the upper quantile (top 25 cut-off point) is 4.\n"
      ],
      "metadata": {
        "id": "0x-j0jLNeaWd"
      }
    },
    {
      "cell_type": "code",
      "source": [
        "# Display the column names\n",
        "print(df.columns)\n",
        "\n",
        "# Display unique values in each column\n",
        "for column in df.columns:\n",
        "    print(f\"Unique values in {column}: {df[column].unique()}\")\n"
      ],
      "metadata": {
        "execution": {
          "iopub.status.busy": "2024-02-01T21:12:48.264786Z",
          "iopub.execute_input": "2024-02-01T21:12:48.265157Z",
          "iopub.status.idle": "2024-02-01T21:12:50.134622Z",
          "shell.execute_reply.started": "2024-02-01T21:12:48.26513Z",
          "shell.execute_reply": "2024-02-01T21:12:50.133526Z"
        },
        "trusted": true,
        "id": "Xlsfx_ePeaWe",
        "outputId": "0b020b7f-df73-4f1c-cfb8-b0178826b164"
      },
      "execution_count": null,
      "outputs": [
        {
          "name": "stdout",
          "text": "Index(['userId', 'movieId', 'rating', 'timestamp'], dtype='object')\nUnique values in userId: [  5163 106343 146790 ...  79096  14908 102344]\nUnique values in movieId: [ 57669      5   5459 ... 206347 196867  97148]\nUnique values in rating: [4.  4.5 5.  2.  3.  1.  3.5 2.5 0.5 1.5]\nUnique values in timestamp: [1518349992 1206238739 1076215539 ... 1521235092 1227674807 1479921530]\n",
          "output_type": "stream"
        }
      ]
    },
    {
      "cell_type": "code",
      "source": [
        "# Assuming df_train is your DataFrame\n",
        "df_train = pd.read_csv(\"/kaggle/input/ea-movies/train.csv\")  # Make sure to replace with your actual file path\n",
        "\n",
        "rating_counts = pd.DataFrame(df_train.groupby(['rating']).count().reset_index().rename(columns={'userId': 'count'})[['rating', 'count']])\n"
      ],
      "metadata": {
        "execution": {
          "iopub.status.busy": "2024-02-01T21:13:29.656198Z",
          "iopub.execute_input": "2024-02-01T21:13:29.656578Z",
          "iopub.status.idle": "2024-02-01T21:13:32.411349Z",
          "shell.execute_reply.started": "2024-02-01T21:13:29.656551Z",
          "shell.execute_reply": "2024-02-01T21:13:32.410428Z"
        },
        "trusted": true,
        "id": "WCavzuiUeaWf"
      },
      "execution_count": null,
      "outputs": []
    },
    {
      "cell_type": "code",
      "source": [
        "# Assuming you have a DataFrame named df_train\n",
        "df_train = pd.read_csv(\"/kaggle/input/ea-movies/train.csv\")\n",
        "\n",
        "rating_counts = df_train.groupby(['rating']).size().reset_index(name='count')\n"
      ],
      "metadata": {
        "execution": {
          "iopub.status.busy": "2024-02-01T19:33:41.262674Z",
          "iopub.execute_input": "2024-02-01T19:33:41.263143Z",
          "iopub.status.idle": "2024-02-01T19:33:43.932401Z",
          "shell.execute_reply.started": "2024-02-01T19:33:41.263104Z",
          "shell.execute_reply": "2024-02-01T19:33:43.93127Z"
        },
        "trusted": true,
        "id": "3x19T5JteaWg"
      },
      "execution_count": null,
      "outputs": []
    },
    {
      "cell_type": "code",
      "source": [
        "import pandas as pd\n",
        "\n",
        "# Assuming you have a CSV file named 'train.csv' in the specified path\n",
        "df_train = pd.read_csv(\"/kaggle/input/ea-movies/train.csv\")\n",
        "\n",
        "# Group by 'rating' column and count occurrences\n",
        "rating_counts = df_train['rating'].value_counts().reset_index(name='count')\n"
      ],
      "metadata": {
        "execution": {
          "iopub.status.busy": "2024-02-01T19:00:29.863332Z",
          "iopub.execute_input": "2024-02-01T19:00:29.864434Z",
          "iopub.status.idle": "2024-02-01T19:00:32.434446Z",
          "shell.execute_reply.started": "2024-02-01T19:00:29.864404Z",
          "shell.execute_reply": "2024-02-01T19:00:32.433483Z"
        },
        "trusted": true,
        "id": "mK-FG2HxeaWh"
      },
      "execution_count": null,
      "outputs": []
    },
    {
      "cell_type": "markdown",
      "source": [
        "We use the dataframe above to obtain a bargraph showing the distribution of ratings"
      ],
      "metadata": {
        "id": "aA-N-zsGeaWi"
      }
    },
    {
      "cell_type": "code",
      "source": [
        "import pandas as pd\n",
        "df_train = pd.read_csv(\"/kaggle/input/ea-movies/train.csv\")\n",
        "\n",
        "# Assuming you have loaded or created the DataFrame df\n",
        "# Check if 'rating' column exists\n",
        "if 'rating' in df.columns:\n",
        "    rating_counts = df_train['rating'].value_counts().reset_index().rename(columns={'index': 'rating', 'rating': 'count'})\n",
        "\n",
        "    # Import the pyplot module from matplotlib\n",
        "    plot = plt.figure(figsize=(15, 10))\n",
        "\n",
        "    # Rest of your plotting code using rating_counts\n",
        "\n",
        "else:\n",
        "    print(\"Column 'rating' not found in the DataFrame.\")\n"
      ],
      "metadata": {
        "execution": {
          "iopub.status.busy": "2024-02-01T19:35:34.55771Z",
          "iopub.execute_input": "2024-02-01T19:35:34.558102Z",
          "iopub.status.idle": "2024-02-01T19:35:37.031266Z",
          "shell.execute_reply.started": "2024-02-01T19:35:34.558073Z",
          "shell.execute_reply": "2024-02-01T19:35:37.030295Z"
        },
        "trusted": true,
        "id": "QnLuYfNVeaWi",
        "outputId": "02f1cdb9-79b7-47ed-df5e-21d0a1869edf"
      },
      "execution_count": null,
      "outputs": [
        {
          "name": "stdout",
          "text": "Column 'rating' not found in the DataFrame.\n",
          "output_type": "stream"
        }
      ]
    },
    {
      "cell_type": "code",
      "source": [
        "#Plot showing the distribution of counts\n",
        "import matplotlib.pyplot as plt\n",
        "import seaborn as sns\n",
        "import pandas as pd\n",
        "df_train=\n",
        "# Assuming you have loaded or created the DataFrame df\n",
        "rating_counts = df_train['rating'].value_counts().reset_index().rename(columns={'index': 'rating', 'rating': 'count'})\n",
        "\n",
        "# Import the pyplot module from matplotlib\n",
        "plot = plt.figure(figsize=(15, 10))\n",
        "a = sns.barplot(x='rating',y='count',data=rating_counts,palette='crest')\n",
        "a.set_title('The Distribution of Ratings',fontsize=20)\n",
        "\n",
        "#Obtaining percentages on top of bars\n",
        "n_obs = [i.get_height() for i in a.patches]\n",
        "total = sum(n_obs)\n",
        "\n",
        "for i in a.patches:\n",
        "    # get_x pulls left or right; get_height pushes up or down\n",
        "    a.text(i.get_x()+i.get_width() / 2, i.get_height()+0.5, \\\n",
        "            str(round((i.get_height()/total)*100, 1))+'%', fontsize=15,\n",
        "                color='black',ha='center')\n",
        "\n",
        "plt.show()\n"
      ],
      "metadata": {
        "execution": {
          "iopub.status.busy": "2024-02-01T19:36:27.755542Z",
          "iopub.execute_input": "2024-02-01T19:36:27.756483Z",
          "iopub.status.idle": "2024-02-01T19:36:28.227962Z",
          "shell.execute_reply.started": "2024-02-01T19:36:27.756449Z",
          "shell.execute_reply": "2024-02-01T19:36:28.226566Z"
        },
        "trusted": true,
        "id": "vEhQX0gBeaWj",
        "outputId": "d37b37ff-e194-410a-fabe-ae7a5bdd48f3"
      },
      "execution_count": null,
      "outputs": [
        {
          "traceback": [
            "\u001b[0;31m---------------------------------------------------------------------------\u001b[0m",
            "\u001b[0;31mValueError\u001b[0m                                Traceback (most recent call last)",
            "Cell \u001b[0;32mIn[119], line 11\u001b[0m\n\u001b[1;32m      9\u001b[0m \u001b[38;5;66;03m# Import the pyplot module from matplotlib\u001b[39;00m\n\u001b[1;32m     10\u001b[0m plot \u001b[38;5;241m=\u001b[39m plt\u001b[38;5;241m.\u001b[39mfigure(figsize\u001b[38;5;241m=\u001b[39m(\u001b[38;5;241m15\u001b[39m, \u001b[38;5;241m10\u001b[39m))\n\u001b[0;32m---> 11\u001b[0m a \u001b[38;5;241m=\u001b[39m \u001b[43msns\u001b[49m\u001b[38;5;241;43m.\u001b[39;49m\u001b[43mbarplot\u001b[49m\u001b[43m(\u001b[49m\u001b[43mx\u001b[49m\u001b[38;5;241;43m=\u001b[39;49m\u001b[38;5;124;43m'\u001b[39;49m\u001b[38;5;124;43mrating\u001b[39;49m\u001b[38;5;124;43m'\u001b[39;49m\u001b[43m,\u001b[49m\u001b[43my\u001b[49m\u001b[38;5;241;43m=\u001b[39;49m\u001b[38;5;124;43m'\u001b[39;49m\u001b[38;5;124;43mcount\u001b[39;49m\u001b[38;5;124;43m'\u001b[39;49m\u001b[43m,\u001b[49m\u001b[43mdata\u001b[49m\u001b[38;5;241;43m=\u001b[39;49m\u001b[43mrating_counts\u001b[49m\u001b[43m,\u001b[49m\u001b[43mpalette\u001b[49m\u001b[38;5;241;43m=\u001b[39;49m\u001b[38;5;124;43m'\u001b[39;49m\u001b[38;5;124;43mcrest\u001b[39;49m\u001b[38;5;124;43m'\u001b[39;49m\u001b[43m)\u001b[49m\n\u001b[1;32m     12\u001b[0m a\u001b[38;5;241m.\u001b[39mset_title(\u001b[38;5;124m'\u001b[39m\u001b[38;5;124mThe Distribution of Ratings\u001b[39m\u001b[38;5;124m'\u001b[39m,fontsize\u001b[38;5;241m=\u001b[39m\u001b[38;5;241m20\u001b[39m)\n\u001b[1;32m     14\u001b[0m \u001b[38;5;66;03m#Obtaining percentages on top of bars\u001b[39;00m\n",
            "File \u001b[0;32m/opt/conda/lib/python3.10/site-packages/seaborn/categorical.py:2755\u001b[0m, in \u001b[0;36mbarplot\u001b[0;34m(data, x, y, hue, order, hue_order, estimator, errorbar, n_boot, units, seed, orient, color, palette, saturation, width, errcolor, errwidth, capsize, dodge, ci, ax, **kwargs)\u001b[0m\n\u001b[1;32m   2752\u001b[0m \u001b[38;5;28;01mif\u001b[39;00m estimator \u001b[38;5;129;01mis\u001b[39;00m \u001b[38;5;28mlen\u001b[39m:\n\u001b[1;32m   2753\u001b[0m     estimator \u001b[38;5;241m=\u001b[39m \u001b[38;5;124m\"\u001b[39m\u001b[38;5;124msize\u001b[39m\u001b[38;5;124m\"\u001b[39m\n\u001b[0;32m-> 2755\u001b[0m plotter \u001b[38;5;241m=\u001b[39m \u001b[43m_BarPlotter\u001b[49m\u001b[43m(\u001b[49m\u001b[43mx\u001b[49m\u001b[43m,\u001b[49m\u001b[43m \u001b[49m\u001b[43my\u001b[49m\u001b[43m,\u001b[49m\u001b[43m \u001b[49m\u001b[43mhue\u001b[49m\u001b[43m,\u001b[49m\u001b[43m \u001b[49m\u001b[43mdata\u001b[49m\u001b[43m,\u001b[49m\u001b[43m \u001b[49m\u001b[43morder\u001b[49m\u001b[43m,\u001b[49m\u001b[43m \u001b[49m\u001b[43mhue_order\u001b[49m\u001b[43m,\u001b[49m\n\u001b[1;32m   2756\u001b[0m \u001b[43m                      \u001b[49m\u001b[43mestimator\u001b[49m\u001b[43m,\u001b[49m\u001b[43m \u001b[49m\u001b[43merrorbar\u001b[49m\u001b[43m,\u001b[49m\u001b[43m \u001b[49m\u001b[43mn_boot\u001b[49m\u001b[43m,\u001b[49m\u001b[43m \u001b[49m\u001b[43munits\u001b[49m\u001b[43m,\u001b[49m\u001b[43m \u001b[49m\u001b[43mseed\u001b[49m\u001b[43m,\u001b[49m\n\u001b[1;32m   2757\u001b[0m \u001b[43m                      \u001b[49m\u001b[43morient\u001b[49m\u001b[43m,\u001b[49m\u001b[43m \u001b[49m\u001b[43mcolor\u001b[49m\u001b[43m,\u001b[49m\u001b[43m \u001b[49m\u001b[43mpalette\u001b[49m\u001b[43m,\u001b[49m\u001b[43m \u001b[49m\u001b[43msaturation\u001b[49m\u001b[43m,\u001b[49m\n\u001b[1;32m   2758\u001b[0m \u001b[43m                      \u001b[49m\u001b[43mwidth\u001b[49m\u001b[43m,\u001b[49m\u001b[43m \u001b[49m\u001b[43merrcolor\u001b[49m\u001b[43m,\u001b[49m\u001b[43m \u001b[49m\u001b[43merrwidth\u001b[49m\u001b[43m,\u001b[49m\u001b[43m \u001b[49m\u001b[43mcapsize\u001b[49m\u001b[43m,\u001b[49m\u001b[43m \u001b[49m\u001b[43mdodge\u001b[49m\u001b[43m)\u001b[49m\n\u001b[1;32m   2760\u001b[0m \u001b[38;5;28;01mif\u001b[39;00m ax \u001b[38;5;129;01mis\u001b[39;00m \u001b[38;5;28;01mNone\u001b[39;00m:\n\u001b[1;32m   2761\u001b[0m     ax \u001b[38;5;241m=\u001b[39m plt\u001b[38;5;241m.\u001b[39mgca()\n",
            "File \u001b[0;32m/opt/conda/lib/python3.10/site-packages/seaborn/categorical.py:1530\u001b[0m, in \u001b[0;36m_BarPlotter.__init__\u001b[0;34m(self, x, y, hue, data, order, hue_order, estimator, errorbar, n_boot, units, seed, orient, color, palette, saturation, width, errcolor, errwidth, capsize, dodge)\u001b[0m\n\u001b[1;32m   1525\u001b[0m \u001b[38;5;28;01mdef\u001b[39;00m \u001b[38;5;21m__init__\u001b[39m(\u001b[38;5;28mself\u001b[39m, x, y, hue, data, order, hue_order,\n\u001b[1;32m   1526\u001b[0m              estimator, errorbar, n_boot, units, seed,\n\u001b[1;32m   1527\u001b[0m              orient, color, palette, saturation, width,\n\u001b[1;32m   1528\u001b[0m              errcolor, errwidth, capsize, dodge):\n\u001b[1;32m   1529\u001b[0m \u001b[38;5;250m    \u001b[39m\u001b[38;5;124;03m\"\"\"Initialize the plotter.\"\"\"\u001b[39;00m\n\u001b[0;32m-> 1530\u001b[0m     \u001b[38;5;28;43mself\u001b[39;49m\u001b[38;5;241;43m.\u001b[39;49m\u001b[43mestablish_variables\u001b[49m\u001b[43m(\u001b[49m\u001b[43mx\u001b[49m\u001b[43m,\u001b[49m\u001b[43m \u001b[49m\u001b[43my\u001b[49m\u001b[43m,\u001b[49m\u001b[43m \u001b[49m\u001b[43mhue\u001b[49m\u001b[43m,\u001b[49m\u001b[43m \u001b[49m\u001b[43mdata\u001b[49m\u001b[43m,\u001b[49m\u001b[43m \u001b[49m\u001b[43morient\u001b[49m\u001b[43m,\u001b[49m\n\u001b[1;32m   1531\u001b[0m \u001b[43m                             \u001b[49m\u001b[43morder\u001b[49m\u001b[43m,\u001b[49m\u001b[43m \u001b[49m\u001b[43mhue_order\u001b[49m\u001b[43m,\u001b[49m\u001b[43m \u001b[49m\u001b[43munits\u001b[49m\u001b[43m)\u001b[49m\n\u001b[1;32m   1532\u001b[0m     \u001b[38;5;28mself\u001b[39m\u001b[38;5;241m.\u001b[39mestablish_colors(color, palette, saturation)\n\u001b[1;32m   1533\u001b[0m     \u001b[38;5;28mself\u001b[39m\u001b[38;5;241m.\u001b[39mestimate_statistic(estimator, errorbar, n_boot, seed)\n",
            "File \u001b[0;32m/opt/conda/lib/python3.10/site-packages/seaborn/categorical.py:541\u001b[0m, in \u001b[0;36m_CategoricalPlotter.establish_variables\u001b[0;34m(self, x, y, hue, data, orient, order, hue_order, units)\u001b[0m\n\u001b[1;32m    539\u001b[0m     \u001b[38;5;28;01mif\u001b[39;00m \u001b[38;5;28misinstance\u001b[39m(var, \u001b[38;5;28mstr\u001b[39m):\n\u001b[1;32m    540\u001b[0m         err \u001b[38;5;241m=\u001b[39m \u001b[38;5;124mf\u001b[39m\u001b[38;5;124m\"\u001b[39m\u001b[38;5;124mCould not interpret input \u001b[39m\u001b[38;5;124m'\u001b[39m\u001b[38;5;132;01m{\u001b[39;00mvar\u001b[38;5;132;01m}\u001b[39;00m\u001b[38;5;124m'\u001b[39m\u001b[38;5;124m\"\u001b[39m\n\u001b[0;32m--> 541\u001b[0m         \u001b[38;5;28;01mraise\u001b[39;00m \u001b[38;5;167;01mValueError\u001b[39;00m(err)\n\u001b[1;32m    543\u001b[0m \u001b[38;5;66;03m# Figure out the plotting orientation\u001b[39;00m\n\u001b[1;32m    544\u001b[0m orient \u001b[38;5;241m=\u001b[39m infer_orient(\n\u001b[1;32m    545\u001b[0m     x, y, orient, require_numeric\u001b[38;5;241m=\u001b[39m\u001b[38;5;28mself\u001b[39m\u001b[38;5;241m.\u001b[39mrequire_numeric\n\u001b[1;32m    546\u001b[0m )\n",
            "\u001b[0;31mValueError\u001b[0m: Could not interpret input 'rating'"
          ],
          "ename": "ValueError",
          "evalue": "Could not interpret input 'rating'",
          "output_type": "error"
        },
        {
          "output_type": "display_data",
          "data": {
            "text/plain": "<Figure size 1500x1000 with 0 Axes>"
          },
          "metadata": {}
        }
      ]
    },
    {
      "cell_type": "code",
      "source": [
        "rating_counts = df['userRating'].value_counts().reset_index().rename(columns={'index': 'rating', 'userRating': 'count'})\n"
      ],
      "metadata": {
        "execution": {
          "iopub.status.busy": "2024-02-01T19:21:49.745391Z",
          "iopub.execute_input": "2024-02-01T19:21:49.745798Z",
          "iopub.status.idle": "2024-02-01T19:21:49.823941Z",
          "shell.execute_reply.started": "2024-02-01T19:21:49.745765Z",
          "shell.execute_reply": "2024-02-01T19:21:49.822662Z"
        },
        "trusted": true,
        "id": "kdl2cuQGeaWl",
        "outputId": "8937e196-11fa-4a85-ab69-21169837c5e8"
      },
      "execution_count": null,
      "outputs": [
        {
          "traceback": [
            "\u001b[0;31m---------------------------------------------------------------------------\u001b[0m",
            "\u001b[0;31mKeyError\u001b[0m                                  Traceback (most recent call last)",
            "File \u001b[0;32m/opt/conda/lib/python3.10/site-packages/pandas/core/indexes/base.py:3653\u001b[0m, in \u001b[0;36mIndex.get_loc\u001b[0;34m(self, key)\u001b[0m\n\u001b[1;32m   3652\u001b[0m \u001b[38;5;28;01mtry\u001b[39;00m:\n\u001b[0;32m-> 3653\u001b[0m     \u001b[38;5;28;01mreturn\u001b[39;00m \u001b[38;5;28;43mself\u001b[39;49m\u001b[38;5;241;43m.\u001b[39;49m\u001b[43m_engine\u001b[49m\u001b[38;5;241;43m.\u001b[39;49m\u001b[43mget_loc\u001b[49m\u001b[43m(\u001b[49m\u001b[43mcasted_key\u001b[49m\u001b[43m)\u001b[49m\n\u001b[1;32m   3654\u001b[0m \u001b[38;5;28;01mexcept\u001b[39;00m \u001b[38;5;167;01mKeyError\u001b[39;00m \u001b[38;5;28;01mas\u001b[39;00m err:\n",
            "File \u001b[0;32m/opt/conda/lib/python3.10/site-packages/pandas/_libs/index.pyx:147\u001b[0m, in \u001b[0;36mpandas._libs.index.IndexEngine.get_loc\u001b[0;34m()\u001b[0m\n",
            "File \u001b[0;32m/opt/conda/lib/python3.10/site-packages/pandas/_libs/index.pyx:176\u001b[0m, in \u001b[0;36mpandas._libs.index.IndexEngine.get_loc\u001b[0;34m()\u001b[0m\n",
            "File \u001b[0;32mpandas/_libs/hashtable_class_helper.pxi:7080\u001b[0m, in \u001b[0;36mpandas._libs.hashtable.PyObjectHashTable.get_item\u001b[0;34m()\u001b[0m\n",
            "File \u001b[0;32mpandas/_libs/hashtable_class_helper.pxi:7088\u001b[0m, in \u001b[0;36mpandas._libs.hashtable.PyObjectHashTable.get_item\u001b[0;34m()\u001b[0m\n",
            "\u001b[0;31mKeyError\u001b[0m: 'userRating'",
            "\nThe above exception was the direct cause of the following exception:\n",
            "\u001b[0;31mKeyError\u001b[0m                                  Traceback (most recent call last)",
            "Cell \u001b[0;32mIn[104], line 1\u001b[0m\n\u001b[0;32m----> 1\u001b[0m rating_counts \u001b[38;5;241m=\u001b[39m \u001b[43mdf\u001b[49m\u001b[43m[\u001b[49m\u001b[38;5;124;43m'\u001b[39;49m\u001b[38;5;124;43muserRating\u001b[39;49m\u001b[38;5;124;43m'\u001b[39;49m\u001b[43m]\u001b[49m\u001b[38;5;241m.\u001b[39mvalue_counts()\u001b[38;5;241m.\u001b[39mreset_index()\u001b[38;5;241m.\u001b[39mrename(columns\u001b[38;5;241m=\u001b[39m{\u001b[38;5;124m'\u001b[39m\u001b[38;5;124mindex\u001b[39m\u001b[38;5;124m'\u001b[39m: \u001b[38;5;124m'\u001b[39m\u001b[38;5;124mrating\u001b[39m\u001b[38;5;124m'\u001b[39m, \u001b[38;5;124m'\u001b[39m\u001b[38;5;124muserRating\u001b[39m\u001b[38;5;124m'\u001b[39m: \u001b[38;5;124m'\u001b[39m\u001b[38;5;124mcount\u001b[39m\u001b[38;5;124m'\u001b[39m})\n",
            "File \u001b[0;32m/opt/conda/lib/python3.10/site-packages/pandas/core/frame.py:3761\u001b[0m, in \u001b[0;36mDataFrame.__getitem__\u001b[0;34m(self, key)\u001b[0m\n\u001b[1;32m   3759\u001b[0m \u001b[38;5;28;01mif\u001b[39;00m \u001b[38;5;28mself\u001b[39m\u001b[38;5;241m.\u001b[39mcolumns\u001b[38;5;241m.\u001b[39mnlevels \u001b[38;5;241m>\u001b[39m \u001b[38;5;241m1\u001b[39m:\n\u001b[1;32m   3760\u001b[0m     \u001b[38;5;28;01mreturn\u001b[39;00m \u001b[38;5;28mself\u001b[39m\u001b[38;5;241m.\u001b[39m_getitem_multilevel(key)\n\u001b[0;32m-> 3761\u001b[0m indexer \u001b[38;5;241m=\u001b[39m \u001b[38;5;28;43mself\u001b[39;49m\u001b[38;5;241;43m.\u001b[39;49m\u001b[43mcolumns\u001b[49m\u001b[38;5;241;43m.\u001b[39;49m\u001b[43mget_loc\u001b[49m\u001b[43m(\u001b[49m\u001b[43mkey\u001b[49m\u001b[43m)\u001b[49m\n\u001b[1;32m   3762\u001b[0m \u001b[38;5;28;01mif\u001b[39;00m is_integer(indexer):\n\u001b[1;32m   3763\u001b[0m     indexer \u001b[38;5;241m=\u001b[39m [indexer]\n",
            "File \u001b[0;32m/opt/conda/lib/python3.10/site-packages/pandas/core/indexes/base.py:3655\u001b[0m, in \u001b[0;36mIndex.get_loc\u001b[0;34m(self, key)\u001b[0m\n\u001b[1;32m   3653\u001b[0m     \u001b[38;5;28;01mreturn\u001b[39;00m \u001b[38;5;28mself\u001b[39m\u001b[38;5;241m.\u001b[39m_engine\u001b[38;5;241m.\u001b[39mget_loc(casted_key)\n\u001b[1;32m   3654\u001b[0m \u001b[38;5;28;01mexcept\u001b[39;00m \u001b[38;5;167;01mKeyError\u001b[39;00m \u001b[38;5;28;01mas\u001b[39;00m err:\n\u001b[0;32m-> 3655\u001b[0m     \u001b[38;5;28;01mraise\u001b[39;00m \u001b[38;5;167;01mKeyError\u001b[39;00m(key) \u001b[38;5;28;01mfrom\u001b[39;00m \u001b[38;5;21;01merr\u001b[39;00m\n\u001b[1;32m   3656\u001b[0m \u001b[38;5;28;01mexcept\u001b[39;00m \u001b[38;5;167;01mTypeError\u001b[39;00m:\n\u001b[1;32m   3657\u001b[0m     \u001b[38;5;66;03m# If we have a listlike key, _check_indexing_error will raise\u001b[39;00m\n\u001b[1;32m   3658\u001b[0m     \u001b[38;5;66;03m#  InvalidIndexError. Otherwise we fall through and re-raise\u001b[39;00m\n\u001b[1;32m   3659\u001b[0m     \u001b[38;5;66;03m#  the TypeError.\u001b[39;00m\n\u001b[1;32m   3660\u001b[0m     \u001b[38;5;28mself\u001b[39m\u001b[38;5;241m.\u001b[39m_check_indexing_error(key)\n",
            "\u001b[0;31mKeyError\u001b[0m: 'userRating'"
          ],
          "ename": "KeyError",
          "evalue": "'userRating'",
          "output_type": "error"
        }
      ]
    },
    {
      "cell_type": "markdown",
      "source": [
        "* The most common rating given by users (26.5%) is 4.\n",
        "* The ratings appear to be skewed to the left (evidenced by the long tail to the left). This means that there are a few movies who received lower ratings compared to those that received higher ratings\n"
      ],
      "metadata": {
        "id": "TS9Ic3xEeaWn"
      }
    },
    {
      "cell_type": "markdown",
      "source": [
        "### The we calculated the coefficient of skewness to check our above findings."
      ],
      "metadata": {
        "id": "1h5NLB0deaWo"
      }
    },
    {
      "cell_type": "code",
      "source": [
        "#calcuting skew\n",
        "print('The Coefficient of Skewness is : '+str(rating_counts['count'].skew()))"
      ],
      "metadata": {
        "execution": {
          "iopub.status.busy": "2024-02-01T19:21:41.849993Z",
          "iopub.execute_input": "2024-02-01T19:21:41.850435Z",
          "iopub.status.idle": "2024-02-01T19:21:41.855936Z",
          "shell.execute_reply.started": "2024-02-01T19:21:41.850403Z",
          "shell.execute_reply": "2024-02-01T19:21:41.855303Z"
        },
        "trusted": true,
        "id": "rHafooPWeaWo",
        "outputId": "33d5bb5f-cea4-4e3a-d202-ffa5bd217ac5"
      },
      "execution_count": null,
      "outputs": [
        {
          "name": "stdout",
          "text": "The Coefficient of Skewness is : 0.9316640025763427\n",
          "output_type": "stream"
        }
      ]
    },
    {
      "cell_type": "markdown",
      "source": [
        "This contradicts with our suspicion that the distribution is negatively skewed. The contradiction can be explained by the fact that the distribution appears to have 2 peaks (slightly bimodal)."
      ],
      "metadata": {
        "id": "sSja8mMJeaWp"
      }
    },
    {
      "cell_type": "code",
      "source": [
        "# Example: Define and use rating_counts\n",
        "rating_counts = {'5 stars': 100, '4 stars': 75, '3 stars': 50}\n",
        "\n",
        "# Now you can use rating_counts in your code\n",
        "total_ratings = sum(rating_counts.values())\n",
        "print(f'Total ratings: {total_ratings}')\n",
        "\n",
        "# Delete rating_counts if needed\n",
        "del rating_counts\n",
        "\n",
        "# After deleting, if you try to access rating_counts again, you'll get a NameError\n",
        "# For example, the following line would raise a NameError\n",
        "# print(rating_counts)\n"
      ],
      "metadata": {
        "execution": {
          "iopub.status.busy": "2024-02-01T18:54:05.972221Z",
          "iopub.execute_input": "2024-02-01T18:54:05.972684Z",
          "iopub.status.idle": "2024-02-01T18:54:05.977428Z",
          "shell.execute_reply.started": "2024-02-01T18:54:05.972656Z",
          "shell.execute_reply": "2024-02-01T18:54:05.976566Z"
        },
        "trusted": true,
        "id": "VJQQYPbZeaWq",
        "outputId": "443d2852-c852-48a7-bcc8-850341f6bc6c"
      },
      "execution_count": null,
      "outputs": [
        {
          "name": "stdout",
          "text": "Total ratings: 225\n",
          "output_type": "stream"
        }
      ]
    },
    {
      "cell_type": "markdown",
      "source": [
        "#### Number of Unique Users"
      ],
      "metadata": {
        "id": "VsZtPBMGeaWs"
      }
    },
    {
      "cell_type": "code",
      "source": [
        "print('Train df has '+str(df_train['userId'].nunique())+' unique users')"
      ],
      "metadata": {
        "execution": {
          "iopub.status.busy": "2024-02-01T18:54:02.736527Z",
          "iopub.execute_input": "2024-02-01T18:54:02.736945Z",
          "iopub.status.idle": "2024-02-01T18:54:02.819272Z",
          "shell.execute_reply.started": "2024-02-01T18:54:02.736909Z",
          "shell.execute_reply": "2024-02-01T18:54:02.81841Z"
        },
        "trusted": true,
        "id": "AaD2nK1oeaWt",
        "outputId": "f24e57c3-e84b-43ef-a52f-8fccd28f963b"
      },
      "execution_count": null,
      "outputs": [
        {
          "name": "stdout",
          "text": "Train df has 162541 unique users\n",
          "output_type": "stream"
        }
      ]
    },
    {
      "cell_type": "markdown",
      "source": [
        "## Rating by Number Of Ratings"
      ],
      "metadata": {
        "id": "7jOcp5QheaWu"
      }
    },
    {
      "cell_type": "markdown",
      "source": [
        "We plotted the average ratings of movies as a functions of how many times they were rated"
      ],
      "metadata": {
        "id": "dWY2ZtoMeaWv"
      }
    },
    {
      "cell_type": "code",
      "source": [
        "import seaborn as sns\n",
        "import matplotlib.pyplot as plt\n",
        "\n",
        "# Assuming df_train is your DataFrame\n",
        "ave_movie_rating = df_train.groupby('movieId')['rating'].mean().reset_index()\n",
        "count_movies = df_train.groupby('movieId')['rating'].count().reset_index()\n",
        "\n",
        "# Plotting scatter plot\n",
        "plt.figure(figsize=(15, 10))\n",
        "plt.title(\"Average Rating of Each Movie by The Number of Ratings\", fontsize=15)\n",
        "\n",
        "a = sns.scatterplot(x=count_movies['rating'], y=ave_movie_rating['rating'], palette='crest')\n",
        "a.set_xlabel('Number of Ratings')\n",
        "a.set_ylabel('Average Rating')\n",
        "\n",
        "plt.show()\n"
      ],
      "metadata": {
        "execution": {
          "iopub.status.busy": "2024-02-01T19:13:04.489729Z",
          "iopub.execute_input": "2024-02-01T19:13:04.490145Z",
          "iopub.status.idle": "2024-02-01T19:13:05.325622Z",
          "shell.execute_reply.started": "2024-02-01T19:13:04.490118Z",
          "shell.execute_reply": "2024-02-01T19:13:05.324876Z"
        },
        "trusted": true,
        "id": "3132DvtceaWw",
        "outputId": "8c17c2db-4511-40c2-94c7-2934141b0dd9"
      },
      "execution_count": null,
      "outputs": [
        {
          "name": "stderr",
          "text": "/tmp/ipykernel_1973/802765578.py:12: UserWarning: Ignoring `palette` because no `hue` variable has been assigned.\n  a = sns.scatterplot(x=count_movies['rating'], y=ave_movie_rating['rating'], palette='crest')\n",
          "output_type": "stream"
        },
        {
          "output_type": "display_data",
          "data": {
            "text/plain": "<Figure size 1500x1000 with 1 Axes>",
            "image/png": "[encoded data removed]"
          },
          "metadata": {}
        }
      ]
    },
    {
      "cell_type": "markdown",
      "source": [
        "* The ratings of movies that have a smaller number of ratings are widely spread. A possible explanation for this would be law of large numbers, it dictates that movies that are frequently rated produce more stable estimates of the true average rating."
      ],
      "metadata": {
        "id": "9HnavNUOeaWx"
      }
    },
    {
      "cell_type": "markdown",
      "source": [
        "## Most Common Genre"
      ],
      "metadata": {
        "id": "vIxeQOVMeaWy"
      }
    },
    {
      "cell_type": "code",
      "source": [
        "# Create dataframe containing only the movieId and genres\n",
        "movies_genres = pd.DataFrame(df_movies[['movieId', 'genres']],\n",
        "                             columns=['movieId', 'genres'])\n",
        "\n",
        "# Split genres seperated by \"|\" and create a list containing the genres allocated to each movie\n",
        "movies_genres.genres = movies_genres.genres.apply(lambda x: x.split('|'))\n",
        "\n",
        "# Create expanded dataframe where each movie-genre combination is in a seperate row\n",
        "movies_genres = pd.DataFrame([(tup.movieId, d) for tup in movies_genres.itertuples() for d in tup.genres],\n",
        "                             columns=['movieId', 'genres'])\n"
      ],
      "metadata": {
        "execution": {
          "iopub.status.busy": "2024-02-01T19:53:36.362278Z",
          "iopub.execute_input": "2024-02-01T19:53:36.36313Z",
          "iopub.status.idle": "2024-02-01T19:53:36.52693Z",
          "shell.execute_reply.started": "2024-02-01T19:53:36.363094Z",
          "shell.execute_reply": "2024-02-01T19:53:36.525678Z"
        },
        "trusted": true,
        "id": "HuvrqLBMeaWz"
      },
      "execution_count": null,
      "outputs": []
    },
    {
      "cell_type": "code",
      "source": [
        "# Plot the genres from most common to least common\n",
        "plot = plt.figure(figsize=(15, 10))\n",
        "plt.title('Most common genres\\n', fontsize=20)\n",
        "a = sns.countplot(y=\"genres\", data=movies_genres,\n",
        "              order=movies_genres['genres'].value_counts(ascending=False).index,\n",
        "              palette='crest')\n",
        "\n",
        "for p in a.patches:\n",
        "        value = '{:.0f}'.format(p.get_width())\n",
        "        x = p.get_x() + p.get_width() + 0.02\n",
        "        y = p.get_y() + p.get_height()/2\n",
        "        a.annotate(value, (x, y),fontsize=11)\n",
        "plt.show()\n"
      ],
      "metadata": {
        "execution": {
          "iopub.status.busy": "2024-02-01T19:53:40.402865Z",
          "iopub.execute_input": "2024-02-01T19:53:40.403193Z",
          "iopub.status.idle": "2024-02-01T19:53:40.891013Z",
          "shell.execute_reply.started": "2024-02-01T19:53:40.40317Z",
          "shell.execute_reply": "2024-02-01T19:53:40.889533Z"
        },
        "trusted": true,
        "id": "p1h-xLBYeaW0",
        "outputId": "5eb8bd7c-0894-4e90-cbb2-640b805c5604"
      },
      "execution_count": null,
      "outputs": [
        {
          "output_type": "display_data",
          "data": {
            "text/plain": "<Figure size 1500x1000 with 1 Axes>",
            "image/png": "[encoded data removed]"
          },
          "metadata": {}
        }
      ]
    },
    {
      "cell_type": "markdown",
      "source": [
        "* The top 3 occuring genres are Drama, Comedy, and Thrillers.\n",
        "* Musical, Film-Noir and IMAX movies were the least represented in our dataset\n"
      ],
      "metadata": {
        "id": "Z-xzvzbVeaW2"
      }
    },
    {
      "cell_type": "markdown",
      "source": [
        "## Average Rating Per Genre"
      ],
      "metadata": {
        "id": "uVa6RTPGeaW2"
      }
    },
    {
      "cell_type": "code",
      "source": [
        "#joining train_df and movie_genres\n",
        "rating_genre = pd.merge(df_train,movies_genres, on='movieId',how='left')\n",
        "\n",
        "#dataframe of average rating according to genr\n",
        "ave_per_genre = rating_genre.groupby(['genres'])['rating'].mean().reset_index()\n",
        "\n",
        "#sorting values from largest to smallest\n",
        "ave_per_genre = ave_per_genre.sort_values(by='rating',ascending=False).reset_index()"
      ],
      "metadata": {
        "execution": {
          "iopub.status.busy": "2024-02-01T19:53:45.973174Z",
          "iopub.execute_input": "2024-02-01T19:53:45.973535Z",
          "iopub.status.idle": "2024-02-01T19:53:53.208081Z",
          "shell.execute_reply.started": "2024-02-01T19:53:45.97351Z",
          "shell.execute_reply": "2024-02-01T19:53:53.20706Z"
        },
        "trusted": true,
        "id": "8jirXBpIeaW3"
      },
      "execution_count": null,
      "outputs": []
    },
    {
      "cell_type": "markdown",
      "source": [],
      "metadata": {
        "id": "bRcxAN5TeaW4"
      }
    },
    {
      "cell_type": "code",
      "source": [
        "#horizontal barchart plotting based on the above\n",
        "plot = plt.figure(figsize=(15, 10))\n",
        "plt.title('Average Rating by Genre\\n', fontsize=20)\n",
        "a = sns.barplot(x='rating',y=\"genres\", data=ave_per_genre,\n",
        "              palette='crest')\n",
        "\n",
        "#creating horizontal label\n",
        "a.set_xlabel('Average Rating')\n",
        "\n",
        "#adding annotations to bar\n",
        "for p in a.patches:\n",
        "        value = '{:.2f}'.format(p.get_width())\n",
        "        x = p.get_x() + p.get_width() + 0.02\n",
        "        y = p.get_y() + p.get_height()/2\n",
        "        a.annotate(value, (x, y),fontsize=11)\n",
        "plt.show()"
      ],
      "metadata": {
        "execution": {
          "iopub.status.busy": "2024-02-01T19:14:40.950937Z",
          "iopub.execute_input": "2024-02-01T19:14:40.951895Z",
          "iopub.status.idle": "2024-02-01T19:14:41.383191Z",
          "shell.execute_reply.started": "2024-02-01T19:14:40.951862Z",
          "shell.execute_reply": "2024-02-01T19:14:41.38222Z"
        },
        "trusted": true,
        "id": "m1nqOmiSeaW4",
        "outputId": "1da648fc-8064-4f56-ee24-af921fa92354"
      },
      "execution_count": null,
      "outputs": [
        {
          "output_type": "display_data",
          "data": {
            "text/plain": "<Figure size 1500x1000 with 1 Axes>",
            "image/png": "[encoded data removed]"
          },
          "metadata": {}
        }
      ]
    },
    {
      "cell_type": "markdown",
      "source": [
        "* The average ratings according to genre were in a narrow range\n",
        "* Film-Noirs, War Movies , and Documentaries recieved the highest average ratings.\n",
        "* Film-Noirs received the highest rating even though they are the second lowest reviewed movies.\n",
        "* Comedies and Horrors received the lowest ratings. Possible explanation: too predictable?\n",
        "* Comedies recieved the second lowest average rating even though they were in the top 2 reviewed movies."
      ],
      "metadata": {
        "id": "f02mSNNoeaW6"
      }
    },
    {
      "cell_type": "markdown",
      "source": [
        "## Do Budget and/ or Runtime Affect Ratings"
      ],
      "metadata": {
        "id": "4oNM4JXqeaW7"
      }
    },
    {
      "cell_type": "code",
      "source": [
        "import pandas as pd\n",
        "import re  # Import the 're' module\n",
        "df_imdb_data=pd.read_csv(\"/kaggle/input/ea-movies/imdb_data.csv\")\n",
        "df_train=pd.read_csv(\"/kaggle/input/ea-movies/train.csv\")\n",
        "# Assuming df_train and"
      ],
      "metadata": {
        "execution": {
          "iopub.status.busy": "2024-02-01T20:15:07.178288Z",
          "iopub.execute_input": "2024-02-01T20:15:07.178611Z",
          "iopub.status.idle": "2024-02-01T20:15:09.777506Z",
          "shell.execute_reply.started": "2024-02-01T20:15:07.178586Z",
          "shell.execute_reply": "2024-02-01T20:15:09.776139Z"
        },
        "trusted": true,
        "id": "cELz91gHeaW8"
      },
      "execution_count": null,
      "outputs": []
    },
    {
      "cell_type": "code",
      "source": [
        "# Merging the dataframe to obtain the budget\n",
        "import pandas as pd\n",
        "import re  # Import the 're' module\n",
        "df_imdb_data=pd.read_csv(\"/kaggle/input/ea-movies/imdb_data.csv\")\n",
        "df_train=pd.read_csv(\"/kaggle/input/ea-movies/train.csv\")\n",
        "# Assuming df_train and df_imdb_data are your DataFrames\n",
        "df_imdb_data = pd.merge(df_train, df_imdb_data[['movieId', 'budget']], on='movieId', how='left')\n",
        "df_train = pd.merge(df_train, df_imdb_data[['movieId', 'budget']], on='movieId', how='left')\n",
        "\n",
        "# String the dollars\n",
        "pattern = r'\\$'\n",
        "df_imdb_data['budget'] = df_imdb_data['budget'].apply(lambda x: re.sub(pattern, '', str(x)))\n",
        "\n",
        "# Stripping the commas\n",
        "pattern = r'\\,'\n",
        "df_imdb_data['budget'] = df_imdb_data['budget'].apply(lambda x: re.sub(pattern, '', str(x)))\n",
        "\n",
        "# Convert to numerical value\n",
        "df_imdb_data['budget'] = pd.to_numeric(df_imdb_data['budget'], errors='coerce')\n",
        "\n",
        "# Budget according to rating\n",
        "budget_rating = df_imdb_data.groupby(['rating'])['budget'].mean().reset_index()\n"
      ],
      "metadata": {
        "execution": {
          "iopub.status.busy": "2024-02-01T20:15:46.433673Z",
          "iopub.execute_input": "2024-02-01T20:15:46.434353Z"
        },
        "trusted": true,
        "id": "R77WOt5UeaW-"
      },
      "execution_count": null,
      "outputs": []
    },
    {
      "cell_type": "code",
      "source": [],
      "metadata": {
        "trusted": true,
        "id": "4P-uJnb6eaXA"
      },
      "execution_count": null,
      "outputs": []
    },
    {
      "cell_type": "code",
      "source": [
        "#merging dataframe to obtain runtime\n",
        "pd_runtime = pd.merge(df_train,df_imdb_data[['movieId','runtime']], on ='movieId', how='left')\n",
        "\n",
        "#budget according to rating\n",
        "runtime_rating = pd_runtime.groupby(['rating'])['runtime'].mean().reset_index()"
      ],
      "metadata": {
        "trusted": true,
        "id": "DqPAvANWeaXB"
      },
      "execution_count": null,
      "outputs": []
    },
    {
      "cell_type": "code",
      "source": [
        "#scatter plot of rating and  Budget\n",
        "import pandas as pd\n",
        "import re\n",
        "import matplotlib.pyplot as plt  # Import the 'matplotlib.pyplot' module\n",
        "\n",
        "# Assuming df_train and df_imdb_data are your DataFrames\n",
        "df_imdb_data = pd.merge(df_train, df_imdb_data[['movieId', 'budget']], on='movieId', how='left')\n",
        "\n",
        "# Rest of your code...\n",
        "\n",
        "# Scatter plot of rating and Budget\n",
        "fig, axes = plt.subplots(1, 2, figsize=(18, 6), squeeze=False)\n",
        "plot1 = sns.scatterplot(x='budget', y='rating', data=budget_rating, s=100, color='red', ax=axes[0, 0])\n",
        "# You can add more configurations to your plot1 if needed\n",
        "\n",
        "# Continue with the rest of your code...\n",
        "\n",
        "fig, axes = plt.subplots(1,2, figsize=(18, 6), squeeze=False)\n",
        "\n",
        "plot1 = sns.scatterplot(x='budget', y='rating', data =budget_rating, s=100, color='red', ax=axes[0,0])\n",
        "plot2 = sns.scatterplot(x='runtime',y='rating', data=runtime_rating, s=100, ax =axes[0,1])\n",
        "plot1.set_title('Budget vs. Rating')\n",
        "plot2.set_title('Runtime vs. Rating')\n",
        "\n",
        "plt.show()"
      ],
      "metadata": {
        "trusted": true,
        "id": "PYF-_X3JeaXC"
      },
      "execution_count": null,
      "outputs": []
    },
    {
      "cell_type": "markdown",
      "source": [
        "* It seems that there is no obvious relationship between the budget of the movie and the rating\n",
        "* With the exception of one point, as runtime increases the rating also increase in a linear fashion"
      ],
      "metadata": {
        "id": "QzP02sF7eaXE"
      }
    },
    {
      "cell_type": "code",
      "source": [],
      "metadata": {
        "trusted": true,
        "id": "kpTLxO75eaXF"
      },
      "execution_count": null,
      "outputs": []
    },
    {
      "cell_type": "markdown",
      "source": [
        "## Most Rated Movies"
      ],
      "metadata": {
        "id": "4X201RRfeaXG"
      }
    },
    {
      "cell_type": "markdown",
      "source": [
        "This can be used as an approximation for how many people watched the movies"
      ],
      "metadata": {
        "id": "P_AdMxp4eaXG"
      }
    },
    {
      "cell_type": "code",
      "source": [
        "movies = pd.merge(df_train, df_movies[['movieId','title']], on='movieId', how=\"left\")\n",
        "movie_count = movies.groupby(['title'])['rating'].count().reset_index().rename(columns={'rating':'count'})\n",
        "\n",
        "plot = plt.figure(figsize=(15, 10))\n",
        "plt.title('20 Most Rated Movies', fontsize=20)\n",
        "a = sns.barplot(x='count',\n",
        "                y=\"title\",\n",
        "                data=movie_count.sort_values(by='count',ascending =False).head(20),\n",
        "                palette='crest')\n",
        "\n",
        "#creating horizontal label\n",
        "a.set_xlabel('Number of Ratings', fontsize=14)\n",
        "a.set_ylabel('Title', fontsize=14)\n",
        "\n",
        "#adding annotations to bar\n",
        "for p in a.patches:\n",
        "        value = int(p.get_width())\n",
        "        x = p.get_x() + p.get_width() + 0.02\n",
        "        y = p.get_y() + p.get_height()/2\n",
        "        a.annotate(value, (x, y),fontsize=11)\n",
        "plt.show()"
      ],
      "metadata": {
        "execution": {
          "iopub.status.busy": "2024-02-01T20:16:11.353283Z",
          "iopub.execute_input": "2024-02-01T20:16:11.353607Z",
          "iopub.status.idle": "2024-02-01T20:16:11.383493Z",
          "shell.execute_reply.started": "2024-02-01T20:16:11.353584Z",
          "shell.execute_reply": "2024-02-01T20:16:11.382352Z"
        },
        "trusted": true,
        "id": "wxUC-FCPeaXI",
        "outputId": "cad5dd6c-dd44-4988-b8be-0deb2dba9775"
      },
      "execution_count": null,
      "outputs": [
        {
          "traceback": [
            "\u001b[0;31m---------------------------------------------------------------------------\u001b[0m",
            "\u001b[0;31mNameError\u001b[0m                                 Traceback (most recent call last)",
            "Cell \u001b[0;32mIn[2], line 1\u001b[0m\n\u001b[0;32m----> 1\u001b[0m movies \u001b[38;5;241m=\u001b[39m \u001b[43mpd\u001b[49m\u001b[38;5;241m.\u001b[39mmerge(df_train, df_movies[[\u001b[38;5;124m'\u001b[39m\u001b[38;5;124mmovieId\u001b[39m\u001b[38;5;124m'\u001b[39m,\u001b[38;5;124m'\u001b[39m\u001b[38;5;124mtitle\u001b[39m\u001b[38;5;124m'\u001b[39m]], on\u001b[38;5;241m=\u001b[39m\u001b[38;5;124m'\u001b[39m\u001b[38;5;124mmovieId\u001b[39m\u001b[38;5;124m'\u001b[39m, how\u001b[38;5;241m=\u001b[39m\u001b[38;5;124m\"\u001b[39m\u001b[38;5;124mleft\u001b[39m\u001b[38;5;124m\"\u001b[39m)\n\u001b[1;32m      2\u001b[0m movie_count \u001b[38;5;241m=\u001b[39m movies\u001b[38;5;241m.\u001b[39mgroupby([\u001b[38;5;124m'\u001b[39m\u001b[38;5;124mtitle\u001b[39m\u001b[38;5;124m'\u001b[39m])[\u001b[38;5;124m'\u001b[39m\u001b[38;5;124mrating\u001b[39m\u001b[38;5;124m'\u001b[39m]\u001b[38;5;241m.\u001b[39mcount()\u001b[38;5;241m.\u001b[39mreset_index()\u001b[38;5;241m.\u001b[39mrename(columns\u001b[38;5;241m=\u001b[39m{\u001b[38;5;124m'\u001b[39m\u001b[38;5;124mrating\u001b[39m\u001b[38;5;124m'\u001b[39m:\u001b[38;5;124m'\u001b[39m\u001b[38;5;124mcount\u001b[39m\u001b[38;5;124m'\u001b[39m})\n\u001b[1;32m      4\u001b[0m plot \u001b[38;5;241m=\u001b[39m plt\u001b[38;5;241m.\u001b[39mfigure(figsize\u001b[38;5;241m=\u001b[39m(\u001b[38;5;241m15\u001b[39m, \u001b[38;5;241m10\u001b[39m))\n",
            "\u001b[0;31mNameError\u001b[0m: name 'pd' is not defined"
          ],
          "ename": "NameError",
          "evalue": "name 'pd' is not defined",
          "output_type": "error"
        }
      ]
    },
    {
      "cell_type": "markdown",
      "source": [
        "Most of the movies on this list are critically acclaimed. The most reviewed movie \"The Shawshank Redemption\" holds the number one spot on the imdb top 250 movies of all time. The same applies all the titles on this list, most of them are in the 30. Here's a link to the full list [click](https://www.imdb.com/search/title/?groups=top_250&sort=user_rating)"
      ],
      "metadata": {
        "id": "yEFHWM_WeaXJ"
      }
    },
    {
      "cell_type": "code",
      "source": [
        "del movies, movie_count, plot, a\n",
        "gc.collect()"
      ],
      "metadata": {
        "execution": {
          "iopub.status.busy": "2024-02-01T14:32:28.680772Z",
          "iopub.status.idle": "2024-02-01T14:32:28.681019Z",
          "shell.execute_reply.started": "2024-02-01T14:32:28.680896Z",
          "shell.execute_reply": "2024-02-01T14:32:28.680909Z"
        },
        "trusted": true,
        "id": "V7E_QyI0eaXK"
      },
      "execution_count": null,
      "outputs": []
    },
    {
      "cell_type": "markdown",
      "source": [
        "## Filtering Movies According To Number Of Ratings\n",
        "We filters the movies by setting a floor on the number of ratings. This is to ensure a fair comparison between the lead actors and between directors."
      ],
      "metadata": {
        "id": "I4rXhVsDeaXL"
      }
    },
    {
      "cell_type": "code",
      "source": [
        "min_movie_ratings = 500\n",
        "filter_movies = df_train['movieId'].value_counts() > min_movie_ratings\n",
        "filter_movies = filter_movies[filter_movies].index.tolist()\n",
        "df_train_filtered = df_train[df_train['movieId'].isin(filter_movies)]\n",
        "df_train_filtered.shape"
      ],
      "metadata": {
        "execution": {
          "iopub.status.busy": "2024-02-01T14:32:28.681765Z",
          "iopub.status.idle": "2024-02-01T14:32:28.682011Z",
          "shell.execute_reply.started": "2024-02-01T14:32:28.681887Z",
          "shell.execute_reply": "2024-02-01T14:32:28.681899Z"
        },
        "trusted": true,
        "id": "bqwsJZnzeaXN"
      },
      "execution_count": null,
      "outputs": []
    },
    {
      "cell_type": "markdown",
      "source": [
        "## Top Rated Movies"
      ],
      "metadata": {
        "id": "tJiJmZvheaXP"
      }
    },
    {
      "cell_type": "code",
      "source": [
        "movie_rating_merge = pd.merge(df_train_filtered,df_movies[['movieId','title']],on='movieId', how='left')\n",
        "movie_rating = movie_rating_merge.groupby('title')['rating'].mean().reset_index()\n",
        "\n",
        "plot = plt.figure(figsize=(15, 10))\n",
        "plt.title('Top 20 Rated Movies\\n', fontsize=20)\n",
        "a = sns.barplot(x='rating',\n",
        "                y=\"title\",\n",
        "                data=movie_rating.sort_values(by='rating',ascending =False).head(20),\n",
        "                palette='crest')\n",
        "\n",
        "#creating horizontal label\n",
        "a.set_xlabel('Average Rating', fontsize=14)\n",
        "a.set_ylabel('Title', fontsize=14)\n",
        "\n",
        "#adding annotations to bar\n",
        "for p in a.patches:\n",
        "        value = '{:.2f}'.format(p.get_width())\n",
        "        x = p.get_x() + p.get_width() + 0.02\n",
        "        y = p.get_y() + p.get_height()/2\n",
        "        a.annotate(value, (x, y),fontsize=11)\n",
        "plt.show()"
      ],
      "metadata": {
        "execution": {
          "iopub.status.busy": "2024-02-01T14:32:28.682864Z",
          "iopub.status.idle": "2024-02-01T14:32:28.68312Z",
          "shell.execute_reply.started": "2024-02-01T14:32:28.682996Z",
          "shell.execute_reply": "2024-02-01T14:32:28.683008Z"
        },
        "trusted": true,
        "id": "2buPJXUJeaXR"
      },
      "execution_count": null,
      "outputs": []
    },
    {
      "cell_type": "markdown",
      "source": [
        "These movies correspond to those that are part of the imdb top 250 movies, they are critically acclaimed and our data confirms that. Movies like The Shawshank Redemption,The Godfather, The Usual Suspects,12 Angry Men and Schindler's List are examples of movies that appear on the top 20 of both lists. Click [here](https://www.imdb.com/search/title/?groups=top_250&sort=user_rating) to view the  imdb top 250 movies."
      ],
      "metadata": {
        "id": "wBRSwR06eaXT"
      }
    },
    {
      "cell_type": "markdown",
      "source": [
        "## Worst Rated Movies"
      ],
      "metadata": {
        "id": "2vWvl3djeaXU"
      }
    },
    {
      "cell_type": "code",
      "source": [
        "plot = plt.figure(figsize=(15, 10))\n",
        "plt.title('Bottom 20 Rated Movies\\n', fontsize=20)\n",
        "a = sns.barplot(x='rating',\n",
        "                y=\"title\",\n",
        "                data=movie_rating.sort_values(by='rating').head(20),\n",
        "                palette='crest')\n",
        "\n",
        "#creating horizontal label\n",
        "a.set_xlabel('Average Rating', fontsize=14)\n",
        "a.set_ylabel('Title', fontsize=14)\n",
        "\n",
        "#adding annotations to bar\n",
        "for p in a.patches:\n",
        "        value = '{:.2f}'.format(p.get_width())\n",
        "        x = p.get_x() + p.get_width() + 0.02\n",
        "        y = p.get_y() + p.get_height()/2\n",
        "        a.annotate(value, (x, y),fontsize=11)\n",
        "plt.show()"
      ],
      "metadata": {
        "execution": {
          "iopub.status.busy": "2024-02-01T14:32:28.683909Z",
          "iopub.status.idle": "2024-02-01T14:32:28.684166Z",
          "shell.execute_reply.started": "2024-02-01T14:32:28.684036Z",
          "shell.execute_reply": "2024-02-01T14:32:28.684048Z"
        },
        "trusted": true,
        "id": "NvrhvZAteaXV"
      },
      "execution_count": null,
      "outputs": []
    },
    {
      "cell_type": "markdown",
      "source": [
        "The bottom movies, since we limited our analysis to movies that recieved 500 ratings or more we get a list of familiar movies, an example \"Stop! Or My Mom Will Shoot\" which is the 3rd worst rated movies and is one of the lesser popular Sylvester Stallone movies, the comment that received the highest number on imdb of upvotes on imdb is \"The story was corny, the plot was predictable. The supporting cast was lacking. This is not a thriller or an intelligent movie. It is a B comedy., at best.\" [link](https://www.imdb.com/title/tt0105477/?ref_=nv_sr_srsg_0) and this is reflected in the rating that it received. Other movies appearing on the list are titles such as Catwoman and Fifty Shades of Grey that are based on novels/comic books received lower ratings because the public/critics felt that they didn't capture the essence of the books/comics that they are based on."
      ],
      "metadata": {
        "id": "IekWYFiPeaXX"
      }
    },
    {
      "cell_type": "code",
      "source": [
        "del movie_rating_merge, movie_rating, plot, a\n",
        "gc.collect()"
      ],
      "metadata": {
        "execution": {
          "iopub.status.busy": "2024-02-01T14:32:28.685075Z",
          "iopub.status.idle": "2024-02-01T14:32:28.685358Z",
          "shell.execute_reply.started": "2024-02-01T14:32:28.685205Z",
          "shell.execute_reply": "2024-02-01T14:32:28.685218Z"
        },
        "trusted": true,
        "id": "dnAoOyYVeaXY"
      },
      "execution_count": null,
      "outputs": []
    },
    {
      "cell_type": "markdown",
      "source": [
        "## Top 50 Occuring Cast Members"
      ],
      "metadata": {
        "id": "hakQyf_JeaXZ"
      }
    },
    {
      "cell_type": "code",
      "source": [
        "import re\n",
        "import pandas as pd\n",
        "\n",
        "# Assuming df_imdb is your DataFrame\n",
        "# Load your df_imdb DataFrame\n",
        "df_imdb = pd.read_csv('/kaggle/input/ea-movies/imdb_data.csv')\n",
        "\n",
        "# Check if 'title_cast' column exists in the DataFrame\n",
        "if 'title_cast' in df_imdb.columns:\n",
        "    # Apply regular expression patterns to clean 'title_cast' column\n",
        "    df_imdb['title_cast'] = df_imdb['title_cast'].apply(lambda x: re.sub(r'\\s{1,}', '', str(x)))\n",
        "    df_imdb['title_cast'] = df_imdb['title_cast'].apply(lambda x: re.sub(r'\\.|-', '', str(x)))\n",
        "else:\n",
        "    print(\"Error: 'title_cast' column not found in the DataFrame.\")\n",
        "\n",
        "# Display the modified DataFrame\n",
        "print(df_imdb.head())\n"
      ],
      "metadata": {
        "execution": {
          "iopub.status.busy": "2024-02-01T14:32:28.686113Z",
          "iopub.status.idle": "2024-02-01T14:32:28.686405Z",
          "shell.execute_reply.started": "2024-02-01T14:32:28.686239Z",
          "shell.execute_reply": "2024-02-01T14:32:28.686274Z"
        },
        "trusted": true,
        "id": "bVYiGwZkeaXa"
      },
      "execution_count": null,
      "outputs": []
    },
    {
      "cell_type": "code",
      "source": [
        "#creating empty pandas dataframe\n",
        "df_imdb_mod =pd.DataFrame({})\n",
        "\n",
        "# joining the names and surnames\n",
        "pattern = r'\\s{1,}'\n",
        "df_imdb_mod['title_cast'] = df_imdb['title_cast'].apply(lambda x: re.sub(pattern, '', str(x)))\n",
        "\n",
        "pattern =r'\\.|-'\n",
        "df_imdb_mod['title_cast'] = df_imdb_mod['title_cast'].apply(lambda x: re.sub(pattern, '', str(x)))\n",
        "\n",
        "#tokenizing the names and creating new column (for later)\n",
        "df_imdb_mod['title_cast_sep'] = df_imdb_mod['title_cast'].str.split('|')\n",
        "\n",
        "# joining the names back to strings\n",
        "sep=\" \"\n",
        "df_imdb_mod['title_cast'] = df_imdb_mod['title_cast_sep'].apply(lambda x : sep.join(x))"
      ],
      "metadata": {
        "execution": {
          "iopub.status.busy": "2024-02-01T14:32:28.68723Z",
          "iopub.status.idle": "2024-02-01T14:32:28.687511Z",
          "shell.execute_reply.started": "2024-02-01T14:32:28.687377Z",
          "shell.execute_reply": "2024-02-01T14:32:28.68739Z"
        },
        "trusted": true,
        "id": "Te5GDe4KeaXb"
      },
      "execution_count": null,
      "outputs": []
    },
    {
      "cell_type": "code",
      "source": [
        "#string containing all cast members\n",
        "from wordcloud import WordCloud\n",
        "import matplotlib.pyplot as plt\n",
        "\n",
        "# Convert the 'title_cast' column to strings\n",
        "df_imdb['title_cast'] = df_imdb['title_cast'].astype(str)\n",
        "\n",
        "# String containing all cast members\n",
        "all_cast = \"\".join([cast for cast in df_imdb['title_cast']])\n",
        "\n",
        "# Creating word cloud\n",
        "fig = plt.figure(figsize=(18, 10))\n",
        "wordcloud = WordCloud(width=800, height=400, random_state=21, max_font_size=110).generate(all_cast)\n",
        "plt.imshow(wordcloud, interpolation=\"bilinear\")\n",
        "plt.axis('off')\n",
        "plt.show()\n",
        "\n",
        "all_cast =\"\".join([cast for cast in df_imdb['title_cast']])\n",
        "\n",
        "#creating wordcloud\n",
        "fig = plt.figure(figsize=(18,10))\n",
        "\n",
        "wc = WordCloud(background_color=\"white\",\n",
        "               colormap=\"Dark2\", max_font_size=70,\n",
        "               random_state=42,max_words=50)\n",
        "\n",
        "wc.generate(all_cast)\n",
        "plt.title('Top 50 Occurring Actors', fontsize=20)\n",
        "plt.imshow(wc, interpolation='bilinear')\n",
        "plt.axis(\"off\")\n",
        "plt.show()"
      ],
      "metadata": {
        "execution": {
          "iopub.status.busy": "2024-02-01T14:32:28.688328Z",
          "iopub.status.idle": "2024-02-01T14:32:28.688595Z",
          "shell.execute_reply.started": "2024-02-01T14:32:28.688461Z",
          "shell.execute_reply": "2024-02-01T14:32:28.688473Z"
        },
        "trusted": true,
        "id": "jSytPLL2eaXc"
      },
      "execution_count": null,
      "outputs": []
    },
    {
      "cell_type": "markdown",
      "source": [
        "Household names such as Steve Buscemi, who is credited with 166 acting roles accoring to imdb, click [here](https://www.imdb.com/name/nm0000114/) for full bio. Keith David is credited with 366 roles according to the same source, for more info : [here](https://www.imdb.com/name/nm0202966/?ref_=fn_al_nm_1). Richard Jenkins has 115 acting roles under his belt, full bio [here](https://www.imdb.com/name/nm0420955/?ref_=nv_sr_srsg_0). Samuel L. Jackson has 195 acting roles, full bio [here](https://www.imdb.com/name/nm0000168/?ref_=nv_sr_srsg_0)."
      ],
      "metadata": {
        "id": "coKq5sPseaXf"
      }
    },
    {
      "cell_type": "markdown",
      "source": [
        "## Now Let Us Look At The Lead Actors\n",
        "We are assuming that the lead actor/actress is the first name mentioned on title credits. And the rating that the movie gets will be used as a proxy for the rating of the lead actor.\n"
      ],
      "metadata": {
        "id": "NRoaeHeyeaXg"
      }
    },
    {
      "cell_type": "code",
      "source": [
        "del all_cast, fig, wc\n",
        "gc.collect()"
      ],
      "metadata": {
        "execution": {
          "iopub.status.busy": "2024-02-01T14:32:28.689345Z",
          "iopub.status.idle": "2024-02-01T14:32:28.68961Z",
          "shell.execute_reply.started": "2024-02-01T14:32:28.689477Z",
          "shell.execute_reply": "2024-02-01T14:32:28.689495Z"
        },
        "trusted": true,
        "id": "tvFHfhZPeaXh"
      },
      "execution_count": null,
      "outputs": []
    },
    {
      "cell_type": "code",
      "source": [
        "import pandas as pd\n",
        "\n",
        "\n",
        "# Joining df_train_filtered and part of df_imdb\n",
        "cast_rating = pd.merge(df_train, df_imdb[['movieId', 'title_cast']], on='movieId', how='left')\n",
        "\n",
        "# Ensure the 'title_cast' column is a string and handle missing values\n",
        "cast_rating['title_cast'] = cast_rating['title_cast'].astype(str).fillna('')\n",
        "\n",
        "# Convert lead actor names to lowercase\n",
        "cast_rating['title_cast'] = cast_rating['title_cast'].str.lower()\n",
        "# Creating a list containing cast, separator='|'\n",
        "cast_rating['title_cast'] = cast_rating['title_cast'].str.split('|')\n",
        "\n",
        "# Taking the first actor of the list\n",
        "cast_rating['lead_actor'] = cast_rating['title_cast'].apply(lambda x: x[0] if x else '')\n",
        "\n",
        "# DataFrame containing the lead characters and their average rating\n",
        "lead_rating = cast_rating.groupby('lead_actor')['rating'].mean().reset_index()\n",
        "\n",
        "# Print the first few rows of the resulting DataFrame\n",
        "print(lead_rating.head())\n"
      ],
      "metadata": {
        "execution": {
          "iopub.status.busy": "2024-02-01T14:32:28.690393Z",
          "iopub.status.idle": "2024-02-01T14:32:28.69064Z",
          "shell.execute_reply.started": "2024-02-01T14:32:28.690515Z",
          "shell.execute_reply": "2024-02-01T14:32:28.690528Z"
        },
        "trusted": true,
        "id": "HE6H8RRfeaXi"
      },
      "execution_count": null,
      "outputs": []
    },
    {
      "cell_type": "markdown",
      "source": [
        "## Top 10 Rated Lead Actors"
      ],
      "metadata": {
        "id": "njKbT_5BeaXj"
      }
    },
    {
      "cell_type": "code",
      "source": [
        "import pandas as pd\n",
        "import re\n",
        "import nltk\n",
        "from nltk.tokenize import word_tokenize\n",
        "\n",
        "# Download NLTK data\n",
        "nltk.download('punkt')\n",
        "\n",
        "# Assuming df_train_filtered and df_imdb are your DataFrames\n",
        "# Replace 'movieId' with the correct column name used for merging\n",
        "\n",
        "# Joining df_train_filtered and part of df_imdb\n",
        "cast_rating = pd.merge(df_train, df_imdb[['movieId', 'title_cast']], on='movieId', how='left')\n",
        "\n",
        "# Ensure the 'title_cast' column is a string and handle missing values\n",
        "cast_rating['title_cast'] = cast_rating['title_cast'].astype(str).fillna('')\n",
        "\n",
        "# Creating a list containing cast, separator='|'\n",
        "cast_rating['title_cast'] = cast_rating['title_cast'].str.split('|')\n",
        "\n",
        "# Taking the first actor of the list\n",
        "cast_rating['lead_actor'] = cast_rating['title_cast'].apply(lambda x: x[0] if x else '')\n",
        "\n",
        "# Convert lead actor names to lowercase\n",
        "cast_rating['lead_actor'] = cast_rating['lead_actor'].str.lower()\n",
        "\n",
        "# Remove special characters from lead actor names\n",
        "cast_rating['lead_actor'] = cast_rating['lead_actor'].apply(lambda x: re.sub(r'[^a-zA-Z0-9\\s]', '', x))\n",
        "\n",
        "# Tokenize lead actor names\n",
        "cast_rating['lead_actor_tokens'] = cast_rating['lead_actor'].apply(word_tokenize)\n",
        "\n",
        "# DataFrame containing the lead characters, their tokens, and average rating\n",
        "lead_rating = cast_rating.groupby('lead_actor_tokens')['rating'].mean().reset_index()\n",
        "\n",
        "# Print the first few rows of the resulting DataFrame\n",
        "print(lead_rating.head())\n"
      ],
      "metadata": {
        "execution": {
          "iopub.status.busy": "2024-02-01T14:32:28.691215Z",
          "iopub.status.idle": "2024-02-01T14:32:28.691468Z",
          "shell.execute_reply.started": "2024-02-01T14:32:28.691346Z",
          "shell.execute_reply": "2024-02-01T14:32:28.691358Z"
        },
        "trusted": true,
        "id": "bCjZ2gR0eaXk"
      },
      "execution_count": null,
      "outputs": []
    },
    {
      "cell_type": "code",
      "source": [
        "#average ratings of top 10 rated lead actors\n",
        "plot = plt.figure(figsize=(15, 10))\n",
        "plt.title('Top 10 Rated Lead Actors\\n', fontsize=20)\n",
        "a = sns.barplot(x='rating',\n",
        "                y=\"lead_actor\",\n",
        "                data=lead_rating.sort_values(by='rating',ascending =False).head(10),\n",
        "                palette='crest')\n",
        "\n",
        "#creating horizontal label\n",
        "a.set_xlabel('Average Rating')\n",
        "a.set_ylabel(\"Lead Actor\")\n",
        "#adding annotations to bar\n",
        "for p in a.patches:\n",
        "        value = '{:.2f}'.format(p.get_width())\n",
        "        x = p.get_x() + p.get_width() + 0.02\n",
        "        y = p.get_y() + p.get_height()/2\n",
        "        a.annotate(value, (x, y),fontsize=11)\n",
        "plt.show()"
      ],
      "metadata": {
        "execution": {
          "iopub.status.busy": "2024-02-01T14:32:28.69204Z",
          "iopub.status.idle": "2024-02-01T14:32:28.692286Z",
          "shell.execute_reply.started": "2024-02-01T14:32:28.692149Z",
          "shell.execute_reply": "2024-02-01T14:32:28.69216Z"
        },
        "trusted": true,
        "id": "Gd3moQFpeaXm"
      },
      "execution_count": null,
      "outputs": []
    },
    {
      "cell_type": "markdown",
      "source": [
        "Stephen Baldwin highest rated lead actor according proxy that we used and is primarily known for the movie \"The Usual Suspect\", it has the 5th highest average rating (4.28/5) in our filtered dataset. Rumi Hiiragi is known for \"Spirited Away\" which is the 12th highest rated movie in our filtered dataset. Tim Roth appeared in \"Pulp Fiction\" which is the 19th highest rated movie."
      ],
      "metadata": {
        "id": "szj-eyhIeaXn"
      }
    },
    {
      "cell_type": "markdown",
      "source": [
        "## Bottom 10 Lead Actors"
      ],
      "metadata": {
        "id": "fPFyCbTxeaXn"
      }
    },
    {
      "cell_type": "code",
      "source": [
        "#average ratings of bottom 10 rated lead actors\n",
        "plot = plt.figure(figsize=(15, 10))\n",
        "plt.title('Bottom 10 Rated Lead Actors\\n', fontsize=20)\n",
        "a = sns.barplot(x='rating',\n",
        "                y=\"lead_actor\",\n",
        "                data=lead_rating.sort_values(by='rating').head(10),\n",
        "                palette='crest')\n",
        "\n",
        "#creating horizontal label\n",
        "a.set_xlabel('Average Rating')\n",
        "\n",
        "#adding annotations to bar\n",
        "for p in a.patches:\n",
        "        value = '{:.2f}'.format(p.get_width())\n",
        "        x = p.get_x() + p.get_width() + 0.02\n",
        "        y = p.get_y() + p.get_height()/2\n",
        "        a.annotate(value, (x, y),fontsize=11)\n",
        "plt.show()"
      ],
      "metadata": {
        "execution": {
          "iopub.status.busy": "2024-02-01T14:32:28.692863Z",
          "iopub.status.idle": "2024-02-01T14:32:28.693091Z",
          "shell.execute_reply.started": "2024-02-01T14:32:28.692972Z",
          "shell.execute_reply": "2024-02-01T14:32:28.692983Z"
        },
        "trusted": true,
        "id": "7jiFPYm7eaXo"
      },
      "execution_count": null,
      "outputs": []
    },
    {
      "cell_type": "markdown",
      "source": [
        "Shaquile O'Neal is the second bottom 10 rated actor according to the proxy and known for the movie \"Kazaam\", with an average rating of 1.77 in our filtered dataset. Mel B is the third bottom rated actor and known for the movie \"Spice World\", with average rating of 1.79. Mark Addy is the forth bottom rated actor and known for \"Flintstones in  Viva Rock in Vegas\", with the average rating of 1.83."
      ],
      "metadata": {
        "id": "xItIl7RteaXp"
      }
    },
    {
      "cell_type": "code",
      "source": [
        "del cast_rating , lead_rating, plot, a\n",
        "gc.collect()"
      ],
      "metadata": {
        "execution": {
          "iopub.status.busy": "2024-02-01T14:32:28.693685Z",
          "iopub.status.idle": "2024-02-01T14:32:28.693917Z",
          "shell.execute_reply.started": "2024-02-01T14:32:28.693792Z",
          "shell.execute_reply": "2024-02-01T14:32:28.693803Z"
        },
        "trusted": true,
        "id": "q_eqmOiweaXq"
      },
      "execution_count": null,
      "outputs": []
    },
    {
      "cell_type": "markdown",
      "source": [
        "## Most Frequently Occuring Directors"
      ],
      "metadata": {
        "id": "tXzrJmuceaXq"
      }
    },
    {
      "cell_type": "code",
      "source": [
        "import pandas as pd\n",
        "\n",
        "# Add this import statement\n",
        "import re\n",
        "\n",
        "from wordcloud import WordCloud\n",
        "import pandas as pd\n",
        "import matplotlib.pyplot as plt\n",
        "from wordcloud import WordCloud  # Add this import statement\n",
        "\n",
        "# Rest of your code\n",
        "# ...\n",
        "\n",
        "# Creating a word cloud for top occurring directors\n",
        "fig = plt.figure(figsize=(18, 10))\n",
        "ign = ['nan', 'Seefullsummary']\n",
        "wc = WordCloud(stopwords=ign, background_color=\"white\",\n",
        "               colormap=\"Dark2\", max_font_size=70,\n",
        "               random_state=42, max_words=50)\n",
        "wc.generate(directors)\n",
        "plt.title('Top 50 Occurring Directors', fontsize=20)\n",
        "\n",
        "# Rest of your code\n",
        "# ...\n",
        "\n",
        "\n",
        "# Joining names and surnames\n",
        "pattern = r'\\s{1,}'\n",
        "pd_imdb_data['director'] = pd_imdb_data['director'].apply(lambda x: re.sub(pattern, '', str(x)))\n",
        "\n",
        "# Removing commas and dashes\n",
        "pattern = r'\\.|\\-'\n",
        "pd_imdb_data['director'] = pd_imdb_data['director'].apply(lambda x: re.sub(pattern, '', str(x)))\n",
        "\n",
        "# Rest of your code\n",
        "# ...\n",
        "\n",
        "#joining names and surnames\n",
        "pattern = r'\\s{1,}'\n",
        "pd_imdb_data['director'] = pd_imdb_data['director'].apply(lambda x: re.sub(pattern, '', str(x)))\n",
        "\n",
        "# removing commas and dashes\n",
        "pattern = r'\\.|\\-'\n",
        "pd_imdb_data['director'] = pd_imdb_data['director'].apply(lambda x: re.sub(pattern, '', str(x)))\n",
        "\n",
        "directors = ' '.join([str(d) for d in pd_imdb_data['director']])\n",
        "\n",
        "#creating wordcloud\n",
        "fig = plt.figure(figsize=(18,10))\n",
        "ign =['nan','Seefullsummary']\n",
        "wc = WordCloud(stopwords=ign, background_color=\"white\",\n",
        "               colormap=\"Dark2\", max_font_size=70,\n",
        "               random_state=42,max_words=50)\n",
        "\n",
        "wc.generate(directors)\n",
        "plt.title('Top 50 Occurring Directors', fontsize=20)\n",
        "plt.imshow(wc, interpolation='bilinear')\n",
        "plt.axis(\"off\")\n",
        "plt.show()"
      ],
      "metadata": {
        "execution": {
          "iopub.status.busy": "2024-02-01T19:14:03.897963Z",
          "iopub.execute_input": "2024-02-01T19:14:03.898748Z",
          "iopub.status.idle": "2024-02-01T19:14:03.985245Z",
          "shell.execute_reply.started": "2024-02-01T19:14:03.89871Z",
          "shell.execute_reply": "2024-02-01T19:14:03.983858Z"
        },
        "trusted": true,
        "id": "3nFiBIG6eaXr",
        "outputId": "b75712e1-1118-44bb-ca77-b9f384a5ffbb"
      },
      "execution_count": null,
      "outputs": [
        {
          "traceback": [
            "\u001b[0;31m---------------------------------------------------------------------------\u001b[0m",
            "\u001b[0;31mNameError\u001b[0m                                 Traceback (most recent call last)",
            "Cell \u001b[0;32mIn[91], line 20\u001b[0m\n\u001b[1;32m     16\u001b[0m ign \u001b[38;5;241m=\u001b[39m [\u001b[38;5;124m'\u001b[39m\u001b[38;5;124mnan\u001b[39m\u001b[38;5;124m'\u001b[39m, \u001b[38;5;124m'\u001b[39m\u001b[38;5;124mSeefullsummary\u001b[39m\u001b[38;5;124m'\u001b[39m]\n\u001b[1;32m     17\u001b[0m wc \u001b[38;5;241m=\u001b[39m WordCloud(stopwords\u001b[38;5;241m=\u001b[39mign, background_color\u001b[38;5;241m=\u001b[39m\u001b[38;5;124m\"\u001b[39m\u001b[38;5;124mwhite\u001b[39m\u001b[38;5;124m\"\u001b[39m,\n\u001b[1;32m     18\u001b[0m                colormap\u001b[38;5;241m=\u001b[39m\u001b[38;5;124m\"\u001b[39m\u001b[38;5;124mDark2\u001b[39m\u001b[38;5;124m\"\u001b[39m, max_font_size\u001b[38;5;241m=\u001b[39m\u001b[38;5;241m70\u001b[39m,\n\u001b[1;32m     19\u001b[0m                random_state\u001b[38;5;241m=\u001b[39m\u001b[38;5;241m42\u001b[39m, max_words\u001b[38;5;241m=\u001b[39m\u001b[38;5;241m50\u001b[39m)\n\u001b[0;32m---> 20\u001b[0m wc\u001b[38;5;241m.\u001b[39mgenerate(\u001b[43mdirectors\u001b[49m)\n\u001b[1;32m     21\u001b[0m plt\u001b[38;5;241m.\u001b[39mtitle(\u001b[38;5;124m'\u001b[39m\u001b[38;5;124mTop 50 Occurring Directors\u001b[39m\u001b[38;5;124m'\u001b[39m, fontsize\u001b[38;5;241m=\u001b[39m\u001b[38;5;241m20\u001b[39m)\n\u001b[1;32m     23\u001b[0m \u001b[38;5;66;03m# Rest of your code\u001b[39;00m\n\u001b[1;32m     24\u001b[0m \u001b[38;5;66;03m# ...\u001b[39;00m\n\u001b[1;32m     25\u001b[0m \n\u001b[1;32m     26\u001b[0m \n\u001b[1;32m     27\u001b[0m \u001b[38;5;66;03m# Joining names and surnames\u001b[39;00m\n",
            "\u001b[0;31mNameError\u001b[0m: name 'directors' is not defined"
          ],
          "ename": "NameError",
          "evalue": "name 'directors' is not defined",
          "output_type": "error"
        },
        {
          "output_type": "display_data",
          "data": {
            "text/plain": "<Figure size 1800x1000 with 0 Axes>"
          },
          "metadata": {}
        }
      ]
    },
    {
      "cell_type": "markdown",
      "source": [
        "We get prominent directors such as Woody Allen, who has directed 55 movies over the span of his career according to imdb, for boi click [here](https://www.imdb.com/name/nm0000095/).\n",
        "        Luc Besson is has directed over 65 movies/series according to imdb, for bio click [here](https://www.imdb.com/name/nm0000108/?ref_=nv_sr_srsg_0).\n",
        "        Stephen King is also a household name and has directed 15 movies/screenplays and has 325 credits as a writer, for bio click [here](https://www.imdb.com/name/nm0000175/?ref_=nv_sr_srsg_0)."
      ],
      "metadata": {
        "id": "R2-xFlrqeaXt"
      }
    },
    {
      "cell_type": "code",
      "source": [
        "del df_imdb_mod, directors, fig, wc\n",
        "gc.collect()"
      ],
      "metadata": {
        "execution": {
          "iopub.status.busy": "2024-02-01T14:32:28.695455Z",
          "iopub.status.idle": "2024-02-01T14:32:28.695709Z",
          "shell.execute_reply.started": "2024-02-01T14:32:28.695587Z",
          "shell.execute_reply": "2024-02-01T14:32:28.695599Z"
        },
        "trusted": true,
        "id": "SMJOAwCHeaXu"
      },
      "execution_count": null,
      "outputs": []
    },
    {
      "cell_type": "markdown",
      "source": [
        "## Now Let Us Look At The Tp 10 Rated Directors"
      ],
      "metadata": {
        "id": "IjVtkhQQeaXw"
      }
    },
    {
      "cell_type": "code",
      "source": [
        "#joining df_train and df_imdb using the movieId column\n",
        "pd_train=pd.read_csv(\"/kaggle/input/ea-movies/train.csv\")\n",
        "pd_imdb_data=pd.read_csv(\"/kaggle/input/ea-movies/imdb_data.csv\")\n",
        "director_rating = pd.merge(pd_train,pd_imdb_data[['movieId','director']], on='movieId', how='left')\n",
        "director_rating = director_rating.groupby('director')['rating'].mean().reset_index()\n",
        "\n",
        "#Obtaing Top 10\n",
        "import matplotlib.pyplot as plt\n",
        "import pandas as pd\n",
        "import seaborn as sns\n",
        "import matplotlib.pyplot as plt  # Add this import statement\n",
        "\n",
        "# Rest of your code\n",
        "# ...\n",
        "\n",
        "# Grouping by director and calculating the average rating\n",
        "director_rating = cast_rating.groupby('director')['rating'].mean().reset_index()\n",
        "\n",
        "# Obtaining Top 10\n",
        "plot = plt.figure(figsize=(15, 10))\n",
        "plt.title('Top 10 Rated Directors\\n', fontsize=20)\n",
        "a = sns.barplot(\n",
        "    x='rating',\n",
        "    y=\"director\",\n",
        "    data=director_rating.sort_values(by='rating', ascending=False).head(10),\n",
        "    palette='crest'\n",
        ")\n",
        "\n",
        "plt.show()\n",
        "\n",
        "plot = plt.figure(figsize=(15, 10))\n",
        "plt.title('Top 10 Rated Directors\\n', fontsize=20)\n",
        "a = sns.barplot(x='rating',\n",
        "                y=\"director\",\n",
        "                data=director_rating.sort_values(by='rating',ascending =False).head(10),\n",
        "                palette='crest')\n",
        "\n",
        "#creating horizontal label\n",
        "a.set_xlabel('Average Rating')\n",
        "\n",
        "#adding annotations to bar\n",
        "for p in a.patches:\n",
        "        value = '{:.2f}'.format(p.get_width())\n",
        "        x = p.get_x() + p.get_width() + 0.02\n",
        "        y = p.get_y() + p.get_height()/2\n",
        "        a.annotate(value, (x, y),fontsize=11)\n",
        "plt.show()\n",
        "\n"
      ],
      "metadata": {
        "execution": {
          "iopub.status.busy": "2024-02-01T14:32:28.696634Z",
          "iopub.status.idle": "2024-02-01T14:32:28.696914Z",
          "shell.execute_reply.started": "2024-02-01T14:32:28.696782Z",
          "shell.execute_reply": "2024-02-01T14:32:28.696795Z"
        },
        "trusted": true,
        "id": "XNG8vEwReaXw"
      },
      "execution_count": null,
      "outputs": []
    },
    {
      "cell_type": "markdown",
      "source": [
        "We get critically acclaimed directors such as Steven Spielberg, who is knowned for the \"Schindler's List\" which is\n",
        "        number 8 on the imdb 250 movies of all time and the 9th highest rated movie according to our filtered dataset. The top spot is held\n",
        "        by Chuck Palahniuk who is known for \"Fight Club\" which is also a critically acclaimed movie and is the 11th highest rated movie in our\n",
        "        dataset"
      ],
      "metadata": {
        "id": "vq3cZPBueaXy"
      }
    },
    {
      "cell_type": "markdown",
      "source": [
        "## Bottom 10 Rated Directors"
      ],
      "metadata": {
        "id": "h6Sm8RsieaX0"
      }
    },
    {
      "cell_type": "code",
      "source": [
        "#bottom 10 rated directors\n",
        "plot = plt.figure(figsize=(15, 10))\n",
        "plt.title('Bottom 10 Rated Directors\\n', fontsize=20)\n",
        "a = sns.barplot(x='rating',\n",
        "                y=\"director\",\n",
        "                data=director_rating.sort_values(by='rating').head(10),\n",
        "                palette='crest')\n",
        "\n",
        "#creating horizontal label\n",
        "a.set_xlabel('Average Rating')\n",
        "\n",
        "#adding annotations to bar\n",
        "for p in a.patches:\n",
        "        value = '{:.2f}'.format(p.get_width())\n",
        "        x = p.get_x() + p.get_width() + 0.02\n",
        "        y = p.get_y() + p.get_height()/2\n",
        "        a.annotate(value, (x, y),fontsize=11)\n",
        "plt.show()"
      ],
      "metadata": {
        "execution": {
          "iopub.status.busy": "2024-02-01T14:32:28.697793Z",
          "iopub.status.idle": "2024-02-01T14:32:28.698048Z",
          "shell.execute_reply.started": "2024-02-01T14:32:28.697922Z",
          "shell.execute_reply": "2024-02-01T14:32:28.697934Z"
        },
        "trusted": true,
        "id": "peUKxsHjeaX1"
      },
      "execution_count": null,
      "outputs": []
    },
    {
      "cell_type": "markdown",
      "source": [
        "The worst rated director is Corey Mandell who is known for \"Battlefield Earth\" which is the worst rated movie according to our filtered dataset. Steven Paul is known for the movie \"Baby Geniuses\" and is the second worst rated director. The same applies to most of the names on this list, there's a near perfect association between the worst movies obtained earlier and the worst directors."
      ],
      "metadata": {
        "id": "F-RfrJZdeaX4"
      }
    },
    {
      "cell_type": "code",
      "source": [
        "del director_rating, df_train_filtered, plot, a\n",
        "gc.collect()"
      ],
      "metadata": {
        "execution": {
          "iopub.status.busy": "2024-02-01T14:32:28.698803Z",
          "iopub.status.idle": "2024-02-01T14:32:28.699061Z",
          "shell.execute_reply.started": "2024-02-01T14:32:28.698935Z",
          "shell.execute_reply": "2024-02-01T14:32:28.698947Z"
        },
        "trusted": true,
        "id": "b0jDPG5deaX5"
      },
      "execution_count": null,
      "outputs": []
    },
    {
      "cell_type": "markdown",
      "source": [
        "## Most Common Tags"
      ],
      "metadata": {
        "id": "PsO_CuwGeaX5"
      }
    },
    {
      "cell_type": "code",
      "source": [
        "# #top 10 movie tags by occurence\n",
        "tags = df_tags.groupby(['tag'])['movieId'].count().reset_index().rename(columns={'movieId':'count'})\n",
        "tags.sort_values(by='count',ascending=False).head(10)"
      ],
      "metadata": {
        "execution": {
          "iopub.status.busy": "2024-02-01T14:32:28.699768Z",
          "iopub.status.idle": "2024-02-01T14:32:28.70001Z",
          "shell.execute_reply.started": "2024-02-01T14:32:28.69989Z",
          "shell.execute_reply": "2024-02-01T14:32:28.699901Z"
        },
        "trusted": true,
        "id": "ZjaiJTU1eaX6"
      },
      "execution_count": null,
      "outputs": []
    },
    {
      "cell_type": "markdown",
      "source": [
        "aIt is not surprising that the most common tags are attributes of movies that correspond to general themes such as\n",
        "        \"twist ending\" and \"based on a book\" and features such as genres are expected to be common across multiple movies."
      ],
      "metadata": {
        "id": "01PaaKjLeaX7"
      }
    },
    {
      "cell_type": "markdown",
      "source": [
        "## Least Common Tags"
      ],
      "metadata": {
        "id": "quWcODpieaX8"
      }
    },
    {
      "cell_type": "code",
      "source": [
        "# #bottom 10 movie tags\n",
        "tags.sort_values(by='count',ascending=False).tail(10)"
      ],
      "metadata": {
        "execution": {
          "iopub.status.busy": "2024-02-01T14:32:28.700975Z",
          "iopub.status.idle": "2024-02-01T14:32:28.70123Z",
          "shell.execute_reply.started": "2024-02-01T14:32:28.701103Z",
          "shell.execute_reply": "2024-02-01T14:32:28.701116Z"
        },
        "trusted": true,
        "id": "iwAkL7aMeaX8"
      },
      "execution_count": null,
      "outputs": []
    },
    {
      "cell_type": "markdown",
      "source": [
        "Least common tags are associations with the author which could possibly apply only movies that are based on a book. And that the author is most likely to correspond to only one movie."
      ],
      "metadata": {
        "id": "5JuUctczeaX_"
      }
    },
    {
      "cell_type": "markdown",
      "source": [
        "## Modelling Phase\n",
        "Here you can apply the models outline in the Intro to Recommender Notebook. You only need to apply one version\n",
        "be it Content based or Collabrative method\n"
      ],
      "metadata": {
        "id": "yI_bD7mFeaYC"
      }
    },
    {
      "cell_type": "markdown",
      "source": [
        "## Collaborative Filtering Models\n",
        "### Advantages\n",
        "* can be used for any item-no feature selection needed\n",
        "### Disadvantages\n",
        "* cold start problem- needs enough users in the system to find a match\n",
        "* user/rating matrix is sparse-it is hard to find users that have rated the same items\n",
        "* first rater-can not generate recommendations for unrated items\n",
        "* popularity bias-tends to recommend the most popular items\n",
        "source: https://www.youtube.com/watch?v=6BTLobS7AU8\n",
        "\n",
        "We are going to implement the following algorithms:\n",
        "\n",
        "* SVD\n",
        "    \n",
        "    The singular value decomposition (SVD) provides another way to factorize a matrix, into singular vectors and singular values. The SVD is used widely both in the calculation of other matrix operations, such as matrix inverse, but also as a data reduction method in machine learning.\n",
        "* NMF\n",
        "\n",
        "    Non-negative matrix factorization (NMF or NNMF), also non-negative matrix approximation is a group of algorithms in multivariate analysis and linear algebra where a matrix V is factorized into (usually) two matrices W and H, with the property that all three matrices have no negative elements. This non-negativity makes the resulting matrices easier to inspect.\n",
        "* NormalPredictor\n",
        "   Algorithm predicting a random rating based on the distribution of the training set, which is assumed to be normal. The prediction $\\hat{r}_{ui}$ iis generated from a normal distribution $N(\\hat{\\mu},\\hat{\\sigma}^2)$ where $\\mu$ and $\\hat{\\sigma}^2$ are estimated from training data using Maximum Likelihood Estimations:\n",
        "     $$\\hat{\\mu}=\\frac{1}{|R_{train}|}\\sum_{r_{ui}\\in R_{train}}r_{ui}\n",
        "     $$\n",
        "   $$ \\hat{\\sigma}=\\sqrt{\\sum\\frac{(r_{ui}-\\hat{\\mu})^2}{|R_{train}|}}$$\n",
        "    \n",
        "* BasenlineOnlY\n",
        "\n",
        "    A baseline is a method that uses heuristics, simple summary statistics, randomness, or machine learning to create predictions for a dataset.\n",
        "* CoClustering\n",
        "\n",
        "    Biclustering algorithms simultaneously cluster rows and columns of a data matrix. These clusters of rows and columns are known as biclusters. Each determines a submatrix of the original data matrix with some desired properties."
      ],
      "metadata": {
        "id": "mreGXzi9eaYD"
      }
    },
    {
      "cell_type": "markdown",
      "source": [
        "## Data Preprocessing"
      ],
      "metadata": {
        "id": "xUXdBWGReaYE"
      }
    },
    {
      "cell_type": "code",
      "source": [
        "from surprise import Dataset, Reader\n",
        "from sklearn.model_selection import train_test_split\n",
        "\n",
        "# Assuming you have a DataFrame named df_train\n",
        "# Setting rating scale\n",
        "reader = Reader(rating_scale=(0.5, 5))\n",
        "\n",
        "# Parsing df_train\n",
        "data = Dataset.load_from_df(df_train[['userId', 'movieId', 'rating']], reader)\n",
        "\n",
        "trainset = data.build_full_trainset()\n",
        "\n",
        "# Creating dummy rating column for df_test\n",
        "df_test['rating'] = 0\n",
        "\n",
        "# Parsing df_test\n",
        "test_processed = Dataset.load_from_df(df_test[['userId', 'movieId', 'rating']], reader)\n",
        "\n",
        "# Converting test dataframe to list of tuples\n",
        "train, test = train_test_split(test_processed, test_size=1.0, shuffle=False)\n"
      ],
      "metadata": {
        "execution": {
          "iopub.status.busy": "2024-02-01T14:32:28.701977Z",
          "iopub.status.idle": "2024-02-01T14:32:28.702226Z",
          "shell.execute_reply.started": "2024-02-01T14:32:28.702103Z",
          "shell.execute_reply": "2024-02-01T14:32:28.702115Z"
        },
        "trusted": true,
        "id": "MmrvkR6TeaYE"
      },
      "execution_count": null,
      "outputs": []
    },
    {
      "cell_type": "markdown",
      "source": [
        "## Model Comparison\n",
        "### Evaluation Metrics:Root Mean Squared Error(RMSE)\n",
        "Assesses the performance of the model by using the average deviation between of the predicted outcome from the actual come. It is given by the square root of the average squared distance between the predicted outcome and the actual outcome. The range of rmse is $\\mathbb{R}^{+}$ (positive real numbers). Smaller values represent a better fit. The formula is given by:\n",
        "$$RMSE=\\sqrt{\\frac{\\sum_{i}^{n}(y_i-\\hat{y}_i)^2}{N}}$$\n",
        "where:\n",
        " * $y_i$ is the actual outcome of the $i^{th}$ observation\n",
        " * $\\hat{y}_i$ is the predicted outcome of the $i^{th}$ observation\n",
        " * N number of observations"
      ],
      "metadata": {
        "id": "7-8wNcDteaYF"
      }
    },
    {
      "cell_type": "code",
      "source": [
        "# # Apply your modelling here\n",
        "def train_multi(data, model_list):\n",
        "    \"\"\"This functions trains multiple models\n",
        "    @data : surprise dataframe\n",
        "    @model_list : list of models to be trained\n",
        "    returns : a dataframe containing the average rmse of each model, train_fit_time, test_fit_time\n",
        "    \"\"\"\n",
        "\n",
        "    benchmark = []\n",
        "    # Iterate over all algorithms\n",
        "    for model in model_list:\n",
        "        # Perform cross validation\n",
        "        results = cross_validate(model, data, measures=['RMSE'], cv=3, verbose=False)\n",
        "\n",
        "        # Get results & append algorithm name\n",
        "        tmp = pd.DataFrame.from_dict(results).mean(axis=0)\n",
        "        tmp = tmp.append(pd.Series([str(model).split(' ')[0].split('.')[-1]], index=['model']))\n",
        "        benchmark.append(tmp)\n",
        "    return pd.DataFrame(benchmark).set_index('model').sort_values('test_rmse')\n",
        "\n",
        "df_results = train_multi(data, model_list = [SVD(),\n",
        "                                             NMF(),\n",
        "                                             NormalPredictor(),\n",
        "                                             BaselineOnly(),\n",
        "                                             CoClustering()])\n",
        "df_results"
      ],
      "metadata": {
        "execution": {
          "iopub.status.busy": "2024-02-01T14:32:28.702989Z",
          "iopub.status.idle": "2024-02-01T14:32:28.703237Z",
          "shell.execute_reply.started": "2024-02-01T14:32:28.703115Z",
          "shell.execute_reply": "2024-02-01T14:32:28.703127Z"
        },
        "trusted": true,
        "id": "8X5J3B3ieaYF"
      },
      "execution_count": null,
      "outputs": []
    },
    {
      "cell_type": "code",
      "source": [
        "plot = plt.figure(figsize=(15, 10))\n",
        "a = sns.barplot(x=df_results.index,y='test_rmse',data=df_results, palette='crest')\n",
        "a.set_ylabel('Average RMSE',fontsize=15)\n",
        "a.set_xlabel('Model Name',fontsize=15)\n",
        "a.set_title('The Average RMSE of Each Model', fontsize=15)\n",
        "for i in a.patches:\n",
        "    # get_x pulls left or right; get_height pushes up or down\n",
        "    a.text(i.get_x()+i.get_width() / 2, i.get_height()+0.01, \\\n",
        "            str(round(i.get_height(), 3)), fontsize=15,\n",
        "                color='black',ha='center')\n",
        ""
      ],
      "metadata": {
        "execution": {
          "iopub.status.busy": "2024-02-01T14:32:28.704122Z",
          "iopub.status.idle": "2024-02-01T14:32:28.704393Z",
          "shell.execute_reply.started": "2024-02-01T14:32:28.704264Z",
          "shell.execute_reply": "2024-02-01T14:32:28.704277Z"
        },
        "trusted": true,
        "id": "dHjH07s5eaYG"
      },
      "execution_count": null,
      "outputs": []
    },
    {
      "cell_type": "markdown",
      "source": [
        "* SVD had the lowest average RMSE\n",
        "* Normal Predictor was the worst performing model. It had the highest RMSE.\n",
        "* SVD, BaselineOnly, NMF, and Coclustering were not far away from each other in terms of performance"
      ],
      "metadata": {
        "id": "rupvWcQseaYG"
      }
    },
    {
      "cell_type": "code",
      "source": [
        "del df_results, test_processed, train_multi\n",
        "gc.collect()"
      ],
      "metadata": {
        "execution": {
          "iopub.status.busy": "2024-02-01T14:32:28.705206Z",
          "iopub.status.idle": "2024-02-01T14:32:28.705512Z",
          "shell.execute_reply.started": "2024-02-01T14:32:28.705371Z",
          "shell.execute_reply": "2024-02-01T14:32:28.705384Z"
        },
        "trusted": true,
        "id": "5Ju06cbreaYH"
      },
      "execution_count": null,
      "outputs": []
    },
    {
      "cell_type": "markdown",
      "source": [
        "## Model Validation And Tuning\n",
        "We manually tuned the different hyperparameters and the following produced the lowest rmse in the validation set. We then fitted the best model on a subset of the data and assessed the performance by looking the distribution of predicted ratings given their actual ratings."
      ],
      "metadata": {
        "id": "fb5j8FnteaYI"
      }
    },
    {
      "cell_type": "code",
      "source": [
        "train, val = train_test_split(data,test_size=0.3, random_state=2)\n",
        "svd = SVD(n_epochs=40,\n",
        "          random_state=0,\n",
        "          lr_all=0.0057,\n",
        "          n_factors=400,\n",
        "          reg_all=0.025,\n",
        "          init_std_dev=0.005)\n",
        "\n",
        "svd.fit(train)"
      ],
      "metadata": {
        "execution": {
          "iopub.status.busy": "2024-02-01T14:32:28.706121Z",
          "iopub.status.idle": "2024-02-01T14:32:28.706399Z",
          "shell.execute_reply.started": "2024-02-01T14:32:28.706241Z",
          "shell.execute_reply": "2024-02-01T14:32:28.706273Z"
        },
        "trusted": true,
        "id": "kxk1Wd5deaYJ"
      },
      "execution_count": null,
      "outputs": []
    },
    {
      "cell_type": "code",
      "source": [
        "val_predictions = svd.test(val)\n",
        "val_rating_prediction = [i.est for i in val_predictions]\n",
        "df_val = pd.DataFrame(val, columns=['userId','movieId','rating'])\n",
        "df_eval = pd.DataFrame({'actual_rating' : df_val['rating'], 'predicted_rating' : val_rating_prediction})"
      ],
      "metadata": {
        "execution": {
          "iopub.status.busy": "2024-02-01T14:32:28.707116Z",
          "iopub.status.idle": "2024-02-01T14:32:28.707379Z",
          "shell.execute_reply.started": "2024-02-01T14:32:28.707238Z",
          "shell.execute_reply": "2024-02-01T14:32:28.707266Z"
        },
        "trusted": true,
        "id": "CLkZdgqReaYJ"
      },
      "execution_count": null,
      "outputs": []
    },
    {
      "cell_type": "markdown",
      "source": [
        "**How Good Our Algorithm at Predicting Ratings?**"
      ],
      "metadata": {
        "id": "D4f0DMOweaYJ"
      }
    },
    {
      "cell_type": "code",
      "source": [
        "plt.figure(figsize=(15,10))\n",
        "box = sns.violinplot(x='actual_rating',y='predicted_rating',data=df_eval, palette='crest')\n",
        "box.set_title('The Distribution of Predicted Ratings Given Actual Ratings')\n",
        "plt.show()"
      ],
      "metadata": {
        "execution": {
          "iopub.status.busy": "2024-02-01T14:32:28.707985Z",
          "iopub.status.idle": "2024-02-01T14:32:28.708233Z",
          "shell.execute_reply.started": "2024-02-01T14:32:28.70811Z",
          "shell.execute_reply": "2024-02-01T14:32:28.708122Z"
        },
        "trusted": true,
        "id": "EzTCSMsfeaYK"
      },
      "execution_count": null,
      "outputs": []
    },
    {
      "cell_type": "markdown",
      "source": [
        "Our algorithm is not very good at predicting movies with very low ratings. As the ratings increase it does a better job, this can be seen by the narrow the distributions get as the actual rating is increasing."
      ],
      "metadata": {
        "id": "qnhalKm9eaYK"
      }
    },
    {
      "cell_type": "code",
      "source": [
        "del data,train,val_predictions, val_rating_prediction, df_val, df_eval, svd,box\n",
        "gc.collect()"
      ],
      "metadata": {
        "execution": {
          "iopub.status.busy": "2024-02-01T14:32:28.709065Z",
          "iopub.status.idle": "2024-02-01T14:32:28.709361Z",
          "shell.execute_reply.started": "2024-02-01T14:32:28.709196Z",
          "shell.execute_reply": "2024-02-01T14:32:28.709208Z"
        },
        "trusted": true,
        "id": "0swntmxGeaYK"
      },
      "execution_count": null,
      "outputs": []
    },
    {
      "cell_type": "markdown",
      "source": [
        "##  Model fitting"
      ],
      "metadata": {
        "id": "blgJk6A6eaYV"
      }
    },
    {
      "cell_type": "markdown",
      "source": [
        "## Training Our Best Model On Full Dataset"
      ],
      "metadata": {
        "id": "dm2wbtLleaYW"
      }
    },
    {
      "cell_type": "code",
      "source": [
        "svd = SVD(n_epochs=40,\n",
        "          random_state=0,\n",
        "          lr_all=0.0057,\n",
        "          n_factors=400,\n",
        "          reg_all=0.025,\n",
        "          init_std_dev=0.005)\n",
        "\n",
        "svd.fit(trainset)\n"
      ],
      "metadata": {
        "execution": {
          "iopub.status.busy": "2024-02-01T14:32:28.710098Z",
          "iopub.status.idle": "2024-02-01T14:32:28.710385Z",
          "shell.execute_reply.started": "2024-02-01T14:32:28.710222Z",
          "shell.execute_reply": "2024-02-01T14:32:28.710234Z"
        },
        "trusted": true,
        "id": "LKm4iLYNeaYX"
      },
      "execution_count": null,
      "outputs": []
    },
    {
      "cell_type": "markdown",
      "source": [
        "## Making  a submission"
      ],
      "metadata": {
        "id": "25-Do3M_eaYX"
      }
    },
    {
      "cell_type": "code",
      "source": [
        "# saving final model\n",
        "# filename = 'svd_model.pkl'\n",
        "# pickle.dump(svd, open(filename, 'wb'))\n",
        "\n",
        "#saving file as csv\n",
        "df_predictions.to_csv('submissio30.csv', index=False)"
      ],
      "metadata": {
        "execution": {
          "iopub.status.busy": "2024-02-01T14:32:28.711214Z",
          "iopub.status.idle": "2024-02-01T14:32:28.711497Z",
          "shell.execute_reply.started": "2024-02-01T14:32:28.711365Z",
          "shell.execute_reply": "2024-02-01T14:32:28.711378Z"
        },
        "trusted": true,
        "id": "o11-XcQseaYY"
      },
      "execution_count": null,
      "outputs": []
    },
    {
      "cell_type": "code",
      "source": [
        "del predictions, rating_prediction, df_predictions,svd, trainset\n",
        "gc.collect()"
      ],
      "metadata": {
        "execution": {
          "iopub.status.busy": "2024-02-01T14:32:28.712353Z",
          "iopub.status.idle": "2024-02-01T14:32:28.712617Z",
          "shell.execute_reply.started": "2024-02-01T14:32:28.712486Z",
          "shell.execute_reply": "2024-02-01T14:32:28.712499Z"
        },
        "trusted": true,
        "id": "yy1OvWYaeaYY"
      },
      "execution_count": null,
      "outputs": []
    },
    {
      "cell_type": "markdown",
      "source": [
        "## Model evaluation"
      ],
      "metadata": {
        "id": "HvTCiN1BeaYZ"
      }
    },
    {
      "cell_type": "markdown",
      "source": [
        "## content Based Models\n",
        "As stated earlier on, collaborative filtering algorithms suffer from the cold start phenomenon. Content based algorithms address this issue by looking at common attributes between movies and ranking them according to their relative similarities. The downside to using a content based is reduced diversity in suggestions compared to collaborative based algorithm. Note: We didn't use the content based approach to predict ratings but only used to make recommendations given the title of the movie.\n"
      ],
      "metadata": {
        "id": "p8sNebTIeaYZ"
      }
    },
    {
      "cell_type": "markdown",
      "source": [
        "We are going to be using the following features:\n",
        "* genres\n",
        "* 3 leading actors\n",
        "* director\n",
        "* plot_keywords\n",
        "* tag\n"
      ],
      "metadata": {
        "id": "9mQ1nfb5eaYZ"
      }
    },
    {
      "cell_type": "code",
      "source": [],
      "metadata": {
        "id": "aiKXgi65eaYa"
      },
      "execution_count": null,
      "outputs": []
    },
    {
      "cell_type": "markdown",
      "source": [
        "## Data Preprocessing\n",
        "We noticed that the tags dataframe contained multiple tags on the same movie but at different timestamps and so we joined all the tags with the same movie id. Before doing this, we converted all the tags to lowercase.\n",
        "\n",
        "We merged merged df_movies,df_imdb and df_grouped_tags to have title,genre,title_cast, director, plot_keywords, and tags in one dataframe. After merging the dataframes we proceeded to clean the individual columns:\n",
        "\n",
        "* For the title column, we removed the years and converted the all the words to lowercase. Furthermore we removed any leading and trailing white spaces from the column.  This makes makes it easy for the user to specify the title.\n",
        "* For the genres column, we first ensured that everything is in string format, replaced vertical bars with spaces and finally converted all the words to lowercase.\n",
        "* For the title_cast column, we ensured that everything is in string format, we joined the names and surnames of the title cast members. Created a list containing the cast members names+surname using vertical bars as separators. We then obtained the first 3 elements of the list created above and joined them using space and finally we converted everything to lowercase.\n",
        "* For the directors column, we joined the names and surnames together, then removed commas and dashes from names (for names like David O. Russel and Kim Ki-duk). Finally, converted everything to lowercase.\n",
        "* For plot_keywords, words were already lowercase so we replaced the vertical bars with spaces.\n",
        "* We created a column that joins (soups) the columns above using spaces.\n",
        "\n"
      ],
      "metadata": {
        "id": "N9Iyc-OJeaYa"
      }
    },
    {
      "cell_type": "code",
      "source": [
        "def tags_preprocess(df_tags):\n",
        "    \"\"\"This function takes in df_tags and combines the tags together based on their movieIds\n",
        "    @df_tag : dataframe containing tags\n",
        "\n",
        "    returns : dataframe containing joined tags\n",
        "    \"\"\"\n",
        "\n",
        "    #convert all the tags to strings and lower case them\n",
        "    df_tags['tag'] = df_tags['tag'].map(str).str.lower()\n",
        "\n",
        "    #grouping tags based on movieId\n",
        "    df_grouped_tags = df_tags.groupby('movieId')['tag'].apply(' '.join).reset_index()\n",
        "\n",
        "    return df_grouped_tags\n",
        "\n",
        "\n",
        "def threeway_merge(df1,df2,df3,column):\n",
        "    \"\"\"This function takes in 3 dataframe and merges them together based on the same column\n",
        "\n",
        "     @df1 : first dataframe\n",
        "     @df2 : second dataframe\n",
        "     @df3 : third dataframe\n",
        "     @column : joining column, type str\n",
        "\n",
        "     returns : merged dataframe\n",
        "     \"\"\"\n",
        "\n",
        "    #merging the first df and second df\n",
        "    df_merged_prelim = pd.merge(df1, df2, on=column)\n",
        "\n",
        "    #joining preliminary df to df3\n",
        "    df_merged = pd.merge(df_merged_prelim,df3, on=column)\n",
        "\n",
        "    return df_merged\n",
        "\n",
        "\n",
        "def column_cleaner(df_movie_imdb_tag):\n",
        "    \"\"\"This function is for cleaning the individual columns based on their attributes\n",
        "\n",
        "    @df_movie_imdb_tag : dataframe containing movie attributions\n",
        "    returns : cleaned dataframe\n",
        "    \"\"\"\n",
        "\n",
        "    \"\"\"The next section is for cleaning the title column\n",
        "    \"\"\"\n",
        "    #removing the years\n",
        "    pattern = r'\\(+[0-9]+\\)'\n",
        "    df_movie_imdb_tag['title'] = df_movie_imdb_tag['title'].apply(lambda x: re.sub(pattern, '', str(x)))\n",
        "\n",
        "    #leading and trailing white spaces\n",
        "    df_movie_imdb_tag['title'] = df_movie_imdb_tag['title'].apply(lambda x: x.strip())\n",
        "\n",
        "    #lowercasing\n",
        "    df_movie_imdb_tag['title'] = df_movie_imdb_tag['title'].str.lower()\n",
        "\n",
        "\n",
        "    \"\"\"This part of the function is for cleaning genres column\n",
        "    \"\"\"\n",
        "    #replace separators with space\n",
        "    pattern = r'\\|'\n",
        "    df_movie_imdb_tag['genres'] = df_movie_imdb_tag['genres'].apply(lambda x: re.sub(pattern, ' ', str(x)))\n",
        "\n",
        "    #lowercase\n",
        "    df_movie_imdb_tag['genres'] = df_movie_imdb_tag['genres'].str.lower()\n",
        "\n",
        "\n",
        "    \"\"\"This cleans and retrieves and the lead actor/actress from the title_cast\n",
        "    \"\"\"\n",
        "    #converting to string\n",
        "    df_movie_imdb_tag['title_cast'] = df_movie_imdb_tag['title_cast'].apply(lambda x : str(x))\n",
        "\n",
        "    #removing space\n",
        "    pattern = r'\\s{1,}'\n",
        "    df_movie_imdb_tag['title_cast'] = df_movie_imdb_tag['title_cast'].apply(lambda x: re.sub(pattern, ' ', str(x)))\n",
        "\n",
        "    #creating list of cast members based on separator\n",
        "    df_movie_imdb_tag['title_cast'] = df_movie_imdb_tag['title_cast'].str.split('|')\n",
        "\n",
        "    #taking first 5 itema of list\n",
        "    df_movie_imdb_tag['title_cast'] =  df_movie_imdb_tag['title_cast'].apply(lambda x: x[:3])\n",
        "\n",
        "    #joining the first 5 items with spaces\n",
        "    df_movie_imdb_tag['title_cast'] =  df_movie_imdb_tag['title_cast'].apply(lambda x: \" \".join(x))\n",
        "\n",
        "    #lowercasing\n",
        "    df_movie_imdb_tag['title_cast'] = df_movie_imdb_tag['title_cast'].str.lower()\n",
        "\n",
        "    #renaming column\n",
        "    df_movie_imdb_tag.rename(columns ={'title_cast':'three_lead_actors'},inplace = True)\n",
        "\n",
        "    \"\"\"This part of the function cleans the directors column\n",
        "    \"\"\"\n",
        "    #removing spaces\n",
        "    pattern = r'\\s{1,}'\n",
        "    df_movie_imdb_tag['director'] = df_movie_imdb_tag['director'].apply(lambda x: re.sub(pattern, '', str(x)))\n",
        "\n",
        "    # removing commas and dashes\n",
        "    pattern = r'\\.|\\-'\n",
        "    df_movie_imdb_tag['director'] = df_movie_imdb_tag['director'].apply(lambda x: re.sub(pattern, '', x))\n",
        "\n",
        "    #lowercasing\n",
        "    df_movie_imdb_tag['director'] = df_movie_imdb_tag['director'].str.lower()\n",
        "\n",
        "    \"\"\"This part of the function cleans the plot_keywords\n",
        "    \"\"\"\n",
        "    #replacing separator with spaces\n",
        "    pattern = r'\\|'\n",
        "    df_movie_imdb_tag['plot_keywords'] = df_movie_imdb_tag['plot_keywords'].apply(lambda x: re.sub(pattern, ' ', str(x)))\n",
        "\n",
        "    return df_movie_imdb_tag\n",
        "\n",
        "def column_combiner(df,colname1,colname2,colname3,colname4,colname5):\n",
        "    \"\"\"This function takes in a dataframe and columns to be combined\n",
        "    \"\"\"\n",
        "    df['documents'] = df[colname1]+\" \"+df[colname2]+\" \"+df[colname3]+\" \"+df[colname4]+\" \"+df[colname5]\n",
        "    return df\n"
      ],
      "metadata": {
        "execution": {
          "iopub.status.busy": "2024-02-01T14:32:28.713492Z",
          "iopub.status.idle": "2024-02-01T14:32:28.713746Z",
          "shell.execute_reply.started": "2024-02-01T14:32:28.713621Z",
          "shell.execute_reply": "2024-02-01T14:32:28.713634Z"
        },
        "trusted": true,
        "id": "8b-V0rO6eaYa"
      },
      "execution_count": null,
      "outputs": []
    },
    {
      "cell_type": "code",
      "source": [
        "df_grouped_tags = tags_preprocess(df_tags)\n",
        "df_movie_imdb_tag =  threeway_merge(df_movies, df_imdb, df_grouped_tags, 'movieId')\n",
        "df_movie_imdb_tag = column_cleaner(df_movie_imdb_tag)\n",
        "df_movie_imdb_tag2 = column_combiner(df_movie_imdb_tag, 'genres','three_lead_actors', 'director','plot_keywords','tag')[['title','documents']]\n",
        "df_movie_imdb_tag2.head()"
      ],
      "metadata": {
        "execution": {
          "iopub.status.busy": "2024-02-01T14:32:28.714653Z",
          "iopub.status.idle": "2024-02-01T14:32:28.714907Z",
          "shell.execute_reply.started": "2024-02-01T14:32:28.714781Z",
          "shell.execute_reply": "2024-02-01T14:32:28.714793Z"
        },
        "trusted": true,
        "id": "V_AEi1B8eaYb"
      },
      "execution_count": null,
      "outputs": []
    },
    {
      "cell_type": "code",
      "source": [
        "del df_grouped_tags, df_movie_imdb_tag, df_train, df_imdb, df_tags, df_movies, df_genome_tags, df_genome_scores, df_links, df_sample_submission, df_test\n",
        "gc.collect()"
      ],
      "metadata": {
        "execution": {
          "iopub.status.busy": "2024-02-01T14:32:28.715624Z",
          "iopub.status.idle": "2024-02-01T14:32:28.715888Z",
          "shell.execute_reply.started": "2024-02-01T14:32:28.715759Z",
          "shell.execute_reply": "2024-02-01T14:32:28.715772Z"
        },
        "trusted": true,
        "id": "jaAfXXnpeaYb"
      },
      "execution_count": null,
      "outputs": []
    },
    {
      "cell_type": "markdown",
      "source": [
        "## Feature Extraction: Term Frequency Inverse Document Frequency(TF-IDF)\n",
        "Term Frequency Inverse Document Frequency is a statistic that measures how important a a word is in a document while taking into consideration how many times it appears in other documents.\n",
        "\n",
        "The reason for doing this is:\n",
        "* If a word appears in a document then it is more likely to contain information about that document\n",
        "* If a word is scattered throughout the whole document it is unlikely to contain information distinguishing the various documents\n",
        "\n",
        "\n",
        "The calculation tf-idf can be broken into 4 parts:\n",
        "1. Calculate the term frequency:\n",
        "\n",
        "$$ft(w,d) = \\log{\\left[1+f(w,d)\\right]}$$\n",
        "*  Where:\n",
        " * $f(w,d)$ measures how frequently a word $w$ appears in document $d$\n",
        "2. Calculate the inverse term frequency:\n",
        "$$idf(w,D) = \\log{\\left[\\frac{N}{f(w,D)}\\right]}$$\n",
        "* Where:\n",
        " * $N$ is the number of documents in our corpus\n",
        " * $D$ is a set containing all the documents in our corpus\n",
        " * $f(w,D)$ is the number documents that contain $w$.\n",
        "3. We combine the above to form tf-idf - Term Frequency - Inverse Document Frequency:\n",
        "$$tf-idf = tf(w,d)\\times idf(w,D)$$\n",
        "\n",
        "4. Finally, we get a vectorized vesion of all the documents in our corpus\n",
        "\n",
        "Drawbacks:\n",
        "* Not able to capture semantics\n",
        "\n",
        "# <div style=\"width:100%;text-align: center;\"> <img align=middle src=\"https://www.oreilly.com/library/view/applied-text-analysis/9781491963036/assets/atap_0404.png\" alt=\"Heat beating\" style=\"height:300px;margin-top:3rem;\"> </div>"
      ],
      "metadata": {
        "id": "zmXFfT8YeaYc"
      }
    },
    {
      "cell_type": "code",
      "source": [
        "# from sklearn.feature_extraction.text import CountVectorizer\n",
        "from sklearn.feature_extraction.text import TfidfVectorizer\n",
        "vectorizer = TfidfVectorizer()\n",
        "feature_vector = vectorizer.fit_transform(df_movie_imdb_tag2['documents'])\n",
        "feature_vector.shape"
      ],
      "metadata": {
        "execution": {
          "iopub.status.busy": "2024-02-01T14:32:28.717873Z",
          "iopub.status.idle": "2024-02-01T14:32:28.718475Z",
          "shell.execute_reply.started": "2024-02-01T14:32:28.718212Z",
          "shell.execute_reply": "2024-02-01T14:32:28.718235Z"
        },
        "trusted": true,
        "id": "LC797TvIeaYc"
      },
      "execution_count": null,
      "outputs": []
    },
    {
      "cell_type": "markdown",
      "source": [
        "## Cosine Similarity\n",
        "This a similarity measure that uses the angle between vectors. For this project we created a mapped our documents to vectors using tf-idf and we are going to find how similar the documents are based on their tf-idf vector representation. The cosine similarity score is in the range  [0,1] (It can not be negative since the angle between the term frequencies can not be greater than 90$^\\circ$. Values close to 1 represent a high degree of similarity and values close to zero represent the opposite. The cosine similarity between two vectors $\\bar{x}$ and $\\bar{y}$ in p dimensional space is:\n",
        "$$sim(\\bar{x},\\bar{y}) = \\cos{(\\theta)}=\\frac{\\bar{x}. \\bar{y}}{|\\bar{x}|\\times|\\bar{y}|}=\\frac{\\sum_{i}^{p}x_i\\times y_i}{\\sqrt{\\sum_i^px_{i}^{2}}\\times \\sqrt{\\sum_i^py_{i}^{2}}}$$\n",
        "where:\n",
        " * $\\bar{x}.\\bar{y}$ is the dot product of $\\bar{x}$ and $\\bar{y}$\n",
        " * $|\\bar{x}|$ and $|\\bar{y}|$ are the euclidean norms (euclidean distance from origin point) of $\\bar{x}$ and $\\bar{y}$ respectively\n",
        "\n",
        "\n",
        "<div style=\"width:100%;text-align: center;\"> <img align=middle src=\"https://raw.githubusercontent.com/nkonyanihlulani/pictures/main/3d_projection.png\" style=\"height:300px;margin-top:3rem;\"> </div>"
      ],
      "metadata": {
        "id": "Ykvqf5NbeaYd"
      }
    },
    {
      "cell_type": "code",
      "source": [
        "# Compute the cosine similarity matrix\n",
        "cosine_sim = linear_kernel(feature_vector, feature_vector)"
      ],
      "metadata": {
        "execution": {
          "iopub.status.busy": "2024-02-01T14:32:28.719905Z",
          "iopub.status.idle": "2024-02-01T14:32:28.720364Z",
          "shell.execute_reply.started": "2024-02-01T14:32:28.720128Z",
          "shell.execute_reply": "2024-02-01T14:32:28.720147Z"
        },
        "trusted": true,
        "id": "b_NpVCyfeaYe"
      },
      "execution_count": null,
      "outputs": []
    },
    {
      "cell_type": "markdown",
      "source": [
        "## Sample Recommendations"
      ],
      "metadata": {
        "id": "HdU2VzzweaYh"
      }
    },
    {
      "cell_type": "code",
      "source": [
        "def get_recommendations(title, cosine_sim=cosine_sim):\n",
        "\n",
        "    # Get the index of the movie that matches the title\n",
        "    indices = pd.DataFrame(df_movie_imdb_tag2.index, columns=['movie_index'], index=df_movie_imdb_tag2['title'])\n",
        "    indices = indices[~indices.index.duplicated()]\n",
        "    if title not in indices.index:\n",
        "        return print(\"Oops! Are you sure you have the right name?\")\n",
        "    else:\n",
        "        idx = indices['movie_index'][title]\n",
        "\n",
        "        # Get the pairwsie similarity scores of all movies with that movie\n",
        "        sim_scores = list(enumerate(cosine_sim[idx]))\n",
        "\n",
        "        # Sort the movies based on the similarity scores\n",
        "        sim_scores = sorted(sim_scores, key=lambda x: x[1], reverse=True)\n",
        "\n",
        "        # Get the scores of the 10 most similar movies\n",
        "        sim_scores = sim_scores[1:11]\n",
        "\n",
        "        # Get the movie indices\n",
        "        movie_indices = [i[0] for i in sim_scores]\n",
        "\n",
        "        # Return the top 10 most similar movies\n",
        "        return df_movie_imdb_tag2['title'].iloc[movie_indices]"
      ],
      "metadata": {
        "execution": {
          "iopub.status.busy": "2024-02-01T14:32:28.722163Z",
          "iopub.status.idle": "2024-02-01T14:32:28.722592Z",
          "shell.execute_reply.started": "2024-02-01T14:32:28.722368Z",
          "shell.execute_reply": "2024-02-01T14:32:28.722395Z"
        },
        "trusted": true,
        "id": "hsbQe4S4eaYh"
      },
      "execution_count": null,
      "outputs": []
    },
    {
      "cell_type": "markdown",
      "source": [
        "Now make time to make some recommendations"
      ],
      "metadata": {
        "id": "TjKyRkf5eaYi"
      }
    },
    {
      "cell_type": "code",
      "source": [
        "get_recommendations('prestige, the')"
      ],
      "metadata": {
        "execution": {
          "iopub.status.busy": "2024-02-01T14:32:28.723845Z",
          "iopub.status.idle": "2024-02-01T14:32:28.724243Z",
          "shell.execute_reply.started": "2024-02-01T14:32:28.724036Z",
          "shell.execute_reply": "2024-02-01T14:32:28.724055Z"
        },
        "trusted": true,
        "id": "7WdsO6QdeaYi"
      },
      "execution_count": null,
      "outputs": []
    },
    {
      "cell_type": "markdown",
      "source": [
        "## Conclusion\n",
        "Our mission was to create a movie recommender system. When created 2 models algorithms, one based of colaborative filtering and another one based on content filtering. For colaborative filtering we fitted several models, and svd produced the lowest root mean squared error. We tuned our model and received an rsme of 0.786. We used our content based algorithm whenever the user provides a movie title and it was able to recommend similar movies with great accuracy."
      ],
      "metadata": {
        "id": "c4BvMayQeaYj"
      }
    },
    {
      "cell_type": "code",
      "source": [],
      "metadata": {
        "id": "8zCxKxjBeaYj"
      },
      "execution_count": null,
      "outputs": []
    }
  ]
}